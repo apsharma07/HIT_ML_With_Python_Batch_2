{
 "cells": [
  {
   "cell_type": "markdown",
   "id": "d566c293-2088-44ef-b7cf-fe89dbb851e8",
   "metadata": {},
   "source": [
    "# **Coding Practices**"
   ]
  },
  {
   "cell_type": "code",
   "execution_count": null,
   "id": "2cd5d157-ac27-472d-9ae3-5779cf829b1d",
   "metadata": {},
   "outputs": [],
   "source": [
    "# https://www.codechef.com/PRACTICE/problems/CATSDOGS\n",
    "t = int(input())\n",
    "for i in range(t):\n",
    "    c, d, l = list(map(int, input().split(\" \")))\n",
    "    min_limit = d * 4 if (c <= 2 * d) else (d + (c - 2 * d)) * 4\n",
    "    max_Limit = (d + c) * 4\n",
    "    if (l >= min_limit and l <= max_Limit and l % 4 == 0):\n",
    "        print(\"yes\")\n",
    "    else:\n",
    "        print(\"no\")"
   ]
  },
  {
   "cell_type": "code",
   "execution_count": null,
   "id": "4d3a7450-7e8a-4514-beee-1dbf993ed205",
   "metadata": {},
   "outputs": [],
   "source": [
    "# https://www.codechef.com/practice/course/2-star-difficulty-problems/DIFF1500/problems/PIPSQUIK\n",
    "\n",
    "Type-1: if (h - y1) <= x  (Upper Barrier)\n",
    "Type-2: if (y2 >= x)      (Lower Barrier)\n",
    "otherwise if (f >= 1): f = f - 1\n",
    "N, H, Y1​, Y2 and L."
   ]
  },
  {
   "cell_type": "code",
   "execution_count": null,
   "id": "88ea7c4e-729a-4574-a0d9-8cbe0e46943f",
   "metadata": {},
   "outputs": [],
   "source": [
    "# https://www.codechef.com/practice/course/2-star-difficulty-problems/DIFF1500/problems/PIPSQUIK\n",
    "t = int(input())\n",
    "for i in range(t):\n",
    "    n, h, y1, y2, l = list(map(int, input().split(\" \")))\n",
    "    b = 0\n",
    "    for j in range(n):\n",
    "        ty, x = list(map(int, input().split(\" \")))\n",
    "        if (ty == 1 and (h - y1) > x): l -= 1\n",
    "        elif (ty == 2 and (y2 < x)): l -= 1\n",
    "        if (l > 0): b += 1\n",
    "    print (b)"
   ]
  },
  {
   "cell_type": "code",
   "execution_count": 3,
   "id": "bf944eb1-ea1d-42b5-bb4a-2fa36116e990",
   "metadata": {},
   "outputs": [
    {
     "name": "stdout",
     "output_type": "stream",
     "text": [
      "False False True\n",
      "False True False\n",
      "True False False\n"
     ]
    }
   ],
   "source": [
    "set1 = {1, 2, 3}\n",
    "set2 = {4, 5, 6, 7, 8, 9, 10}\n",
    "set3 = {6, 7, 8}\n",
    "print (set1.issubset(set2), set2.issubset(set3), set3.issubset(set2))\n",
    "print (set1.issuperset(set2), set2.issuperset(set3), set3.issuperset(set2))\n",
    "print (set1.isdisjoint(set2), set2.isdisjoint(set3), set3.isdisjoint(set2))"
   ]
  },
  {
   "cell_type": "code",
   "execution_count": 6,
   "id": "829316c1-6ebf-42b2-a833-15d73c5dbd58",
   "metadata": {},
   "outputs": [
    {
     "name": "stdout",
     "output_type": "stream",
     "text": [
      "college {'o', 'g', 'e', 'l', 'c'}\n",
      "university {'s', 'y', 'n', 'e', 'i', 'u', 'v', 't', 'r'}\n",
      "universIty {'s', 'I', 'y', 'n', 'e', 'i', 'u', 'v', 't', 'r'}\n"
     ]
    }
   ],
   "source": [
    "mystr = \"college\"\n",
    "print (mystr, set(mystr))\n",
    "mystr = \"university\"\n",
    "print (mystr, set(mystr))\n",
    "mystr = \"universIty\"\n",
    "print (mystr, set(mystr))"
   ]
  },
  {
   "cell_type": "code",
   "execution_count": 9,
   "id": "eb1ae911-b9bc-4be0-801a-237f7b607b75",
   "metadata": {},
   "outputs": [
    {
     "name": "stdout",
     "output_type": "stream",
     "text": [
      "['Alaska', 'Dad']\n",
      "['adsdf', 'sfd']\n"
     ]
    }
   ],
   "source": [
    "# https://leetcode.com/problems/keyboard-row/\n",
    "class Solution(object):\n",
    "    def findWords(self, words):\n",
    "        \"\"\"\n",
    "        :type words: List[str]\n",
    "        :rtype: List[str]\n",
    "        \"\"\"\n",
    "        row1 = set(\"qwertyuiop\")\n",
    "        row2 = set(\"asdfghjkl\")\n",
    "        row3 = set(\"zxcvbnm\")\n",
    "        output_words = []\n",
    "        for myword in words:\n",
    "            word_set = set(myword.lower())\n",
    "            if (word_set.issubset(row1) or word_set.issubset(row2) or word_set.issubset(row3)):\n",
    "                output_words.append(myword)\n",
    "        return output_words\n",
    "            \n",
    "words = [\"Hello\",\"Alaska\",\"Dad\",\"Peace\"]\n",
    "print (Solution().findWords(words))\n",
    "words = [\"adsdf\",\"sfd\"]\n",
    "print (Solution().findWords(words))"
   ]
  },
  {
   "cell_type": "code",
   "execution_count": 1,
   "id": "8ba74770-7cfc-4a9d-9b2a-d1f062fbbc3a",
   "metadata": {},
   "outputs": [
    {
     "name": "stdin",
     "output_type": "stream",
     "text": [
      "Please enter the number of terms of the series: 12\n"
     ]
    },
    {
     "name": "stdout",
     "output_type": "stream",
     "text": [
      "For i = 1 adding term = 1...\n",
      "For i = 2 adding term = 2...\n",
      "For i = 3 adding term = 3...\n",
      "For i = 4 adding term = 4...\n",
      "For i = 5 adding ts = 10...\n",
      "For i = 6 adding term = 5...\n",
      "For i = 7 adding term = 6...\n",
      "For i = 8 adding term = 7...\n",
      "For i = 9 adding term = 8...\n",
      "For i = 10 adding ts = 26...\n",
      "For i = 11 adding term = 9...\n",
      "For i = 12 adding term = 10...\n",
      "So the final sum for 12 number of terms is 91...\n",
      "End of the program...\n"
     ]
    }
   ],
   "source": [
    "# Series Problem - 1\n",
    "#     i = 1   2   3   4   5    6   7   8   9   10   11  12 ...\n",
    "# total = 1 + 2 + 3 + 4 + 10 + 5 + 6 + 7 + 8 + 26 + 9 + 10 + ...\n",
    "\n",
    "# What will be the 99th term of this series? 99, 97,\n",
    "# Write a program in C++/Java/Python to print the first n terms of the series. Take integer n from the user.\n",
    "n = int(input(\"Please enter the number of terms of the series:\"))\n",
    "ts = fs = 0\n",
    "term = 1\n",
    "for i in range(1, n + 1):\n",
    "    if (i % 5 == 0):\n",
    "        fs = fs + ts\n",
    "        print(f\"For i = {i} adding ts = {ts}...\")\n",
    "        ts = 0\n",
    "    else:\n",
    "        fs = fs + term\n",
    "        ts = ts + term\n",
    "        print(f\"For i = {i} adding term = {term}...\")\n",
    "        term += 1\n",
    "print(f\"So the final sum for {n} number of terms is {fs}...\")\n",
    "print(\"End of the program...\")"
   ]
  },
  {
   "cell_type": "code",
   "execution_count": null,
   "id": "93607305-2c24-4bbb-bcc7-5243281e2e1b",
   "metadata": {},
   "outputs": [],
   "source": []
  },
  {
   "cell_type": "code",
   "execution_count": null,
   "id": "2fc33359-e517-4cc1-810d-fcfd030f5ed9",
   "metadata": {},
   "outputs": [],
   "source": []
  },
  {
   "cell_type": "code",
   "execution_count": null,
   "id": "f39bff9e-e230-40ba-ae46-b57ad9f03af4",
   "metadata": {},
   "outputs": [],
   "source": []
  }
 ],
 "metadata": {
  "kernelspec": {
   "display_name": "Python 3 (ipykernel)",
   "language": "python",
   "name": "python3"
  },
  "language_info": {
   "codemirror_mode": {
    "name": "ipython",
    "version": 3
   },
   "file_extension": ".py",
   "mimetype": "text/x-python",
   "name": "python",
   "nbconvert_exporter": "python",
   "pygments_lexer": "ipython3",
   "version": "3.11.7"
  }
 },
 "nbformat": 4,
 "nbformat_minor": 5
}
