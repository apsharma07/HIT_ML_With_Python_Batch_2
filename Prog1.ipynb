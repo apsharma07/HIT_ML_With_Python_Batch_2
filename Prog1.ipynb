{
 "cells": [
  {
   "cell_type": "markdown",
   "id": "370d3c1b-15d8-4fa1-97cf-e1e294ea296c",
   "metadata": {},
   "source": [
    "# **Triode Numbers**"
   ]
  },
  {
   "cell_type": "code",
   "execution_count": null,
   "id": "c8df4791-af43-4504-8811-05f336210c5e",
   "metadata": {},
   "outputs": [],
   "source": [
    "Find out all possible 3-digit Triode Numbers. Let x be a Triode Number.\n",
    "Then x, 2*x, and 3*x will have all distinct digits.\n",
    "As example,\n",
    "if x = 219, then 2*x = 438 and 3*x = 657\n",
    "if x = 192, then 2*x = 384 and 3*x = 576"
   ]
  },
  {
   "cell_type": "code",
   "execution_count": null,
   "id": "13d6a85e-ac96-497c-9078-c74290085689",
   "metadata": {},
   "outputs": [],
   "source": [
    "  x => 3\n",
    "2*x => 3    4\n",
    "3*x => 3,4  4\n",
    "x => 102 to 498"
   ]
  },
  {
   "cell_type": "code",
   "execution_count": 2,
   "id": "e8030729-4310-4041-8b7b-dbaf088d2fb9",
   "metadata": {},
   "outputs": [
    {
     "name": "stdout",
     "output_type": "stream",
     "text": [
      "192 384 576\n",
      "219 438 657\n",
      "267 534 801\n",
      "273 546 819\n",
      "327 654 981\n",
      "End of the program...\n"
     ]
    }
   ],
   "source": [
    "for x in range(102, 499):\n",
    "    trace = []\n",
    "    for i in range(1, 4):\n",
    "        num = i * x\n",
    "        while (num != 0):\n",
    "            last_digit = num % 10\n",
    "            if (last_digit not in trace): trace.append(last_digit)\n",
    "            else: break\n",
    "            num = num // 10\n",
    "        if (num != 0): break\n",
    "    if (num == 0): print (x, 2*x, 3*x)\n",
    "print (\"End of the program...\")"
   ]
  },
  {
   "cell_type": "code",
   "execution_count": 1,
   "id": "ba843cde-0a63-4aaa-bb94-5900a765533c",
   "metadata": {},
   "outputs": [
    {
     "name": "stdout",
     "output_type": "stream",
     "text": [
      "[0, 0, 0, 0, 0, 0, 0, 0, 0, 0]\n"
     ]
    }
   ],
   "source": [
    "trace = [0 for _ in range(10)]   # list comprehension, _ anonymous variable\n",
    "print (trace)"
   ]
  },
  {
   "cell_type": "code",
   "execution_count": 4,
   "id": "1aef82c8-845c-40d1-a3ab-25dbf32e30f7",
   "metadata": {},
   "outputs": [
    {
     "name": "stdout",
     "output_type": "stream",
     "text": [
      "mississippi {'s', 'p', 'i', 'm'}\n",
      "college {'o', 'l', 'g', 'c', 'e'}\n"
     ]
    }
   ],
   "source": [
    "mystr = \"mississippi\"\n",
    "print (mystr, set(mystr))\n",
    "mystr = \"college\"\n",
    "print (mystr, set(mystr))"
   ]
  },
  {
   "cell_type": "code",
   "execution_count": 9,
   "id": "d0f7865e-a6ff-4899-a10d-ba6f12b97e13",
   "metadata": {},
   "outputs": [
    {
     "name": "stdout",
     "output_type": "stream",
     "text": [
      "192 384 576 192384576 9 9\n",
      "219 438 657 219438657 9 9\n",
      "267 534 801 267534801 9 9\n",
      "273 546 819 273546819 9 9\n",
      "327 654 981 327654981 9 9\n",
      "End of the program...\n"
     ]
    }
   ],
   "source": [
    "for x in range(102, 499):\n",
    "    digit_str = str(x)+str(2*x)+str(3*x)\n",
    "    digit_len = len(digit_str)\n",
    "    digit_set_len = len(set(digit_str))\n",
    "    if(digit_len == digit_set_len):\n",
    "        print(x, 2*x, 3*x, digit_str, digit_len, digit_set_len)\n",
    "print(\"End of the program...\")"
   ]
  },
  {
   "cell_type": "markdown",
   "id": "f3caea3d-da68-411b-a30a-602a262f67ad",
   "metadata": {},
   "source": [
    "# **Digital Root**"
   ]
  },
  {
   "cell_type": "code",
   "execution_count": null,
   "id": "2797b0bd-c593-4be0-819b-a287bc585112",
   "metadata": {},
   "outputs": [],
   "source": [
    "Find the \"Digital Root\" of one user given integer number.\n",
    "if x = 103 => 1 + 0 + 3 = 4 (4 is the Digital Root of 103)\n",
    "if x = 164 => 1 + 6 + 4 = 11 => 1 + 1 = 2 (2 is the Digital Root of 164)\n",
    "if x = 199 => 1 + 9 + 9 = 19 => 1 + 9 = 10 => 1 + 0 = 1 (1 is the Digital Root of 199)"
   ]
  },
  {
   "cell_type": "code",
   "execution_count": 11,
   "id": "a9828ead-bc55-4988-b43d-629dd1ec40c0",
   "metadata": {},
   "outputs": [
    {
     "name": "stdin",
     "output_type": "stream",
     "text": [
      "Please enter one integer number: 199\n"
     ]
    },
    {
     "name": "stdout",
     "output_type": "stream",
     "text": [
      "Going again with 19...\n",
      "Going again with 10...\n",
      "So the digital root is 1...\n"
     ]
    }
   ],
   "source": [
    "num = int(input(\"Please enter one integer number:\"))\n",
    "digit_sum = 0\n",
    "while (num != 0):\n",
    "    last_digit = num % 10\n",
    "    digit_sum += last_digit\n",
    "    num = num // 10\n",
    "    if (num == 0 and digit_sum > 9):\n",
    "        num = digit_sum\n",
    "        digit_sum = 0\n",
    "        print (f\"Going again with {num}...\")\n",
    "print(f\"So the digital root is {digit_sum}...\")"
   ]
  },
  {
   "cell_type": "markdown",
   "id": "a497d100-400e-4d7b-87d9-ed1d75e552b2",
   "metadata": {},
   "source": [
    "# **Spiral Fillup of a Matrix**"
   ]
  },
  {
   "cell_type": "code",
   "execution_count": null,
   "id": "c8cfc2c0-068f-4c2c-ae45-9cd5d690a13b",
   "metadata": {},
   "outputs": [],
   "source": [
    "Spiral Fill Up:\n",
    "===============\n",
    "Fill up a matrix with dimension nxn (where n is user given integer number)\n",
    "with numbers ranging from 1 to n*n in a clockwise spiral way starting\n",
    "from top-left corner.     r => row, c => col, rr, cc => incr. and decr. factor along the row/col\n",
    "n = 5                     rr, cc <= 1, 0, -1     r = r + rr, c = c + cc   r = 0, c = 0, rr = 0, cc = 1\n",
    "      0   1   2   3   4     rr  cc   tt = rr     if (c == n)\n",
    "-------------------------  --------  rr = cc     if (r == n)\n",
    " 0 |  1   2   3   4   5      0   1   cc = -tt    if (c == -1)\n",
    " 1 | 16  17  18  19   6      1   0               if (arr[r][c] != 0)\n",
    " 2 | 15  24  25  20   7      0  -1   rr, cc = cc, -rr\n",
    " 3 | 14  23  22  21   8     -1   0\n",
    " 4 | 13  12  11  10   9     ------- \n",
    "-------------------------    0   1"
   ]
  },
  {
   "cell_type": "code",
   "execution_count": 5,
   "id": "a827f410-9642-427c-8c64-8650dcb026d2",
   "metadata": {},
   "outputs": [
    {
     "name": "stdin",
     "output_type": "stream",
     "text": [
      "Please enter the dimension of the matrix: 5\n"
     ]
    },
    {
     "name": "stdout",
     "output_type": "stream",
     "text": [
      "Initializing the matrix...\n",
      "Displaying the matrix...\n",
      "    1    2    3    4    5\n",
      "   16   17   18   19    6\n",
      "   15   24   25   20    7\n",
      "   14   23   22   21    8\n",
      "   13   12   11   10    9\n",
      "End of the program...\n"
     ]
    }
   ],
   "source": [
    "n = int(input(\"Please enter the dimension of the matrix:\"))\n",
    "arr = [[0 for col in range(n)] for row in range(n)]\n",
    "# print (arr)\n",
    "r = c = rr = 0; cc = 1\n",
    "print(\"Initializing the matrix...\")\n",
    "for i in range(1, n*n + 1):\n",
    "    arr[r][c] = i\n",
    "    tr = r + rr; tc = c + cc\n",
    "    if (tc == n or tr == n or tc == -1 or arr[tr][tc] != 0):\n",
    "        rr, cc = cc, -rr\n",
    "    r = r + rr; c = c + cc\n",
    "print(\"Displaying the matrix...\")\n",
    "for r in range(n):\n",
    "    for c in range(n):\n",
    "        print(\"%5d\"%arr[r][c], end = \"\")\n",
    "    print()\n",
    "print(\"End of the program...\")"
   ]
  },
  {
   "cell_type": "code",
   "execution_count": null,
   "id": "a901c44d-e2a6-4f2e-8eb4-c2726af7a828",
   "metadata": {},
   "outputs": [],
   "source": [
    "input n\n",
    "define array arr[n][n]\n",
    "r = 0; c = 0\n",
    "for i = 1 to n*n\n",
    "    arr[r][c] = i\n",
    "    update r, c\n",
    "display arr[][]\n",
    "end"
   ]
  },
  {
   "cell_type": "code",
   "execution_count": null,
   "id": "47023f05-b4ef-43e9-892e-cec2d146df60",
   "metadata": {},
   "outputs": [],
   "source": []
  }
 ],
 "metadata": {
  "kernelspec": {
   "display_name": "Python 3 (ipykernel)",
   "language": "python",
   "name": "python3"
  },
  "language_info": {
   "codemirror_mode": {
    "name": "ipython",
    "version": 3
   },
   "file_extension": ".py",
   "mimetype": "text/x-python",
   "name": "python",
   "nbconvert_exporter": "python",
   "pygments_lexer": "ipython3",
   "version": "3.11.7"
  }
 },
 "nbformat": 4,
 "nbformat_minor": 5
}
