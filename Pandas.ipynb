{
 "cells": [
  {
   "cell_type": "markdown",
   "id": "6400c5c6",
   "metadata": {
    "papermill": {
     "duration": 0.021173,
     "end_time": "2025-01-09T02:33:55.735447",
     "exception": false,
     "start_time": "2025-01-09T02:33:55.714274",
     "status": "completed"
    },
    "tags": []
   },
   "source": [
    "# **Introduction to Pandas**\n",
    "* **It is often said that 80% of data analysis activity is spent on the data cleaning and preparation of our data. To get the grip over this activity, this section will focus on a small but important aspect of data manipulation and cleaning with Pandas.**"
   ]
  },
  {
   "cell_type": "markdown",
   "id": "eb823279",
   "metadata": {
    "papermill": {
     "duration": 0.020187,
     "end_time": "2025-01-09T02:33:55.776644",
     "exception": false,
     "start_time": "2025-01-09T02:33:55.756457",
     "status": "completed"
    },
    "tags": []
   },
   "source": [
    "## **Inbuilt Data Structure in Pandas**\n",
    "**There are two types of data structures are there in Pandas -**\n",
    "* **Series -** It is one-dimensional labeled array capable of holding any data type (integer, string, float, Python objects etc.) of data. The axis is collectively referred to as index.\n",
    "* **Data Frame -** It is a two-dimensional labeled data structure with columns of potentially different types. You can think of it like a spreadsheet or SQL Table or a Series of objects"
   ]
  },
  {
   "cell_type": "code",
   "execution_count": 1,
   "id": "0ba4fc72",
   "metadata": {
    "execution": {
     "iopub.execute_input": "2025-01-09T02:33:55.817442Z",
     "iopub.status.busy": "2025-01-09T02:33:55.817078Z",
     "iopub.status.idle": "2025-01-09T02:33:56.182139Z",
     "shell.execute_reply": "2025-01-09T02:33:56.181312Z"
    },
    "papermill": {
     "duration": 0.387522,
     "end_time": "2025-01-09T02:33:56.183909",
     "exception": false,
     "start_time": "2025-01-09T02:33:55.796387",
     "status": "completed"
    },
    "tags": []
   },
   "outputs": [],
   "source": [
    "# importing all required modules\n",
    "import pandas as pd\n",
    "import numpy as np"
   ]
  },
  {
   "cell_type": "markdown",
   "id": "7eb9186f",
   "metadata": {
    "papermill": {
     "duration": 0.019171,
     "end_time": "2025-01-09T02:33:56.223358",
     "exception": false,
     "start_time": "2025-01-09T02:33:56.204187",
     "status": "completed"
    },
    "tags": []
   },
   "source": [
    "## **Series Data Structure**\n",
    "**pandas.core.series.Series(data, index, dtype, copy)**\n",
    "* **data -** data takes various forms like ndarray, list, constants, dictionary etc.\n",
    "* **index -** it is unique and hashable for easy identification.\n",
    "* **dtype -** it is for data type.\n",
    "* **copy -** copy data, and its default value is False. It only affects for Series or one dimensional ndarray inputs."
   ]
  },
  {
   "cell_type": "code",
   "execution_count": 2,
   "id": "932792a8",
   "metadata": {
    "execution": {
     "iopub.execute_input": "2025-01-09T02:33:56.263921Z",
     "iopub.status.busy": "2025-01-09T02:33:56.263387Z",
     "iopub.status.idle": "2025-01-09T02:33:56.271476Z",
     "shell.execute_reply": "2025-01-09T02:33:56.270320Z"
    },
    "papermill": {
     "duration": 0.030339,
     "end_time": "2025-01-09T02:33:56.273092",
     "exception": false,
     "start_time": "2025-01-09T02:33:56.242753",
     "status": "completed"
    },
    "tags": []
   },
   "outputs": [
    {
     "name": "stdout",
     "output_type": "stream",
     "text": [
      "Series([], dtype: object) <class 'pandas.core.series.Series'>\n"
     ]
    }
   ],
   "source": [
    "# creating empty Series\n",
    "s = pd.Series()\n",
    "print (s, type(s))"
   ]
  },
  {
   "cell_type": "code",
   "execution_count": 3,
   "id": "ad9a7c95",
   "metadata": {
    "execution": {
     "iopub.execute_input": "2025-01-09T02:33:56.318374Z",
     "iopub.status.busy": "2025-01-09T02:33:56.318022Z",
     "iopub.status.idle": "2025-01-09T02:33:56.327307Z",
     "shell.execute_reply": "2025-01-09T02:33:56.326417Z"
    },
    "papermill": {
     "duration": 0.031335,
     "end_time": "2025-01-09T02:33:56.328873",
     "exception": false,
     "start_time": "2025-01-09T02:33:56.297538",
     "status": "completed"
    },
    "tags": []
   },
   "outputs": [
    {
     "name": "stdout",
     "output_type": "stream",
     "text": [
      "[100 200 400 500 300]\n",
      "0    100\n",
      "1    200\n",
      "2    400\n",
      "3    500\n",
      "4    300\n",
      "dtype: int64\n",
      "[100 200 999 888 300]\n",
      "0    100\n",
      "1    200\n",
      "2    999\n",
      "3    888\n",
      "4    300\n",
      "dtype: int64\n"
     ]
    }
   ],
   "source": [
    "arr_data = np.array([100, 200, 400, 500, 300])\n",
    "print (arr_data)\n",
    "s = pd.Series(data = arr_data, copy = False)\n",
    "print (s)\n",
    "s[2] = 999\n",
    "arr_data[3] = 888\n",
    "print (arr_data)\n",
    "print (s)"
   ]
  },
  {
   "cell_type": "code",
   "execution_count": 4,
   "id": "9990c981",
   "metadata": {
    "execution": {
     "iopub.execute_input": "2025-01-09T02:33:56.370537Z",
     "iopub.status.busy": "2025-01-09T02:33:56.369739Z",
     "iopub.status.idle": "2025-01-09T02:33:56.376752Z",
     "shell.execute_reply": "2025-01-09T02:33:56.375670Z"
    },
    "papermill": {
     "duration": 0.029363,
     "end_time": "2025-01-09T02:33:56.378298",
     "exception": false,
     "start_time": "2025-01-09T02:33:56.348935",
     "status": "completed"
    },
    "tags": []
   },
   "outputs": [
    {
     "name": "stdout",
     "output_type": "stream",
     "text": [
      "[100 200 400 500 300]\n",
      "0    100\n",
      "1    200\n",
      "2    400\n",
      "3    500\n",
      "4    300\n",
      "dtype: int64\n",
      "[100 200 400 888 300]\n",
      "0    100\n",
      "1    200\n",
      "2    999\n",
      "3    500\n",
      "4    300\n",
      "dtype: int64\n"
     ]
    }
   ],
   "source": [
    "arr_data = np.array([100, 200, 400, 500, 300])\n",
    "print (arr_data)\n",
    "s = pd.Series(data = arr_data, copy = True)\n",
    "print (s)\n",
    "s[2] = 999\n",
    "arr_data[3] = 888\n",
    "print (arr_data)\n",
    "print (s)"
   ]
  },
  {
   "cell_type": "code",
   "execution_count": 5,
   "id": "5d85f439",
   "metadata": {
    "execution": {
     "iopub.execute_input": "2025-01-09T02:33:56.419697Z",
     "iopub.status.busy": "2025-01-09T02:33:56.419320Z",
     "iopub.status.idle": "2025-01-09T02:33:56.428744Z",
     "shell.execute_reply": "2025-01-09T02:33:56.427784Z"
    },
    "papermill": {
     "duration": 0.032179,
     "end_time": "2025-01-09T02:33:56.430677",
     "exception": false,
     "start_time": "2025-01-09T02:33:56.398498",
     "status": "completed"
    },
    "tags": []
   },
   "outputs": [
    {
     "name": "stdout",
     "output_type": "stream",
     "text": [
      "['apple' 'banana' 'cherry' 'pineapple'] 4\n",
      "0        apple\n",
      "1       banana\n",
      "2       cherry\n",
      "3    pineapple\n",
      "dtype: object\n",
      "apple cherry\n"
     ]
    }
   ],
   "source": [
    "arr_data = np.array(['apple', 'banana', 'cherry', 'pineapple'])\n",
    "print (arr_data, len(arr_data))\n",
    "s = pd.Series(data = arr_data)\n",
    "print (s)\n",
    "print (s[0], s[2])"
   ]
  },
  {
   "cell_type": "code",
   "execution_count": 6,
   "id": "8725e7e9",
   "metadata": {
    "execution": {
     "iopub.execute_input": "2025-01-09T02:33:56.472822Z",
     "iopub.status.busy": "2025-01-09T02:33:56.472475Z",
     "iopub.status.idle": "2025-01-09T02:33:56.498790Z",
     "shell.execute_reply": "2025-01-09T02:33:56.497852Z"
    },
    "papermill": {
     "duration": 0.04852,
     "end_time": "2025-01-09T02:33:56.500380",
     "exception": false,
     "start_time": "2025-01-09T02:33:56.451860",
     "status": "completed"
    },
    "tags": []
   },
   "outputs": [
    {
     "name": "stdout",
     "output_type": "stream",
     "text": [
      "['apple' 'banana' 'cherry' 'pineapple'] 4\n",
      "100        apple\n",
      "103       banana\n",
      "101       cherry\n",
      "103    pineapple\n",
      "dtype: object\n",
      "apple <class 'str'>\n",
      "103       banana\n",
      "103    pineapple\n",
      "dtype: object <class 'pandas.core.series.Series'>\n"
     ]
    }
   ],
   "source": [
    "arr_data = np.array(['apple', 'banana', 'cherry', 'pineapple'])\n",
    "print (arr_data, len(arr_data))\n",
    "s = pd.Series(data = arr_data, index = [100, 103, 101, 103])\n",
    "print (s)\n",
    "print (s[100], type(s[100]))\n",
    "print (s[103], type(s[103]))"
   ]
  },
  {
   "cell_type": "code",
   "execution_count": 7,
   "id": "af937ba9",
   "metadata": {
    "execution": {
     "iopub.execute_input": "2025-01-09T02:33:56.541658Z",
     "iopub.status.busy": "2025-01-09T02:33:56.541317Z",
     "iopub.status.idle": "2025-01-09T02:33:56.549563Z",
     "shell.execute_reply": "2025-01-09T02:33:56.548525Z"
    },
    "papermill": {
     "duration": 0.030744,
     "end_time": "2025-01-09T02:33:56.551057",
     "exception": false,
     "start_time": "2025-01-09T02:33:56.520313",
     "status": "completed"
    },
    "tags": []
   },
   "outputs": [
    {
     "name": "stdout",
     "output_type": "stream",
     "text": [
      "['apple' 'banana' 'cherry' 'pineapple'] 4\n",
      "100        apple\n",
      "103       banana\n",
      "100       cherry\n",
      "103    pineapple\n",
      "dtype: object\n",
      "100     apple\n",
      "100    cherry\n",
      "dtype: object\n",
      "103       banana\n",
      "103    pineapple\n",
      "dtype: object\n"
     ]
    }
   ],
   "source": [
    "arr_data = np.array(['apple', 'banana', 'cherry', 'pineapple'])\n",
    "print (arr_data, len(arr_data))\n",
    "s = pd.Series(data = arr_data, index = [100, 103, 100, 103])\n",
    "print (s)\n",
    "print (s[100])\n",
    "print (s[103])"
   ]
  },
  {
   "cell_type": "code",
   "execution_count": 8,
   "id": "a8dec43a",
   "metadata": {
    "execution": {
     "iopub.execute_input": "2025-01-09T02:33:56.592709Z",
     "iopub.status.busy": "2025-01-09T02:33:56.592366Z",
     "iopub.status.idle": "2025-01-09T02:33:56.596247Z",
     "shell.execute_reply": "2025-01-09T02:33:56.595304Z"
    },
    "papermill": {
     "duration": 0.026382,
     "end_time": "2025-01-09T02:33:56.597760",
     "exception": false,
     "start_time": "2025-01-09T02:33:56.571378",
     "status": "completed"
    },
    "tags": []
   },
   "outputs": [],
   "source": [
    "import warnings\n",
    "warnings.filterwarnings('ignore')"
   ]
  },
  {
   "cell_type": "code",
   "execution_count": 9,
   "id": "616fd987",
   "metadata": {
    "execution": {
     "iopub.execute_input": "2025-01-09T02:33:56.640324Z",
     "iopub.status.busy": "2025-01-09T02:33:56.639976Z",
     "iopub.status.idle": "2025-01-09T02:33:56.648001Z",
     "shell.execute_reply": "2025-01-09T02:33:56.647145Z"
    },
    "papermill": {
     "duration": 0.0306,
     "end_time": "2025-01-09T02:33:56.649562",
     "exception": false,
     "start_time": "2025-01-09T02:33:56.618962",
     "status": "completed"
    },
    "tags": []
   },
   "outputs": [
    {
     "name": "stdout",
     "output_type": "stream",
     "text": [
      "['apple' 'banana' 'cherry' 'pineapple'] 4\n",
      "fruit-1        apple\n",
      "fruit-2       banana\n",
      "fruit-3       cherry\n",
      "fruit-4    pineapple\n",
      "dtype: object\n",
      "apple apple\n",
      "cherry cherry\n"
     ]
    }
   ],
   "source": [
    "arr_data = np.array(['apple', 'banana', 'cherry', 'pineapple'])\n",
    "print (arr_data, len(arr_data))\n",
    "s = pd.Series(data = arr_data, index = ['fruit-1', 'fruit-2', 'fruit-3', 'fruit-4'])\n",
    "print (s)\n",
    "print (s['fruit-1'], s[0])\n",
    "print (s['fruit-3'], s[2])"
   ]
  },
  {
   "cell_type": "code",
   "execution_count": 10,
   "id": "db4ebea8",
   "metadata": {
    "execution": {
     "iopub.execute_input": "2025-01-09T02:33:56.693017Z",
     "iopub.status.busy": "2025-01-09T02:33:56.692616Z",
     "iopub.status.idle": "2025-01-09T02:33:56.699039Z",
     "shell.execute_reply": "2025-01-09T02:33:56.697715Z"
    },
    "papermill": {
     "duration": 0.030244,
     "end_time": "2025-01-09T02:33:56.700658",
     "exception": false,
     "start_time": "2025-01-09T02:33:56.670414",
     "status": "completed"
    },
    "tags": []
   },
   "outputs": [
    {
     "name": "stdout",
     "output_type": "stream",
     "text": [
      "{'apple': 104, 'banana': 306, 'pineapple': '455', 'coconut': 897} 4\n",
      "apple        104\n",
      "banana       306\n",
      "pineapple    455\n",
      "coconut      897\n",
      "dtype: object\n"
     ]
    }
   ],
   "source": [
    "# create a Series from a dictionary\n",
    "dict_data = {'apple':104, 'banana':306, 'pineapple': '455', 'coconut':897}\n",
    "print (dict_data, len(dict_data))\n",
    "s = pd.Series(dict_data)\n",
    "print (s)"
   ]
  },
  {
   "cell_type": "code",
   "execution_count": 11,
   "id": "b2db3e74",
   "metadata": {
    "execution": {
     "iopub.execute_input": "2025-01-09T02:33:56.742555Z",
     "iopub.status.busy": "2025-01-09T02:33:56.742233Z",
     "iopub.status.idle": "2025-01-09T02:33:56.752685Z",
     "shell.execute_reply": "2025-01-09T02:33:56.751635Z"
    },
    "papermill": {
     "duration": 0.033219,
     "end_time": "2025-01-09T02:33:56.754428",
     "exception": false,
     "start_time": "2025-01-09T02:33:56.721209",
     "status": "completed"
    },
    "tags": []
   },
   "outputs": [
    {
     "name": "stdout",
     "output_type": "stream",
     "text": [
      "{'apple': 104, 'banana': 306, 'pineapple': '455', 'coconut': 897} 4\n",
      "pineapple    455\n",
      "apple        104\n",
      "cherry       NaN\n",
      "apple        104\n",
      "coconut      897\n",
      "mango        NaN\n",
      "dtype: object\n"
     ]
    }
   ],
   "source": [
    "dict_data = {'apple':104, 'banana':306, 'pineapple': '455', 'coconut':897}\n",
    "print (dict_data, len(dict_data))\n",
    "s = pd.Series(dict_data, index = ['pineapple', 'apple', 'cherry', 'apple', 'coconut', 'mango'])\n",
    "print (s)"
   ]
  },
  {
   "cell_type": "code",
   "execution_count": 12,
   "id": "2c981a03",
   "metadata": {
    "execution": {
     "iopub.execute_input": "2025-01-09T02:33:56.796057Z",
     "iopub.status.busy": "2025-01-09T02:33:56.795691Z",
     "iopub.status.idle": "2025-01-09T02:33:56.802803Z",
     "shell.execute_reply": "2025-01-09T02:33:56.801854Z"
    },
    "papermill": {
     "duration": 0.029557,
     "end_time": "2025-01-09T02:33:56.804288",
     "exception": false,
     "start_time": "2025-01-09T02:33:56.774731",
     "status": "completed"
    },
    "tags": []
   },
   "outputs": [
    {
     "name": "stdout",
     "output_type": "stream",
     "text": [
      "0    50\n",
      "1    50\n",
      "2    50\n",
      "3    50\n",
      "4    50\n",
      "5    50\n",
      "dtype: int64\n",
      "0    60\n",
      "2    60\n",
      "1    60\n",
      "3    60\n",
      "2    60\n",
      "3    60\n",
      "dtype: int64\n"
     ]
    }
   ],
   "source": [
    "# create a Series from a scalar\n",
    "s = pd.Series(50, index = [0, 1, 2, 3, 4, 5])\n",
    "print (s)\n",
    "s = pd.Series(60, index = [0, 2, 1, 3, 2, 3])\n",
    "print (s)"
   ]
  },
  {
   "cell_type": "code",
   "execution_count": 13,
   "id": "e456955f",
   "metadata": {
    "execution": {
     "iopub.execute_input": "2025-01-09T02:33:56.846952Z",
     "iopub.status.busy": "2025-01-09T02:33:56.846586Z",
     "iopub.status.idle": "2025-01-09T02:33:56.860121Z",
     "shell.execute_reply": "2025-01-09T02:33:56.859024Z"
    },
    "papermill": {
     "duration": 0.036266,
     "end_time": "2025-01-09T02:33:56.861655",
     "exception": false,
     "start_time": "2025-01-09T02:33:56.825389",
     "status": "completed"
    },
    "tags": []
   },
   "outputs": [
    {
     "name": "stdout",
     "output_type": "stream",
     "text": [
      "red      101\n",
      "blue     103\n",
      "brown    102\n",
      "black    105\n",
      "white    104\n",
      "dtype: int64\n",
      "103 103\n",
      "black    105\n",
      "blue     103\n",
      "brown    102\n",
      "red      101\n",
      "white    104\n",
      "dtype: int64\n",
      "red      101\n",
      "brown    102\n",
      "blue     103\n",
      "white    104\n",
      "black    105\n",
      "dtype: int64\n",
      "3 0\n",
      "5\n"
     ]
    }
   ],
   "source": [
    "# create a Series from a list\n",
    "s = pd.Series(data = [101, 103, 102, 105, 104], index = ('red', 'blue', 'brown', 'black', 'white'))\n",
    "print (s)\n",
    "print (s['blue'], s[1])\n",
    "print (s.sort_index())\n",
    "print (s.sort_values())\n",
    "print (s.argmax(), s.argmin())\n",
    "print (s.count())"
   ]
  },
  {
   "cell_type": "markdown",
   "id": "71b1c79e",
   "metadata": {
    "papermill": {
     "duration": 0.020642,
     "end_time": "2025-01-09T02:33:56.903096",
     "exception": false,
     "start_time": "2025-01-09T02:33:56.882454",
     "status": "completed"
    },
    "tags": []
   },
   "source": [
    "## **Data Frame Data Structure**"
   ]
  },
  {
   "cell_type": "code",
   "execution_count": 14,
   "id": "9ef480b9",
   "metadata": {
    "execution": {
     "iopub.execute_input": "2025-01-09T02:33:56.945674Z",
     "iopub.status.busy": "2025-01-09T02:33:56.945365Z",
     "iopub.status.idle": "2025-01-09T02:33:56.961250Z",
     "shell.execute_reply": "2025-01-09T02:33:56.960271Z"
    },
    "papermill": {
     "duration": 0.038737,
     "end_time": "2025-01-09T02:33:56.962665",
     "exception": false,
     "start_time": "2025-01-09T02:33:56.923928",
     "status": "completed"
    },
    "tags": []
   },
   "outputs": [
    {
     "name": "stdout",
     "output_type": "stream",
     "text": [
      "  emp_name  emp_age\n",
      "0     Amal       45\n",
      "1    Kamal       47\n",
      "2    Bimal       46\n",
      "3   Shymal       49\n"
     ]
    },
    {
     "data": {
      "text/html": [
       "<div>\n",
       "<style scoped>\n",
       "    .dataframe tbody tr th:only-of-type {\n",
       "        vertical-align: middle;\n",
       "    }\n",
       "\n",
       "    .dataframe tbody tr th {\n",
       "        vertical-align: top;\n",
       "    }\n",
       "\n",
       "    .dataframe thead th {\n",
       "        text-align: right;\n",
       "    }\n",
       "</style>\n",
       "<table border=\"1\" class=\"dataframe\">\n",
       "  <thead>\n",
       "    <tr style=\"text-align: right;\">\n",
       "      <th></th>\n",
       "      <th>emp_name</th>\n",
       "      <th>emp_age</th>\n",
       "    </tr>\n",
       "  </thead>\n",
       "  <tbody>\n",
       "    <tr>\n",
       "      <th>0</th>\n",
       "      <td>Amal</td>\n",
       "      <td>45</td>\n",
       "    </tr>\n",
       "    <tr>\n",
       "      <th>1</th>\n",
       "      <td>Kamal</td>\n",
       "      <td>47</td>\n",
       "    </tr>\n",
       "    <tr>\n",
       "      <th>2</th>\n",
       "      <td>Bimal</td>\n",
       "      <td>46</td>\n",
       "    </tr>\n",
       "    <tr>\n",
       "      <th>3</th>\n",
       "      <td>Shymal</td>\n",
       "      <td>49</td>\n",
       "    </tr>\n",
       "  </tbody>\n",
       "</table>\n",
       "</div>"
      ],
      "text/plain": [
       "  emp_name  emp_age\n",
       "0     Amal       45\n",
       "1    Kamal       47\n",
       "2    Bimal       46\n",
       "3   Shymal       49"
      ]
     },
     "execution_count": 14,
     "metadata": {},
     "output_type": "execute_result"
    }
   ],
   "source": [
    "data_dict = {'emp_name':['Amal','Kamal','Bimal','Shymal'], 'emp_age':[45, 47, 46, 49]}\n",
    "emp_id = [1001, 1002, 1003, 1004]\n",
    "df = pd.DataFrame(data = data_dict)\n",
    "print (df)\n",
    "df"
   ]
  },
  {
   "cell_type": "code",
   "execution_count": 15,
   "id": "ebc0d5ae",
   "metadata": {
    "execution": {
     "iopub.execute_input": "2025-01-09T02:33:57.006621Z",
     "iopub.status.busy": "2025-01-09T02:33:57.006306Z",
     "iopub.status.idle": "2025-01-09T02:33:57.015103Z",
     "shell.execute_reply": "2025-01-09T02:33:57.014261Z"
    },
    "papermill": {
     "duration": 0.032347,
     "end_time": "2025-01-09T02:33:57.016572",
     "exception": false,
     "start_time": "2025-01-09T02:33:56.984225",
     "status": "completed"
    },
    "tags": []
   },
   "outputs": [
    {
     "data": {
      "text/html": [
       "<div>\n",
       "<style scoped>\n",
       "    .dataframe tbody tr th:only-of-type {\n",
       "        vertical-align: middle;\n",
       "    }\n",
       "\n",
       "    .dataframe tbody tr th {\n",
       "        vertical-align: top;\n",
       "    }\n",
       "\n",
       "    .dataframe thead th {\n",
       "        text-align: right;\n",
       "    }\n",
       "</style>\n",
       "<table border=\"1\" class=\"dataframe\">\n",
       "  <thead>\n",
       "    <tr style=\"text-align: right;\">\n",
       "      <th></th>\n",
       "      <th>emp_name</th>\n",
       "      <th>emp_age</th>\n",
       "    </tr>\n",
       "  </thead>\n",
       "  <tbody>\n",
       "    <tr>\n",
       "      <th>1001</th>\n",
       "      <td>Amal</td>\n",
       "      <td>45</td>\n",
       "    </tr>\n",
       "    <tr>\n",
       "      <th>1002</th>\n",
       "      <td>Kamal</td>\n",
       "      <td>47</td>\n",
       "    </tr>\n",
       "    <tr>\n",
       "      <th>1003</th>\n",
       "      <td>Bimal</td>\n",
       "      <td>46</td>\n",
       "    </tr>\n",
       "    <tr>\n",
       "      <th>1004</th>\n",
       "      <td>Shymal</td>\n",
       "      <td>49</td>\n",
       "    </tr>\n",
       "  </tbody>\n",
       "</table>\n",
       "</div>"
      ],
      "text/plain": [
       "     emp_name  emp_age\n",
       "1001     Amal       45\n",
       "1002    Kamal       47\n",
       "1003    Bimal       46\n",
       "1004   Shymal       49"
      ]
     },
     "execution_count": 15,
     "metadata": {},
     "output_type": "execute_result"
    }
   ],
   "source": [
    "data_dict = {'emp_name':['Amal','Kamal','Bimal','Shymal'], 'emp_age':[45, 47, 46, 49]}\n",
    "emp_id = [1001, 1002, 1003, 1004]\n",
    "df = pd.DataFrame(data = data_dict, index = emp_id)\n",
    "df"
   ]
  },
  {
   "cell_type": "code",
   "execution_count": 16,
   "id": "ee963b56",
   "metadata": {
    "execution": {
     "iopub.execute_input": "2025-01-09T02:33:57.060681Z",
     "iopub.status.busy": "2025-01-09T02:33:57.060376Z",
     "iopub.status.idle": "2025-01-09T02:33:57.072998Z",
     "shell.execute_reply": "2025-01-09T02:33:57.072074Z"
    },
    "papermill": {
     "duration": 0.036384,
     "end_time": "2025-01-09T02:33:57.074384",
     "exception": false,
     "start_time": "2025-01-09T02:33:57.038000",
     "status": "completed"
    },
    "tags": []
   },
   "outputs": [
    {
     "name": "stdout",
     "output_type": "stream",
     "text": [
      "   index emp_name  emp_age\n",
      "0   1001     Amal       45\n",
      "1   1002    Kamal       47\n",
      "2   1003    Bimal       46\n",
      "3   1004   Shymal       49\n"
     ]
    },
    {
     "data": {
      "text/html": [
       "<div>\n",
       "<style scoped>\n",
       "    .dataframe tbody tr th:only-of-type {\n",
       "        vertical-align: middle;\n",
       "    }\n",
       "\n",
       "    .dataframe tbody tr th {\n",
       "        vertical-align: top;\n",
       "    }\n",
       "\n",
       "    .dataframe thead th {\n",
       "        text-align: right;\n",
       "    }\n",
       "</style>\n",
       "<table border=\"1\" class=\"dataframe\">\n",
       "  <thead>\n",
       "    <tr style=\"text-align: right;\">\n",
       "      <th></th>\n",
       "      <th>emp_id</th>\n",
       "      <th>emp_fullname</th>\n",
       "      <th>emp_age</th>\n",
       "    </tr>\n",
       "  </thead>\n",
       "  <tbody>\n",
       "    <tr>\n",
       "      <th>0</th>\n",
       "      <td>1001</td>\n",
       "      <td>Amal</td>\n",
       "      <td>45</td>\n",
       "    </tr>\n",
       "    <tr>\n",
       "      <th>1</th>\n",
       "      <td>1002</td>\n",
       "      <td>Kamal</td>\n",
       "      <td>47</td>\n",
       "    </tr>\n",
       "    <tr>\n",
       "      <th>2</th>\n",
       "      <td>1003</td>\n",
       "      <td>Bimal</td>\n",
       "      <td>46</td>\n",
       "    </tr>\n",
       "    <tr>\n",
       "      <th>3</th>\n",
       "      <td>1004</td>\n",
       "      <td>Shymal</td>\n",
       "      <td>49</td>\n",
       "    </tr>\n",
       "  </tbody>\n",
       "</table>\n",
       "</div>"
      ],
      "text/plain": [
       "   emp_id emp_fullname  emp_age\n",
       "0    1001         Amal       45\n",
       "1    1002        Kamal       47\n",
       "2    1003        Bimal       46\n",
       "3    1004       Shymal       49"
      ]
     },
     "execution_count": 16,
     "metadata": {},
     "output_type": "execute_result"
    }
   ],
   "source": [
    "data_dict = {'emp_name':['Amal','Kamal','Bimal','Shymal'], 'emp_age':[45, 47, 46, 49]}\n",
    "emp_id = [1001, 1002, 1003, 1004]\n",
    "df = pd.DataFrame(data = data_dict, index = emp_id)\n",
    "df = df.reset_index()\n",
    "print (df)\n",
    "df = df.rename(columns = {\"index\":\"emp_id\", 'emp_name':'emp_fullname'})\n",
    "df"
   ]
  },
  {
   "cell_type": "markdown",
   "id": "d8a362c9",
   "metadata": {
    "papermill": {
     "duration": 0.02116,
     "end_time": "2025-01-09T02:33:57.117154",
     "exception": false,
     "start_time": "2025-01-09T02:33:57.095994",
     "status": "completed"
    },
    "tags": []
   },
   "source": [
    "## **Different ways to create a Data Frame**"
   ]
  },
  {
   "cell_type": "code",
   "execution_count": 17,
   "id": "381c74a8",
   "metadata": {
    "execution": {
     "iopub.execute_input": "2025-01-09T02:33:57.160947Z",
     "iopub.status.busy": "2025-01-09T02:33:57.160541Z",
     "iopub.status.idle": "2025-01-09T02:33:57.174308Z",
     "shell.execute_reply": "2025-01-09T02:33:57.173357Z"
    },
    "papermill": {
     "duration": 0.037493,
     "end_time": "2025-01-09T02:33:57.175902",
     "exception": false,
     "start_time": "2025-01-09T02:33:57.138409",
     "status": "completed"
    },
    "tags": []
   },
   "outputs": [
    {
     "name": "stdout",
     "output_type": "stream",
     "text": [
      "{'name': ['eric', 'paul'], 'age': [22, 58], 'gender': ['M', 'F'], 'job': ['student', 'manager']}\n",
      "    name  age gender      job\n",
      "0  alice   19      F  student\n",
      "1   john   26      M  student\n",
      "   name  age gender      job\n",
      "0  eric   22      M  student\n",
      "1  paul   58      F  manager\n",
      "    name  age gender        job\n",
      "0  peter   33      M   engineer\n",
      "1  julie   44      F  scientist\n"
     ]
    }
   ],
   "source": [
    "user_data = [['alice', 19, 'F', 'student'], ['john', 26, 'M', 'student']]  # list of lists\n",
    "user_columns = ['name', 'age', 'gender', 'job']\n",
    "user1 = pd.DataFrame(data = user_data, columns = user_columns)\n",
    "\n",
    "user_data = dict(name = ['eric', 'paul'], age = [22, 58], gender = ['M', 'F'], job = ['student', 'manager'])\n",
    "print (user_data)\n",
    "user2 = pd.DataFrame(data = user_data)\n",
    "\n",
    "user_data = {'name':['peter', 'julie'], 'age':[33, 44], 'gender':['M', 'F'], 'job':['engineer', 'scientist']}\n",
    "user3 = pd.DataFrame(data = user_data)\n",
    "\n",
    "print (user1)\n",
    "print (user2)\n",
    "print (user3)"
   ]
  },
  {
   "cell_type": "markdown",
   "id": "8cbdbc7f",
   "metadata": {
    "papermill": {
     "duration": 0.021436,
     "end_time": "2025-01-09T02:33:57.219070",
     "exception": false,
     "start_time": "2025-01-09T02:33:57.197634",
     "status": "completed"
    },
    "tags": []
   },
   "source": [
    "## **Concatenate Data Frames**"
   ]
  },
  {
   "cell_type": "code",
   "execution_count": 18,
   "id": "dd3b3369",
   "metadata": {
    "execution": {
     "iopub.execute_input": "2025-01-09T02:33:57.263614Z",
     "iopub.status.busy": "2025-01-09T02:33:57.263269Z",
     "iopub.status.idle": "2025-01-09T02:33:57.273745Z",
     "shell.execute_reply": "2025-01-09T02:33:57.272668Z"
    },
    "papermill": {
     "duration": 0.034392,
     "end_time": "2025-01-09T02:33:57.275422",
     "exception": false,
     "start_time": "2025-01-09T02:33:57.241030",
     "status": "completed"
    },
    "tags": []
   },
   "outputs": [
    {
     "name": "stdout",
     "output_type": "stream",
     "text": [
      "    name  age gender      job\n",
      "0  alice   19      F  student\n",
      "1   john   26      M  student\n",
      "0   eric   22      M  student\n",
      "1   paul   58      F  manager\n",
      "\n",
      "    name  age gender        job\n",
      "0  alice   19      F    student\n",
      "1   john   26      M    student\n",
      "0   eric   22      M    student\n",
      "1   paul   58      F    manager\n",
      "0  peter   33      M   engineer\n",
      "1  julie   44      F  scientist\n"
     ]
    }
   ],
   "source": [
    "users = pd.concat([user1, user2])\n",
    "print (users)\n",
    "print ()\n",
    "users = pd.concat([user1, user2, user3])\n",
    "print (users)"
   ]
  },
  {
   "cell_type": "code",
   "execution_count": 19,
   "id": "cd15fc58",
   "metadata": {
    "execution": {
     "iopub.execute_input": "2025-01-09T02:33:57.320357Z",
     "iopub.status.busy": "2025-01-09T02:33:57.320032Z",
     "iopub.status.idle": "2025-01-09T02:33:57.329873Z",
     "shell.execute_reply": "2025-01-09T02:33:57.328946Z"
    },
    "papermill": {
     "duration": 0.034012,
     "end_time": "2025-01-09T02:33:57.331347",
     "exception": false,
     "start_time": "2025-01-09T02:33:57.297335",
     "status": "completed"
    },
    "tags": []
   },
   "outputs": [
    {
     "name": "stdout",
     "output_type": "stream",
     "text": [
      "    name  age gender      job\n",
      "0  alice   19      F  student\n",
      "1   john   26      M  student\n",
      "2   eric   22      M  student\n",
      "3   paul   58      F  manager\n",
      "\n",
      "    name  age gender        job\n",
      "0  alice   19      F    student\n",
      "1   john   26      M    student\n",
      "2   eric   22      M    student\n",
      "3   paul   58      F    manager\n",
      "4  peter   33      M   engineer\n",
      "5  julie   44      F  scientist\n"
     ]
    }
   ],
   "source": [
    "users = pd.concat([user1, user2], ignore_index=True)\n",
    "print (users)\n",
    "print ()\n",
    "users = pd.concat([user1, user2, user3], ignore_index=True)\n",
    "print (users)"
   ]
  },
  {
   "cell_type": "code",
   "execution_count": 20,
   "id": "341876cf",
   "metadata": {
    "execution": {
     "iopub.execute_input": "2025-01-09T02:33:57.376227Z",
     "iopub.status.busy": "2025-01-09T02:33:57.375896Z",
     "iopub.status.idle": "2025-01-09T02:33:57.384993Z",
     "shell.execute_reply": "2025-01-09T02:33:57.383952Z"
    },
    "papermill": {
     "duration": 0.033387,
     "end_time": "2025-01-09T02:33:57.386580",
     "exception": false,
     "start_time": "2025-01-09T02:33:57.353193",
     "status": "completed"
    },
    "tags": []
   },
   "outputs": [
    {
     "name": "stdout",
     "output_type": "stream",
     "text": [
      "[['alice' 19 'F' 'student']\n",
      " ['john' 26 'M' 'student']] <class 'numpy.ndarray'>\n",
      "[['alice' 19 'F' 'student']\n",
      " ['john' 26 'M' 'student']] <class 'numpy.ndarray'>\n",
      "[['alice' 'F']\n",
      " ['john' 'M']] <class 'numpy.ndarray'>\n"
     ]
    }
   ],
   "source": [
    "# DataFrame to NumPy ndArray\n",
    "arr_data = user1.to_numpy()\n",
    "print (arr_data, type(arr_data))\n",
    "arr_data = np.array(user1)\n",
    "print (arr_data, type(arr_data))\n",
    "arr_data = np.array(user1[['name', 'gender']])\n",
    "print (arr_data, type(arr_data))"
   ]
  },
  {
   "cell_type": "markdown",
   "id": "62c6069a",
   "metadata": {
    "papermill": {
     "duration": 0.021501,
     "end_time": "2025-01-09T02:33:57.429989",
     "exception": false,
     "start_time": "2025-01-09T02:33:57.408488",
     "status": "completed"
    },
    "tags": []
   },
   "source": [
    "## **Join Data Frame**"
   ]
  },
  {
   "cell_type": "code",
   "execution_count": 21,
   "id": "3842f39d",
   "metadata": {
    "execution": {
     "iopub.execute_input": "2025-01-09T02:33:57.474750Z",
     "iopub.status.busy": "2025-01-09T02:33:57.474430Z",
     "iopub.status.idle": "2025-01-09T02:33:57.483477Z",
     "shell.execute_reply": "2025-01-09T02:33:57.482518Z"
    },
    "papermill": {
     "duration": 0.033147,
     "end_time": "2025-01-09T02:33:57.484947",
     "exception": false,
     "start_time": "2025-01-09T02:33:57.451800",
     "status": "completed"
    },
    "tags": []
   },
   "outputs": [
    {
     "data": {
      "text/html": [
       "<div>\n",
       "<style scoped>\n",
       "    .dataframe tbody tr th:only-of-type {\n",
       "        vertical-align: middle;\n",
       "    }\n",
       "\n",
       "    .dataframe tbody tr th {\n",
       "        vertical-align: top;\n",
       "    }\n",
       "\n",
       "    .dataframe thead th {\n",
       "        text-align: right;\n",
       "    }\n",
       "</style>\n",
       "<table border=\"1\" class=\"dataframe\">\n",
       "  <thead>\n",
       "    <tr style=\"text-align: right;\">\n",
       "      <th></th>\n",
       "      <th>name</th>\n",
       "      <th>height</th>\n",
       "    </tr>\n",
       "  </thead>\n",
       "  <tbody>\n",
       "    <tr>\n",
       "      <th>0</th>\n",
       "      <td>alice</td>\n",
       "      <td>165</td>\n",
       "    </tr>\n",
       "    <tr>\n",
       "      <th>1</th>\n",
       "      <td>john</td>\n",
       "      <td>168</td>\n",
       "    </tr>\n",
       "    <tr>\n",
       "      <th>2</th>\n",
       "      <td>eric</td>\n",
       "      <td>170</td>\n",
       "    </tr>\n",
       "    <tr>\n",
       "      <th>3</th>\n",
       "      <td>julie</td>\n",
       "      <td>180</td>\n",
       "    </tr>\n",
       "    <tr>\n",
       "      <th>4</th>\n",
       "      <td>rita</td>\n",
       "      <td>167</td>\n",
       "    </tr>\n",
       "  </tbody>\n",
       "</table>\n",
       "</div>"
      ],
      "text/plain": [
       "    name  height\n",
       "0  alice     165\n",
       "1   john     168\n",
       "2   eric     170\n",
       "3  julie     180\n",
       "4   rita     167"
      ]
     },
     "execution_count": 21,
     "metadata": {},
     "output_type": "execute_result"
    }
   ],
   "source": [
    "dict_data = dict(name = ['alice','john','eric','julie','rita'], height = [165, 168, 170, 180, 167])\n",
    "user4 = pd.DataFrame(data = dict_data)\n",
    "user4"
   ]
  },
  {
   "cell_type": "code",
   "execution_count": 22,
   "id": "f2ab426e",
   "metadata": {
    "execution": {
     "iopub.execute_input": "2025-01-09T02:33:57.530215Z",
     "iopub.status.busy": "2025-01-09T02:33:57.529864Z",
     "iopub.status.idle": "2025-01-09T02:33:57.538690Z",
     "shell.execute_reply": "2025-01-09T02:33:57.537723Z"
    },
    "papermill": {
     "duration": 0.033337,
     "end_time": "2025-01-09T02:33:57.540249",
     "exception": false,
     "start_time": "2025-01-09T02:33:57.506912",
     "status": "completed"
    },
    "tags": []
   },
   "outputs": [
    {
     "data": {
      "text/html": [
       "<div>\n",
       "<style scoped>\n",
       "    .dataframe tbody tr th:only-of-type {\n",
       "        vertical-align: middle;\n",
       "    }\n",
       "\n",
       "    .dataframe tbody tr th {\n",
       "        vertical-align: top;\n",
       "    }\n",
       "\n",
       "    .dataframe thead th {\n",
       "        text-align: right;\n",
       "    }\n",
       "</style>\n",
       "<table border=\"1\" class=\"dataframe\">\n",
       "  <thead>\n",
       "    <tr style=\"text-align: right;\">\n",
       "      <th></th>\n",
       "      <th>name</th>\n",
       "      <th>age</th>\n",
       "      <th>gender</th>\n",
       "      <th>job</th>\n",
       "    </tr>\n",
       "  </thead>\n",
       "  <tbody>\n",
       "    <tr>\n",
       "      <th>0</th>\n",
       "      <td>alice</td>\n",
       "      <td>19</td>\n",
       "      <td>F</td>\n",
       "      <td>student</td>\n",
       "    </tr>\n",
       "    <tr>\n",
       "      <th>1</th>\n",
       "      <td>john</td>\n",
       "      <td>26</td>\n",
       "      <td>M</td>\n",
       "      <td>student</td>\n",
       "    </tr>\n",
       "    <tr>\n",
       "      <th>2</th>\n",
       "      <td>eric</td>\n",
       "      <td>22</td>\n",
       "      <td>M</td>\n",
       "      <td>student</td>\n",
       "    </tr>\n",
       "    <tr>\n",
       "      <th>3</th>\n",
       "      <td>paul</td>\n",
       "      <td>58</td>\n",
       "      <td>F</td>\n",
       "      <td>manager</td>\n",
       "    </tr>\n",
       "    <tr>\n",
       "      <th>4</th>\n",
       "      <td>peter</td>\n",
       "      <td>33</td>\n",
       "      <td>M</td>\n",
       "      <td>engineer</td>\n",
       "    </tr>\n",
       "    <tr>\n",
       "      <th>5</th>\n",
       "      <td>julie</td>\n",
       "      <td>44</td>\n",
       "      <td>F</td>\n",
       "      <td>scientist</td>\n",
       "    </tr>\n",
       "  </tbody>\n",
       "</table>\n",
       "</div>"
      ],
      "text/plain": [
       "    name  age gender        job\n",
       "0  alice   19      F    student\n",
       "1   john   26      M    student\n",
       "2   eric   22      M    student\n",
       "3   paul   58      F    manager\n",
       "4  peter   33      M   engineer\n",
       "5  julie   44      F  scientist"
      ]
     },
     "execution_count": 22,
     "metadata": {},
     "output_type": "execute_result"
    }
   ],
   "source": [
    "users"
   ]
  },
  {
   "cell_type": "code",
   "execution_count": 23,
   "id": "927a1d6f",
   "metadata": {
    "execution": {
     "iopub.execute_input": "2025-01-09T02:33:57.586350Z",
     "iopub.status.busy": "2025-01-09T02:33:57.585993Z",
     "iopub.status.idle": "2025-01-09T02:33:57.601939Z",
     "shell.execute_reply": "2025-01-09T02:33:57.600993Z"
    },
    "papermill": {
     "duration": 0.040843,
     "end_time": "2025-01-09T02:33:57.603550",
     "exception": false,
     "start_time": "2025-01-09T02:33:57.562707",
     "status": "completed"
    },
    "tags": []
   },
   "outputs": [
    {
     "data": {
      "text/html": [
       "<div>\n",
       "<style scoped>\n",
       "    .dataframe tbody tr th:only-of-type {\n",
       "        vertical-align: middle;\n",
       "    }\n",
       "\n",
       "    .dataframe tbody tr th {\n",
       "        vertical-align: top;\n",
       "    }\n",
       "\n",
       "    .dataframe thead th {\n",
       "        text-align: right;\n",
       "    }\n",
       "</style>\n",
       "<table border=\"1\" class=\"dataframe\">\n",
       "  <thead>\n",
       "    <tr style=\"text-align: right;\">\n",
       "      <th></th>\n",
       "      <th>name</th>\n",
       "      <th>age</th>\n",
       "      <th>gender</th>\n",
       "      <th>job</th>\n",
       "      <th>height</th>\n",
       "    </tr>\n",
       "  </thead>\n",
       "  <tbody>\n",
       "    <tr>\n",
       "      <th>0</th>\n",
       "      <td>alice</td>\n",
       "      <td>19</td>\n",
       "      <td>F</td>\n",
       "      <td>student</td>\n",
       "      <td>165</td>\n",
       "    </tr>\n",
       "    <tr>\n",
       "      <th>1</th>\n",
       "      <td>john</td>\n",
       "      <td>26</td>\n",
       "      <td>M</td>\n",
       "      <td>student</td>\n",
       "      <td>168</td>\n",
       "    </tr>\n",
       "    <tr>\n",
       "      <th>2</th>\n",
       "      <td>eric</td>\n",
       "      <td>22</td>\n",
       "      <td>M</td>\n",
       "      <td>student</td>\n",
       "      <td>170</td>\n",
       "    </tr>\n",
       "    <tr>\n",
       "      <th>3</th>\n",
       "      <td>julie</td>\n",
       "      <td>44</td>\n",
       "      <td>F</td>\n",
       "      <td>scientist</td>\n",
       "      <td>180</td>\n",
       "    </tr>\n",
       "  </tbody>\n",
       "</table>\n",
       "</div>"
      ],
      "text/plain": [
       "    name  age gender        job  height\n",
       "0  alice   19      F    student     165\n",
       "1   john   26      M    student     168\n",
       "2   eric   22      M    student     170\n",
       "3  julie   44      F  scientist     180"
      ]
     },
     "execution_count": 23,
     "metadata": {},
     "output_type": "execute_result"
    }
   ],
   "source": [
    "# inner join: all matching rows from both the data frames\n",
    "merge_inner = pd.merge(users, user4, on = 'name', how = 'inner')\n",
    "merge_inner"
   ]
  },
  {
   "cell_type": "code",
   "execution_count": 24,
   "id": "e4744e03",
   "metadata": {
    "execution": {
     "iopub.execute_input": "2025-01-09T02:33:57.651047Z",
     "iopub.status.busy": "2025-01-09T02:33:57.650662Z",
     "iopub.status.idle": "2025-01-09T02:33:57.662014Z",
     "shell.execute_reply": "2025-01-09T02:33:57.661147Z"
    },
    "papermill": {
     "duration": 0.03627,
     "end_time": "2025-01-09T02:33:57.663511",
     "exception": false,
     "start_time": "2025-01-09T02:33:57.627241",
     "status": "completed"
    },
    "tags": []
   },
   "outputs": [
    {
     "data": {
      "text/html": [
       "<div>\n",
       "<style scoped>\n",
       "    .dataframe tbody tr th:only-of-type {\n",
       "        vertical-align: middle;\n",
       "    }\n",
       "\n",
       "    .dataframe tbody tr th {\n",
       "        vertical-align: top;\n",
       "    }\n",
       "\n",
       "    .dataframe thead th {\n",
       "        text-align: right;\n",
       "    }\n",
       "</style>\n",
       "<table border=\"1\" class=\"dataframe\">\n",
       "  <thead>\n",
       "    <tr style=\"text-align: right;\">\n",
       "      <th></th>\n",
       "      <th>name</th>\n",
       "      <th>age</th>\n",
       "      <th>gender</th>\n",
       "      <th>job</th>\n",
       "      <th>height</th>\n",
       "    </tr>\n",
       "  </thead>\n",
       "  <tbody>\n",
       "    <tr>\n",
       "      <th>0</th>\n",
       "      <td>alice</td>\n",
       "      <td>19</td>\n",
       "      <td>F</td>\n",
       "      <td>student</td>\n",
       "      <td>165</td>\n",
       "    </tr>\n",
       "    <tr>\n",
       "      <th>1</th>\n",
       "      <td>john</td>\n",
       "      <td>26</td>\n",
       "      <td>M</td>\n",
       "      <td>student</td>\n",
       "      <td>168</td>\n",
       "    </tr>\n",
       "    <tr>\n",
       "      <th>2</th>\n",
       "      <td>eric</td>\n",
       "      <td>22</td>\n",
       "      <td>M</td>\n",
       "      <td>student</td>\n",
       "      <td>170</td>\n",
       "    </tr>\n",
       "    <tr>\n",
       "      <th>3</th>\n",
       "      <td>julie</td>\n",
       "      <td>44</td>\n",
       "      <td>F</td>\n",
       "      <td>scientist</td>\n",
       "      <td>180</td>\n",
       "    </tr>\n",
       "  </tbody>\n",
       "</table>\n",
       "</div>"
      ],
      "text/plain": [
       "    name  age gender        job  height\n",
       "0  alice   19      F    student     165\n",
       "1   john   26      M    student     168\n",
       "2   eric   22      M    student     170\n",
       "3  julie   44      F  scientist     180"
      ]
     },
     "execution_count": 24,
     "metadata": {},
     "output_type": "execute_result"
    }
   ],
   "source": [
    "# inner join: all matching rows from both the data frames\n",
    "merge_inner = pd.merge(users, user4, on = 'name')\n",
    "merge_inner"
   ]
  },
  {
   "cell_type": "code",
   "execution_count": 25,
   "id": "b34efe50",
   "metadata": {
    "execution": {
     "iopub.execute_input": "2025-01-09T02:33:57.709928Z",
     "iopub.status.busy": "2025-01-09T02:33:57.709554Z",
     "iopub.status.idle": "2025-01-09T02:33:57.723272Z",
     "shell.execute_reply": "2025-01-09T02:33:57.722469Z"
    },
    "papermill": {
     "duration": 0.03845,
     "end_time": "2025-01-09T02:33:57.724735",
     "exception": false,
     "start_time": "2025-01-09T02:33:57.686285",
     "status": "completed"
    },
    "tags": []
   },
   "outputs": [
    {
     "data": {
      "text/html": [
       "<div>\n",
       "<style scoped>\n",
       "    .dataframe tbody tr th:only-of-type {\n",
       "        vertical-align: middle;\n",
       "    }\n",
       "\n",
       "    .dataframe tbody tr th {\n",
       "        vertical-align: top;\n",
       "    }\n",
       "\n",
       "    .dataframe thead th {\n",
       "        text-align: right;\n",
       "    }\n",
       "</style>\n",
       "<table border=\"1\" class=\"dataframe\">\n",
       "  <thead>\n",
       "    <tr style=\"text-align: right;\">\n",
       "      <th></th>\n",
       "      <th>name</th>\n",
       "      <th>age</th>\n",
       "      <th>gender</th>\n",
       "      <th>job</th>\n",
       "      <th>height</th>\n",
       "    </tr>\n",
       "  </thead>\n",
       "  <tbody>\n",
       "    <tr>\n",
       "      <th>0</th>\n",
       "      <td>alice</td>\n",
       "      <td>19.0</td>\n",
       "      <td>F</td>\n",
       "      <td>student</td>\n",
       "      <td>165.0</td>\n",
       "    </tr>\n",
       "    <tr>\n",
       "      <th>1</th>\n",
       "      <td>john</td>\n",
       "      <td>26.0</td>\n",
       "      <td>M</td>\n",
       "      <td>student</td>\n",
       "      <td>168.0</td>\n",
       "    </tr>\n",
       "    <tr>\n",
       "      <th>2</th>\n",
       "      <td>eric</td>\n",
       "      <td>22.0</td>\n",
       "      <td>M</td>\n",
       "      <td>student</td>\n",
       "      <td>170.0</td>\n",
       "    </tr>\n",
       "    <tr>\n",
       "      <th>3</th>\n",
       "      <td>paul</td>\n",
       "      <td>58.0</td>\n",
       "      <td>F</td>\n",
       "      <td>manager</td>\n",
       "      <td>NaN</td>\n",
       "    </tr>\n",
       "    <tr>\n",
       "      <th>4</th>\n",
       "      <td>peter</td>\n",
       "      <td>33.0</td>\n",
       "      <td>M</td>\n",
       "      <td>engineer</td>\n",
       "      <td>NaN</td>\n",
       "    </tr>\n",
       "    <tr>\n",
       "      <th>5</th>\n",
       "      <td>julie</td>\n",
       "      <td>44.0</td>\n",
       "      <td>F</td>\n",
       "      <td>scientist</td>\n",
       "      <td>180.0</td>\n",
       "    </tr>\n",
       "    <tr>\n",
       "      <th>6</th>\n",
       "      <td>rita</td>\n",
       "      <td>NaN</td>\n",
       "      <td>NaN</td>\n",
       "      <td>NaN</td>\n",
       "      <td>167.0</td>\n",
       "    </tr>\n",
       "  </tbody>\n",
       "</table>\n",
       "</div>"
      ],
      "text/plain": [
       "    name   age gender        job  height\n",
       "0  alice  19.0      F    student   165.0\n",
       "1   john  26.0      M    student   168.0\n",
       "2   eric  22.0      M    student   170.0\n",
       "3   paul  58.0      F    manager     NaN\n",
       "4  peter  33.0      M   engineer     NaN\n",
       "5  julie  44.0      F  scientist   180.0\n",
       "6   rita   NaN    NaN        NaN   167.0"
      ]
     },
     "execution_count": 25,
     "metadata": {},
     "output_type": "execute_result"
    }
   ],
   "source": [
    "# outer join: all rows from both the data frames matching or not matching\n",
    "merge_outer = pd.merge(users, user4, on = 'name', how = 'outer')\n",
    "merge_outer"
   ]
  },
  {
   "cell_type": "code",
   "execution_count": 26,
   "id": "9d3fc8c3",
   "metadata": {
    "execution": {
     "iopub.execute_input": "2025-01-09T02:33:57.772149Z",
     "iopub.status.busy": "2025-01-09T02:33:57.771823Z",
     "iopub.status.idle": "2025-01-09T02:33:57.776640Z",
     "shell.execute_reply": "2025-01-09T02:33:57.775559Z"
    },
    "papermill": {
     "duration": 0.030248,
     "end_time": "2025-01-09T02:33:57.778196",
     "exception": false,
     "start_time": "2025-01-09T02:33:57.747948",
     "status": "completed"
    },
    "tags": []
   },
   "outputs": [
    {
     "name": "stdout",
     "output_type": "stream",
     "text": [
      "35\n"
     ]
    }
   ],
   "source": [
    "print (merge_outer.size)"
   ]
  },
  {
   "cell_type": "code",
   "execution_count": 27,
   "id": "971bafb0",
   "metadata": {
    "execution": {
     "iopub.execute_input": "2025-01-09T02:33:57.826197Z",
     "iopub.status.busy": "2025-01-09T02:33:57.825848Z",
     "iopub.status.idle": "2025-01-09T02:33:57.842490Z",
     "shell.execute_reply": "2025-01-09T02:33:57.841414Z"
    },
    "papermill": {
     "duration": 0.04228,
     "end_time": "2025-01-09T02:33:57.844226",
     "exception": false,
     "start_time": "2025-01-09T02:33:57.801946",
     "status": "completed"
    },
    "tags": []
   },
   "outputs": [
    {
     "name": "stdout",
     "output_type": "stream",
     "text": [
      "<class 'pandas.core.frame.DataFrame'>\n",
      "RangeIndex: 7 entries, 0 to 6\n",
      "Data columns (total 5 columns):\n",
      " #   Column  Non-Null Count  Dtype  \n",
      "---  ------  --------------  -----  \n",
      " 0   name    7 non-null      object \n",
      " 1   age     6 non-null      float64\n",
      " 2   gender  6 non-null      object \n",
      " 3   job     6 non-null      object \n",
      " 4   height  5 non-null      float64\n",
      "dtypes: float64(2), object(3)\n",
      "memory usage: 408.0+ bytes\n"
     ]
    }
   ],
   "source": [
    "merge_outer.info()"
   ]
  },
  {
   "cell_type": "code",
   "execution_count": 28,
   "id": "2e6ea0d5",
   "metadata": {
    "execution": {
     "iopub.execute_input": "2025-01-09T02:33:57.891568Z",
     "iopub.status.busy": "2025-01-09T02:33:57.891247Z",
     "iopub.status.idle": "2025-01-09T02:33:57.905658Z",
     "shell.execute_reply": "2025-01-09T02:33:57.904857Z"
    },
    "papermill": {
     "duration": 0.040052,
     "end_time": "2025-01-09T02:33:57.907357",
     "exception": false,
     "start_time": "2025-01-09T02:33:57.867305",
     "status": "completed"
    },
    "tags": []
   },
   "outputs": [
    {
     "data": {
      "text/html": [
       "<div>\n",
       "<style scoped>\n",
       "    .dataframe tbody tr th:only-of-type {\n",
       "        vertical-align: middle;\n",
       "    }\n",
       "\n",
       "    .dataframe tbody tr th {\n",
       "        vertical-align: top;\n",
       "    }\n",
       "\n",
       "    .dataframe thead th {\n",
       "        text-align: right;\n",
       "    }\n",
       "</style>\n",
       "<table border=\"1\" class=\"dataframe\">\n",
       "  <thead>\n",
       "    <tr style=\"text-align: right;\">\n",
       "      <th></th>\n",
       "      <th>name</th>\n",
       "      <th>age</th>\n",
       "      <th>gender</th>\n",
       "      <th>job</th>\n",
       "      <th>height</th>\n",
       "    </tr>\n",
       "  </thead>\n",
       "  <tbody>\n",
       "    <tr>\n",
       "      <th>0</th>\n",
       "      <td>alice</td>\n",
       "      <td>19</td>\n",
       "      <td>F</td>\n",
       "      <td>student</td>\n",
       "      <td>165.0</td>\n",
       "    </tr>\n",
       "    <tr>\n",
       "      <th>1</th>\n",
       "      <td>john</td>\n",
       "      <td>26</td>\n",
       "      <td>M</td>\n",
       "      <td>student</td>\n",
       "      <td>168.0</td>\n",
       "    </tr>\n",
       "    <tr>\n",
       "      <th>2</th>\n",
       "      <td>eric</td>\n",
       "      <td>22</td>\n",
       "      <td>M</td>\n",
       "      <td>student</td>\n",
       "      <td>170.0</td>\n",
       "    </tr>\n",
       "    <tr>\n",
       "      <th>3</th>\n",
       "      <td>paul</td>\n",
       "      <td>58</td>\n",
       "      <td>F</td>\n",
       "      <td>manager</td>\n",
       "      <td>NaN</td>\n",
       "    </tr>\n",
       "    <tr>\n",
       "      <th>4</th>\n",
       "      <td>peter</td>\n",
       "      <td>33</td>\n",
       "      <td>M</td>\n",
       "      <td>engineer</td>\n",
       "      <td>NaN</td>\n",
       "    </tr>\n",
       "    <tr>\n",
       "      <th>5</th>\n",
       "      <td>julie</td>\n",
       "      <td>44</td>\n",
       "      <td>F</td>\n",
       "      <td>scientist</td>\n",
       "      <td>180.0</td>\n",
       "    </tr>\n",
       "  </tbody>\n",
       "</table>\n",
       "</div>"
      ],
      "text/plain": [
       "    name  age gender        job  height\n",
       "0  alice   19      F    student   165.0\n",
       "1   john   26      M    student   168.0\n",
       "2   eric   22      M    student   170.0\n",
       "3   paul   58      F    manager     NaN\n",
       "4  peter   33      M   engineer     NaN\n",
       "5  julie   44      F  scientist   180.0"
      ]
     },
     "execution_count": 28,
     "metadata": {},
     "output_type": "execute_result"
    }
   ],
   "source": [
    "# left outer join: all rows from the left data frame and only matching rows from the right data frame\n",
    "merge_left_outer = pd.merge(users, user4, on = 'name', how = 'left')\n",
    "merge_left_outer"
   ]
  },
  {
   "cell_type": "code",
   "execution_count": 29,
   "id": "f2e15148",
   "metadata": {
    "execution": {
     "iopub.execute_input": "2025-01-09T02:33:57.955464Z",
     "iopub.status.busy": "2025-01-09T02:33:57.955140Z",
     "iopub.status.idle": "2025-01-09T02:33:57.967745Z",
     "shell.execute_reply": "2025-01-09T02:33:57.966755Z"
    },
    "papermill": {
     "duration": 0.038445,
     "end_time": "2025-01-09T02:33:57.969372",
     "exception": false,
     "start_time": "2025-01-09T02:33:57.930927",
     "status": "completed"
    },
    "tags": []
   },
   "outputs": [
    {
     "data": {
      "text/html": [
       "<div>\n",
       "<style scoped>\n",
       "    .dataframe tbody tr th:only-of-type {\n",
       "        vertical-align: middle;\n",
       "    }\n",
       "\n",
       "    .dataframe tbody tr th {\n",
       "        vertical-align: top;\n",
       "    }\n",
       "\n",
       "    .dataframe thead th {\n",
       "        text-align: right;\n",
       "    }\n",
       "</style>\n",
       "<table border=\"1\" class=\"dataframe\">\n",
       "  <thead>\n",
       "    <tr style=\"text-align: right;\">\n",
       "      <th></th>\n",
       "      <th>name</th>\n",
       "      <th>age</th>\n",
       "      <th>gender</th>\n",
       "      <th>job</th>\n",
       "      <th>height</th>\n",
       "    </tr>\n",
       "  </thead>\n",
       "  <tbody>\n",
       "    <tr>\n",
       "      <th>0</th>\n",
       "      <td>alice</td>\n",
       "      <td>19.0</td>\n",
       "      <td>F</td>\n",
       "      <td>student</td>\n",
       "      <td>165</td>\n",
       "    </tr>\n",
       "    <tr>\n",
       "      <th>1</th>\n",
       "      <td>john</td>\n",
       "      <td>26.0</td>\n",
       "      <td>M</td>\n",
       "      <td>student</td>\n",
       "      <td>168</td>\n",
       "    </tr>\n",
       "    <tr>\n",
       "      <th>2</th>\n",
       "      <td>eric</td>\n",
       "      <td>22.0</td>\n",
       "      <td>M</td>\n",
       "      <td>student</td>\n",
       "      <td>170</td>\n",
       "    </tr>\n",
       "    <tr>\n",
       "      <th>3</th>\n",
       "      <td>julie</td>\n",
       "      <td>44.0</td>\n",
       "      <td>F</td>\n",
       "      <td>scientist</td>\n",
       "      <td>180</td>\n",
       "    </tr>\n",
       "    <tr>\n",
       "      <th>4</th>\n",
       "      <td>rita</td>\n",
       "      <td>NaN</td>\n",
       "      <td>NaN</td>\n",
       "      <td>NaN</td>\n",
       "      <td>167</td>\n",
       "    </tr>\n",
       "  </tbody>\n",
       "</table>\n",
       "</div>"
      ],
      "text/plain": [
       "    name   age gender        job  height\n",
       "0  alice  19.0      F    student     165\n",
       "1   john  26.0      M    student     168\n",
       "2   eric  22.0      M    student     170\n",
       "3  julie  44.0      F  scientist     180\n",
       "4   rita   NaN    NaN        NaN     167"
      ]
     },
     "execution_count": 29,
     "metadata": {},
     "output_type": "execute_result"
    }
   ],
   "source": [
    "# right outer join: only all matching rows from the left data frame and all rows from the right data frame\n",
    "merge_right_outer = pd.merge(users, user4, on = 'name', how = 'right')\n",
    "merge_right_outer"
   ]
  },
  {
   "cell_type": "markdown",
   "id": "3a45e818",
   "metadata": {
    "papermill": {
     "duration": 0.024133,
     "end_time": "2025-01-09T02:33:58.017104",
     "exception": false,
     "start_time": "2025-01-09T02:33:57.992971",
     "status": "completed"
    },
    "tags": []
   },
   "source": [
    "## **Summarizing**"
   ]
  },
  {
   "cell_type": "code",
   "execution_count": 30,
   "id": "e949a7df",
   "metadata": {
    "execution": {
     "iopub.execute_input": "2025-01-09T02:33:58.067655Z",
     "iopub.status.busy": "2025-01-09T02:33:58.067340Z",
     "iopub.status.idle": "2025-01-09T02:33:58.076528Z",
     "shell.execute_reply": "2025-01-09T02:33:58.075353Z"
    },
    "papermill": {
     "duration": 0.036156,
     "end_time": "2025-01-09T02:33:58.078146",
     "exception": false,
     "start_time": "2025-01-09T02:33:58.041990",
     "status": "completed"
    },
    "tags": []
   },
   "outputs": [
    {
     "data": {
      "text/html": [
       "<div>\n",
       "<style scoped>\n",
       "    .dataframe tbody tr th:only-of-type {\n",
       "        vertical-align: middle;\n",
       "    }\n",
       "\n",
       "    .dataframe tbody tr th {\n",
       "        vertical-align: top;\n",
       "    }\n",
       "\n",
       "    .dataframe thead th {\n",
       "        text-align: right;\n",
       "    }\n",
       "</style>\n",
       "<table border=\"1\" class=\"dataframe\">\n",
       "  <thead>\n",
       "    <tr style=\"text-align: right;\">\n",
       "      <th></th>\n",
       "      <th>name</th>\n",
       "      <th>age</th>\n",
       "      <th>gender</th>\n",
       "      <th>job</th>\n",
       "    </tr>\n",
       "  </thead>\n",
       "  <tbody>\n",
       "    <tr>\n",
       "      <th>0</th>\n",
       "      <td>alice</td>\n",
       "      <td>19</td>\n",
       "      <td>F</td>\n",
       "      <td>student</td>\n",
       "    </tr>\n",
       "    <tr>\n",
       "      <th>1</th>\n",
       "      <td>john</td>\n",
       "      <td>26</td>\n",
       "      <td>M</td>\n",
       "      <td>student</td>\n",
       "    </tr>\n",
       "    <tr>\n",
       "      <th>2</th>\n",
       "      <td>eric</td>\n",
       "      <td>22</td>\n",
       "      <td>M</td>\n",
       "      <td>student</td>\n",
       "    </tr>\n",
       "    <tr>\n",
       "      <th>3</th>\n",
       "      <td>paul</td>\n",
       "      <td>58</td>\n",
       "      <td>F</td>\n",
       "      <td>manager</td>\n",
       "    </tr>\n",
       "    <tr>\n",
       "      <th>4</th>\n",
       "      <td>peter</td>\n",
       "      <td>33</td>\n",
       "      <td>M</td>\n",
       "      <td>engineer</td>\n",
       "    </tr>\n",
       "    <tr>\n",
       "      <th>5</th>\n",
       "      <td>julie</td>\n",
       "      <td>44</td>\n",
       "      <td>F</td>\n",
       "      <td>scientist</td>\n",
       "    </tr>\n",
       "  </tbody>\n",
       "</table>\n",
       "</div>"
      ],
      "text/plain": [
       "    name  age gender        job\n",
       "0  alice   19      F    student\n",
       "1   john   26      M    student\n",
       "2   eric   22      M    student\n",
       "3   paul   58      F    manager\n",
       "4  peter   33      M   engineer\n",
       "5  julie   44      F  scientist"
      ]
     },
     "execution_count": 30,
     "metadata": {},
     "output_type": "execute_result"
    }
   ],
   "source": [
    "users"
   ]
  },
  {
   "cell_type": "code",
   "execution_count": 31,
   "id": "daaca9b7",
   "metadata": {
    "execution": {
     "iopub.execute_input": "2025-01-09T02:33:58.126938Z",
     "iopub.status.busy": "2025-01-09T02:33:58.126540Z",
     "iopub.status.idle": "2025-01-09T02:33:58.135706Z",
     "shell.execute_reply": "2025-01-09T02:33:58.134702Z"
    },
    "papermill": {
     "duration": 0.035317,
     "end_time": "2025-01-09T02:33:58.137347",
     "exception": false,
     "start_time": "2025-01-09T02:33:58.102030",
     "status": "completed"
    },
    "tags": []
   },
   "outputs": [
    {
     "data": {
      "text/html": [
       "<div>\n",
       "<style scoped>\n",
       "    .dataframe tbody tr th:only-of-type {\n",
       "        vertical-align: middle;\n",
       "    }\n",
       "\n",
       "    .dataframe tbody tr th {\n",
       "        vertical-align: top;\n",
       "    }\n",
       "\n",
       "    .dataframe thead th {\n",
       "        text-align: right;\n",
       "    }\n",
       "</style>\n",
       "<table border=\"1\" class=\"dataframe\">\n",
       "  <thead>\n",
       "    <tr style=\"text-align: right;\">\n",
       "      <th></th>\n",
       "      <th>name</th>\n",
       "      <th>age</th>\n",
       "      <th>gender</th>\n",
       "      <th>job</th>\n",
       "    </tr>\n",
       "  </thead>\n",
       "  <tbody>\n",
       "    <tr>\n",
       "      <th>0</th>\n",
       "      <td>alice</td>\n",
       "      <td>19</td>\n",
       "      <td>F</td>\n",
       "      <td>student</td>\n",
       "    </tr>\n",
       "    <tr>\n",
       "      <th>1</th>\n",
       "      <td>john</td>\n",
       "      <td>26</td>\n",
       "      <td>M</td>\n",
       "      <td>student</td>\n",
       "    </tr>\n",
       "    <tr>\n",
       "      <th>2</th>\n",
       "      <td>eric</td>\n",
       "      <td>22</td>\n",
       "      <td>M</td>\n",
       "      <td>student</td>\n",
       "    </tr>\n",
       "  </tbody>\n",
       "</table>\n",
       "</div>"
      ],
      "text/plain": [
       "    name  age gender      job\n",
       "0  alice   19      F  student\n",
       "1   john   26      M  student\n",
       "2   eric   22      M  student"
      ]
     },
     "execution_count": 31,
     "metadata": {},
     "output_type": "execute_result"
    }
   ],
   "source": [
    "users.head(3)   # by default first 5 records"
   ]
  },
  {
   "cell_type": "code",
   "execution_count": 32,
   "id": "ab372df3",
   "metadata": {
    "execution": {
     "iopub.execute_input": "2025-01-09T02:33:58.186490Z",
     "iopub.status.busy": "2025-01-09T02:33:58.186174Z",
     "iopub.status.idle": "2025-01-09T02:33:58.194952Z",
     "shell.execute_reply": "2025-01-09T02:33:58.193961Z"
    },
    "papermill": {
     "duration": 0.035403,
     "end_time": "2025-01-09T02:33:58.196642",
     "exception": false,
     "start_time": "2025-01-09T02:33:58.161239",
     "status": "completed"
    },
    "tags": []
   },
   "outputs": [
    {
     "data": {
      "text/html": [
       "<div>\n",
       "<style scoped>\n",
       "    .dataframe tbody tr th:only-of-type {\n",
       "        vertical-align: middle;\n",
       "    }\n",
       "\n",
       "    .dataframe tbody tr th {\n",
       "        vertical-align: top;\n",
       "    }\n",
       "\n",
       "    .dataframe thead th {\n",
       "        text-align: right;\n",
       "    }\n",
       "</style>\n",
       "<table border=\"1\" class=\"dataframe\">\n",
       "  <thead>\n",
       "    <tr style=\"text-align: right;\">\n",
       "      <th></th>\n",
       "      <th>name</th>\n",
       "      <th>age</th>\n",
       "      <th>gender</th>\n",
       "      <th>job</th>\n",
       "    </tr>\n",
       "  </thead>\n",
       "  <tbody>\n",
       "    <tr>\n",
       "      <th>3</th>\n",
       "      <td>paul</td>\n",
       "      <td>58</td>\n",
       "      <td>F</td>\n",
       "      <td>manager</td>\n",
       "    </tr>\n",
       "    <tr>\n",
       "      <th>4</th>\n",
       "      <td>peter</td>\n",
       "      <td>33</td>\n",
       "      <td>M</td>\n",
       "      <td>engineer</td>\n",
       "    </tr>\n",
       "    <tr>\n",
       "      <th>5</th>\n",
       "      <td>julie</td>\n",
       "      <td>44</td>\n",
       "      <td>F</td>\n",
       "      <td>scientist</td>\n",
       "    </tr>\n",
       "  </tbody>\n",
       "</table>\n",
       "</div>"
      ],
      "text/plain": [
       "    name  age gender        job\n",
       "3   paul   58      F    manager\n",
       "4  peter   33      M   engineer\n",
       "5  julie   44      F  scientist"
      ]
     },
     "execution_count": 32,
     "metadata": {},
     "output_type": "execute_result"
    }
   ],
   "source": [
    "users.tail(3)   # by default last 5 records"
   ]
  },
  {
   "cell_type": "code",
   "execution_count": 33,
   "id": "0f08c8bc",
   "metadata": {
    "execution": {
     "iopub.execute_input": "2025-01-09T02:33:58.246540Z",
     "iopub.status.busy": "2025-01-09T02:33:58.246187Z",
     "iopub.status.idle": "2025-01-09T02:33:58.257158Z",
     "shell.execute_reply": "2025-01-09T02:33:58.256204Z"
    },
    "papermill": {
     "duration": 0.037684,
     "end_time": "2025-01-09T02:33:58.258726",
     "exception": false,
     "start_time": "2025-01-09T02:33:58.221042",
     "status": "completed"
    },
    "tags": []
   },
   "outputs": [
    {
     "data": {
      "text/html": [
       "<div>\n",
       "<style scoped>\n",
       "    .dataframe tbody tr th:only-of-type {\n",
       "        vertical-align: middle;\n",
       "    }\n",
       "\n",
       "    .dataframe tbody tr th {\n",
       "        vertical-align: top;\n",
       "    }\n",
       "\n",
       "    .dataframe thead th {\n",
       "        text-align: right;\n",
       "    }\n",
       "</style>\n",
       "<table border=\"1\" class=\"dataframe\">\n",
       "  <thead>\n",
       "    <tr style=\"text-align: right;\">\n",
       "      <th></th>\n",
       "      <th>name</th>\n",
       "      <th>age</th>\n",
       "      <th>gender</th>\n",
       "      <th>job</th>\n",
       "    </tr>\n",
       "  </thead>\n",
       "  <tbody>\n",
       "    <tr>\n",
       "      <th>2</th>\n",
       "      <td>eric</td>\n",
       "      <td>22</td>\n",
       "      <td>M</td>\n",
       "      <td>student</td>\n",
       "    </tr>\n",
       "    <tr>\n",
       "      <th>0</th>\n",
       "      <td>alice</td>\n",
       "      <td>19</td>\n",
       "      <td>F</td>\n",
       "      <td>student</td>\n",
       "    </tr>\n",
       "    <tr>\n",
       "      <th>4</th>\n",
       "      <td>peter</td>\n",
       "      <td>33</td>\n",
       "      <td>M</td>\n",
       "      <td>engineer</td>\n",
       "    </tr>\n",
       "  </tbody>\n",
       "</table>\n",
       "</div>"
      ],
      "text/plain": [
       "    name  age gender       job\n",
       "2   eric   22      M   student\n",
       "0  alice   19      F   student\n",
       "4  peter   33      M  engineer"
      ]
     },
     "execution_count": 33,
     "metadata": {},
     "output_type": "execute_result"
    }
   ],
   "source": [
    "users.sample(3)   # any 3 rows randomly selected"
   ]
  },
  {
   "cell_type": "code",
   "execution_count": 34,
   "id": "aad26c04",
   "metadata": {
    "execution": {
     "iopub.execute_input": "2025-01-09T02:33:58.308555Z",
     "iopub.status.busy": "2025-01-09T02:33:58.308211Z",
     "iopub.status.idle": "2025-01-09T02:33:58.315517Z",
     "shell.execute_reply": "2025-01-09T02:33:58.314462Z"
    },
    "papermill": {
     "duration": 0.034032,
     "end_time": "2025-01-09T02:33:58.317112",
     "exception": false,
     "start_time": "2025-01-09T02:33:58.283080",
     "status": "completed"
    },
    "tags": []
   },
   "outputs": [
    {
     "name": "stdout",
     "output_type": "stream",
     "text": [
      "(6, 4) <class 'tuple'>\n",
      "Number of rows = 6 and cols = 4...\n",
      "RangeIndex(start=0, stop=6, step=1)\n",
      "name      object\n",
      "age        int64\n",
      "gender    object\n",
      "job       object\n",
      "dtype: object <class 'pandas.core.series.Series'>\n",
      "Index(['name', 'age', 'gender', 'job'], dtype='object')\n"
     ]
    }
   ],
   "source": [
    "print (users.shape, type(users.shape))\n",
    "print (f\"Number of rows = {users.shape[0]} and cols = {users.shape[1]}...\")\n",
    "print (users.index)\n",
    "print (users.dtypes, type(users.dtypes))\n",
    "print (users.columns)"
   ]
  },
  {
   "cell_type": "code",
   "execution_count": 35,
   "id": "1ad784db",
   "metadata": {
    "execution": {
     "iopub.execute_input": "2025-01-09T02:33:58.367139Z",
     "iopub.status.busy": "2025-01-09T02:33:58.366752Z",
     "iopub.status.idle": "2025-01-09T02:33:58.373053Z",
     "shell.execute_reply": "2025-01-09T02:33:58.371803Z"
    },
    "papermill": {
     "duration": 0.033223,
     "end_time": "2025-01-09T02:33:58.374623",
     "exception": false,
     "start_time": "2025-01-09T02:33:58.341400",
     "status": "completed"
    },
    "tags": []
   },
   "outputs": [
    {
     "name": "stdout",
     "output_type": "stream",
     "text": [
      "<class 'pandas.core.frame.DataFrame'>\n",
      "name      True\n",
      "age       True\n",
      "gender    True\n",
      "job       True\n",
      "dtype: bool\n"
     ]
    }
   ],
   "source": [
    "print (type(users))\n",
    "print (users.any())"
   ]
  },
  {
   "cell_type": "code",
   "execution_count": 36,
   "id": "7a714306",
   "metadata": {
    "execution": {
     "iopub.execute_input": "2025-01-09T02:33:58.424942Z",
     "iopub.status.busy": "2025-01-09T02:33:58.424538Z",
     "iopub.status.idle": "2025-01-09T02:33:58.433495Z",
     "shell.execute_reply": "2025-01-09T02:33:58.432654Z"
    },
    "papermill": {
     "duration": 0.035803,
     "end_time": "2025-01-09T02:33:58.435016",
     "exception": false,
     "start_time": "2025-01-09T02:33:58.399213",
     "status": "completed"
    },
    "tags": []
   },
   "outputs": [
    {
     "data": {
      "text/html": [
       "<div>\n",
       "<style scoped>\n",
       "    .dataframe tbody tr th:only-of-type {\n",
       "        vertical-align: middle;\n",
       "    }\n",
       "\n",
       "    .dataframe tbody tr th {\n",
       "        vertical-align: top;\n",
       "    }\n",
       "\n",
       "    .dataframe thead th {\n",
       "        text-align: right;\n",
       "    }\n",
       "</style>\n",
       "<table border=\"1\" class=\"dataframe\">\n",
       "  <thead>\n",
       "    <tr style=\"text-align: right;\">\n",
       "      <th></th>\n",
       "      <th>name</th>\n",
       "      <th>age</th>\n",
       "      <th>gender</th>\n",
       "      <th>job</th>\n",
       "    </tr>\n",
       "  </thead>\n",
       "  <tbody>\n",
       "    <tr>\n",
       "      <th>0</th>\n",
       "      <td>alice</td>\n",
       "      <td>19</td>\n",
       "      <td>F</td>\n",
       "      <td>student</td>\n",
       "    </tr>\n",
       "    <tr>\n",
       "      <th>1</th>\n",
       "      <td>john</td>\n",
       "      <td>26</td>\n",
       "      <td>M</td>\n",
       "      <td>student</td>\n",
       "    </tr>\n",
       "    <tr>\n",
       "      <th>2</th>\n",
       "      <td>eric</td>\n",
       "      <td>22</td>\n",
       "      <td>M</td>\n",
       "      <td>student</td>\n",
       "    </tr>\n",
       "    <tr>\n",
       "      <th>3</th>\n",
       "      <td>paul</td>\n",
       "      <td>58</td>\n",
       "      <td>F</td>\n",
       "      <td>manager</td>\n",
       "    </tr>\n",
       "    <tr>\n",
       "      <th>4</th>\n",
       "      <td>peter</td>\n",
       "      <td>33</td>\n",
       "      <td>M</td>\n",
       "      <td>engineer</td>\n",
       "    </tr>\n",
       "    <tr>\n",
       "      <th>5</th>\n",
       "      <td>julie</td>\n",
       "      <td>44</td>\n",
       "      <td>F</td>\n",
       "      <td>scientist</td>\n",
       "    </tr>\n",
       "  </tbody>\n",
       "</table>\n",
       "</div>"
      ],
      "text/plain": [
       "    name  age gender        job\n",
       "0  alice   19      F    student\n",
       "1   john   26      M    student\n",
       "2   eric   22      M    student\n",
       "3   paul   58      F    manager\n",
       "4  peter   33      M   engineer\n",
       "5  julie   44      F  scientist"
      ]
     },
     "execution_count": 36,
     "metadata": {},
     "output_type": "execute_result"
    }
   ],
   "source": [
    "users"
   ]
  },
  {
   "cell_type": "code",
   "execution_count": 37,
   "id": "2cec3934",
   "metadata": {
    "execution": {
     "iopub.execute_input": "2025-01-09T02:33:58.485461Z",
     "iopub.status.busy": "2025-01-09T02:33:58.485150Z",
     "iopub.status.idle": "2025-01-09T02:33:58.491663Z",
     "shell.execute_reply": "2025-01-09T02:33:58.490863Z"
    },
    "papermill": {
     "duration": 0.033536,
     "end_time": "2025-01-09T02:33:58.493245",
     "exception": false,
     "start_time": "2025-01-09T02:33:58.459709",
     "status": "completed"
    },
    "tags": []
   },
   "outputs": [
    {
     "name": "stdout",
     "output_type": "stream",
     "text": [
      "[['alice' 19 'F' 'student']\n",
      " ['john' 26 'M' 'student']\n",
      " ['eric' 22 'M' 'student']\n",
      " ['paul' 58 'F' 'manager']\n",
      " ['peter' 33 'M' 'engineer']\n",
      " ['julie' 44 'F' 'scientist']]\n",
      "<class 'numpy.ndarray'>\n",
      "(6, 4) 2 24 6\n"
     ]
    }
   ],
   "source": [
    "print (users.values)\n",
    "print (type(users.values))\n",
    "print (users.values.shape, users.values.ndim, users.values.size, len(users.values))"
   ]
  },
  {
   "cell_type": "code",
   "execution_count": 38,
   "id": "66db877b",
   "metadata": {
    "execution": {
     "iopub.execute_input": "2025-01-09T02:33:58.544616Z",
     "iopub.status.busy": "2025-01-09T02:33:58.544276Z",
     "iopub.status.idle": "2025-01-09T02:33:58.551638Z",
     "shell.execute_reply": "2025-01-09T02:33:58.550374Z"
    },
    "papermill": {
     "duration": 0.034997,
     "end_time": "2025-01-09T02:33:58.553203",
     "exception": false,
     "start_time": "2025-01-09T02:33:58.518206",
     "status": "completed"
    },
    "tags": []
   },
   "outputs": [
    {
     "name": "stdout",
     "output_type": "stream",
     "text": [
      "gender\n",
      "F    3\n",
      "M    3\n",
      "Name: count, dtype: int64\n",
      "job\n",
      "student      3\n",
      "manager      1\n",
      "engineer     1\n",
      "scientist    1\n",
      "Name: count, dtype: int64\n"
     ]
    }
   ],
   "source": [
    "print (users.gender.value_counts())\n",
    "print (users.job.value_counts())"
   ]
  },
  {
   "cell_type": "code",
   "execution_count": 39,
   "id": "9a060622",
   "metadata": {
    "execution": {
     "iopub.execute_input": "2025-01-09T02:33:58.604649Z",
     "iopub.status.busy": "2025-01-09T02:33:58.604307Z",
     "iopub.status.idle": "2025-01-09T02:33:58.617069Z",
     "shell.execute_reply": "2025-01-09T02:33:58.616109Z"
    },
    "papermill": {
     "duration": 0.040225,
     "end_time": "2025-01-09T02:33:58.618654",
     "exception": false,
     "start_time": "2025-01-09T02:33:58.578429",
     "status": "completed"
    },
    "tags": []
   },
   "outputs": [
    {
     "data": {
      "text/html": [
       "<div>\n",
       "<style scoped>\n",
       "    .dataframe tbody tr th:only-of-type {\n",
       "        vertical-align: middle;\n",
       "    }\n",
       "\n",
       "    .dataframe tbody tr th {\n",
       "        vertical-align: top;\n",
       "    }\n",
       "\n",
       "    .dataframe thead th {\n",
       "        text-align: right;\n",
       "    }\n",
       "</style>\n",
       "<table border=\"1\" class=\"dataframe\">\n",
       "  <thead>\n",
       "    <tr style=\"text-align: right;\">\n",
       "      <th></th>\n",
       "      <th>age</th>\n",
       "    </tr>\n",
       "  </thead>\n",
       "  <tbody>\n",
       "    <tr>\n",
       "      <th>count</th>\n",
       "      <td>6.000000</td>\n",
       "    </tr>\n",
       "    <tr>\n",
       "      <th>mean</th>\n",
       "      <td>33.666667</td>\n",
       "    </tr>\n",
       "    <tr>\n",
       "      <th>std</th>\n",
       "      <td>14.895189</td>\n",
       "    </tr>\n",
       "    <tr>\n",
       "      <th>min</th>\n",
       "      <td>19.000000</td>\n",
       "    </tr>\n",
       "    <tr>\n",
       "      <th>25%</th>\n",
       "      <td>23.000000</td>\n",
       "    </tr>\n",
       "    <tr>\n",
       "      <th>50%</th>\n",
       "      <td>29.500000</td>\n",
       "    </tr>\n",
       "    <tr>\n",
       "      <th>75%</th>\n",
       "      <td>41.250000</td>\n",
       "    </tr>\n",
       "    <tr>\n",
       "      <th>max</th>\n",
       "      <td>58.000000</td>\n",
       "    </tr>\n",
       "  </tbody>\n",
       "</table>\n",
       "</div>"
      ],
      "text/plain": [
       "             age\n",
       "count   6.000000\n",
       "mean   33.666667\n",
       "std    14.895189\n",
       "min    19.000000\n",
       "25%    23.000000\n",
       "50%    29.500000\n",
       "75%    41.250000\n",
       "max    58.000000"
      ]
     },
     "execution_count": 39,
     "metadata": {},
     "output_type": "execute_result"
    }
   ],
   "source": [
    "users.describe()"
   ]
  },
  {
   "cell_type": "code",
   "execution_count": 40,
   "id": "cb8e53bb",
   "metadata": {
    "execution": {
     "iopub.execute_input": "2025-01-09T02:33:58.672319Z",
     "iopub.status.busy": "2025-01-09T02:33:58.671968Z",
     "iopub.status.idle": "2025-01-09T02:33:58.686040Z",
     "shell.execute_reply": "2025-01-09T02:33:58.685022Z"
    },
    "papermill": {
     "duration": 0.041733,
     "end_time": "2025-01-09T02:33:58.687559",
     "exception": false,
     "start_time": "2025-01-09T02:33:58.645826",
     "status": "completed"
    },
    "tags": []
   },
   "outputs": [
    {
     "data": {
      "text/html": [
       "<div>\n",
       "<style scoped>\n",
       "    .dataframe tbody tr th:only-of-type {\n",
       "        vertical-align: middle;\n",
       "    }\n",
       "\n",
       "    .dataframe tbody tr th {\n",
       "        vertical-align: top;\n",
       "    }\n",
       "\n",
       "    .dataframe thead th {\n",
       "        text-align: right;\n",
       "    }\n",
       "</style>\n",
       "<table border=\"1\" class=\"dataframe\">\n",
       "  <thead>\n",
       "    <tr style=\"text-align: right;\">\n",
       "      <th></th>\n",
       "      <th>count</th>\n",
       "      <th>mean</th>\n",
       "      <th>std</th>\n",
       "      <th>min</th>\n",
       "      <th>25%</th>\n",
       "      <th>50%</th>\n",
       "      <th>75%</th>\n",
       "      <th>max</th>\n",
       "    </tr>\n",
       "  </thead>\n",
       "  <tbody>\n",
       "    <tr>\n",
       "      <th>age</th>\n",
       "      <td>6.0</td>\n",
       "      <td>33.666667</td>\n",
       "      <td>14.895189</td>\n",
       "      <td>19.0</td>\n",
       "      <td>23.0</td>\n",
       "      <td>29.5</td>\n",
       "      <td>41.25</td>\n",
       "      <td>58.0</td>\n",
       "    </tr>\n",
       "  </tbody>\n",
       "</table>\n",
       "</div>"
      ],
      "text/plain": [
       "     count       mean        std   min   25%   50%    75%   max\n",
       "age    6.0  33.666667  14.895189  19.0  23.0  29.5  41.25  58.0"
      ]
     },
     "execution_count": 40,
     "metadata": {},
     "output_type": "execute_result"
    }
   ],
   "source": [
    "users.describe().T"
   ]
  },
  {
   "cell_type": "code",
   "execution_count": 41,
   "id": "ca3545b1",
   "metadata": {
    "execution": {
     "iopub.execute_input": "2025-01-09T02:33:58.739482Z",
     "iopub.status.busy": "2025-01-09T02:33:58.739120Z",
     "iopub.status.idle": "2025-01-09T02:33:58.753644Z",
     "shell.execute_reply": "2025-01-09T02:33:58.752734Z"
    },
    "papermill": {
     "duration": 0.042242,
     "end_time": "2025-01-09T02:33:58.755240",
     "exception": false,
     "start_time": "2025-01-09T02:33:58.712998",
     "status": "completed"
    },
    "tags": []
   },
   "outputs": [
    {
     "data": {
      "text/html": [
       "<div>\n",
       "<style scoped>\n",
       "    .dataframe tbody tr th:only-of-type {\n",
       "        vertical-align: middle;\n",
       "    }\n",
       "\n",
       "    .dataframe tbody tr th {\n",
       "        vertical-align: top;\n",
       "    }\n",
       "\n",
       "    .dataframe thead th {\n",
       "        text-align: right;\n",
       "    }\n",
       "</style>\n",
       "<table border=\"1\" class=\"dataframe\">\n",
       "  <thead>\n",
       "    <tr style=\"text-align: right;\">\n",
       "      <th></th>\n",
       "      <th>count</th>\n",
       "      <th>mean</th>\n",
       "      <th>std</th>\n",
       "      <th>min</th>\n",
       "      <th>25%</th>\n",
       "      <th>50%</th>\n",
       "      <th>75%</th>\n",
       "      <th>max</th>\n",
       "    </tr>\n",
       "  </thead>\n",
       "  <tbody>\n",
       "    <tr>\n",
       "      <th>age</th>\n",
       "      <td>6.0</td>\n",
       "      <td>33.666667</td>\n",
       "      <td>14.895189</td>\n",
       "      <td>19.0</td>\n",
       "      <td>23.0</td>\n",
       "      <td>29.5</td>\n",
       "      <td>41.25</td>\n",
       "      <td>58.0</td>\n",
       "    </tr>\n",
       "  </tbody>\n",
       "</table>\n",
       "</div>"
      ],
      "text/plain": [
       "     count       mean        std   min   25%   50%    75%   max\n",
       "age    6.0  33.666667  14.895189  19.0  23.0  29.5  41.25  58.0"
      ]
     },
     "execution_count": 41,
     "metadata": {},
     "output_type": "execute_result"
    }
   ],
   "source": [
    "users.describe().transpose()"
   ]
  },
  {
   "cell_type": "code",
   "execution_count": 42,
   "id": "45c990f2",
   "metadata": {
    "execution": {
     "iopub.execute_input": "2025-01-09T02:33:58.856219Z",
     "iopub.status.busy": "2025-01-09T02:33:58.855716Z",
     "iopub.status.idle": "2025-01-09T02:33:58.869885Z",
     "shell.execute_reply": "2025-01-09T02:33:58.868930Z"
    },
    "papermill": {
     "duration": 0.041913,
     "end_time": "2025-01-09T02:33:58.871393",
     "exception": false,
     "start_time": "2025-01-09T02:33:58.829480",
     "status": "completed"
    },
    "tags": []
   },
   "outputs": [
    {
     "data": {
      "text/html": [
       "<div>\n",
       "<style scoped>\n",
       "    .dataframe tbody tr th:only-of-type {\n",
       "        vertical-align: middle;\n",
       "    }\n",
       "\n",
       "    .dataframe tbody tr th {\n",
       "        vertical-align: top;\n",
       "    }\n",
       "\n",
       "    .dataframe thead th {\n",
       "        text-align: right;\n",
       "    }\n",
       "</style>\n",
       "<table border=\"1\" class=\"dataframe\">\n",
       "  <thead>\n",
       "    <tr style=\"text-align: right;\">\n",
       "      <th></th>\n",
       "      <th>count</th>\n",
       "      <th>unique</th>\n",
       "      <th>top</th>\n",
       "      <th>freq</th>\n",
       "    </tr>\n",
       "  </thead>\n",
       "  <tbody>\n",
       "    <tr>\n",
       "      <th>name</th>\n",
       "      <td>6</td>\n",
       "      <td>6</td>\n",
       "      <td>alice</td>\n",
       "      <td>1</td>\n",
       "    </tr>\n",
       "    <tr>\n",
       "      <th>gender</th>\n",
       "      <td>6</td>\n",
       "      <td>2</td>\n",
       "      <td>F</td>\n",
       "      <td>3</td>\n",
       "    </tr>\n",
       "    <tr>\n",
       "      <th>job</th>\n",
       "      <td>6</td>\n",
       "      <td>4</td>\n",
       "      <td>student</td>\n",
       "      <td>3</td>\n",
       "    </tr>\n",
       "  </tbody>\n",
       "</table>\n",
       "</div>"
      ],
      "text/plain": [
       "       count unique      top freq\n",
       "name       6      6    alice    1\n",
       "gender     6      2        F    3\n",
       "job        6      4  student    3"
      ]
     },
     "execution_count": 42,
     "metadata": {},
     "output_type": "execute_result"
    }
   ],
   "source": [
    "users.describe(include=['object']).T"
   ]
  },
  {
   "cell_type": "code",
   "execution_count": 43,
   "id": "3e99420f",
   "metadata": {
    "execution": {
     "iopub.execute_input": "2025-01-09T02:33:58.923951Z",
     "iopub.status.busy": "2025-01-09T02:33:58.923545Z",
     "iopub.status.idle": "2025-01-09T02:33:58.943124Z",
     "shell.execute_reply": "2025-01-09T02:33:58.941790Z"
    },
    "papermill": {
     "duration": 0.047535,
     "end_time": "2025-01-09T02:33:58.944607",
     "exception": false,
     "start_time": "2025-01-09T02:33:58.897072",
     "status": "completed"
    },
    "tags": []
   },
   "outputs": [
    {
     "data": {
      "text/html": [
       "<div>\n",
       "<style scoped>\n",
       "    .dataframe tbody tr th:only-of-type {\n",
       "        vertical-align: middle;\n",
       "    }\n",
       "\n",
       "    .dataframe tbody tr th {\n",
       "        vertical-align: top;\n",
       "    }\n",
       "\n",
       "    .dataframe thead th {\n",
       "        text-align: right;\n",
       "    }\n",
       "</style>\n",
       "<table border=\"1\" class=\"dataframe\">\n",
       "  <thead>\n",
       "    <tr style=\"text-align: right;\">\n",
       "      <th></th>\n",
       "      <th>count</th>\n",
       "      <th>unique</th>\n",
       "      <th>top</th>\n",
       "      <th>freq</th>\n",
       "      <th>mean</th>\n",
       "      <th>std</th>\n",
       "      <th>min</th>\n",
       "      <th>25%</th>\n",
       "      <th>50%</th>\n",
       "      <th>75%</th>\n",
       "      <th>max</th>\n",
       "    </tr>\n",
       "  </thead>\n",
       "  <tbody>\n",
       "    <tr>\n",
       "      <th>name</th>\n",
       "      <td>6</td>\n",
       "      <td>6</td>\n",
       "      <td>alice</td>\n",
       "      <td>1</td>\n",
       "      <td>NaN</td>\n",
       "      <td>NaN</td>\n",
       "      <td>NaN</td>\n",
       "      <td>NaN</td>\n",
       "      <td>NaN</td>\n",
       "      <td>NaN</td>\n",
       "      <td>NaN</td>\n",
       "    </tr>\n",
       "    <tr>\n",
       "      <th>age</th>\n",
       "      <td>6.0</td>\n",
       "      <td>NaN</td>\n",
       "      <td>NaN</td>\n",
       "      <td>NaN</td>\n",
       "      <td>33.666667</td>\n",
       "      <td>14.895189</td>\n",
       "      <td>19.0</td>\n",
       "      <td>23.0</td>\n",
       "      <td>29.5</td>\n",
       "      <td>41.25</td>\n",
       "      <td>58.0</td>\n",
       "    </tr>\n",
       "    <tr>\n",
       "      <th>gender</th>\n",
       "      <td>6</td>\n",
       "      <td>2</td>\n",
       "      <td>F</td>\n",
       "      <td>3</td>\n",
       "      <td>NaN</td>\n",
       "      <td>NaN</td>\n",
       "      <td>NaN</td>\n",
       "      <td>NaN</td>\n",
       "      <td>NaN</td>\n",
       "      <td>NaN</td>\n",
       "      <td>NaN</td>\n",
       "    </tr>\n",
       "    <tr>\n",
       "      <th>job</th>\n",
       "      <td>6</td>\n",
       "      <td>4</td>\n",
       "      <td>student</td>\n",
       "      <td>3</td>\n",
       "      <td>NaN</td>\n",
       "      <td>NaN</td>\n",
       "      <td>NaN</td>\n",
       "      <td>NaN</td>\n",
       "      <td>NaN</td>\n",
       "      <td>NaN</td>\n",
       "      <td>NaN</td>\n",
       "    </tr>\n",
       "  </tbody>\n",
       "</table>\n",
       "</div>"
      ],
      "text/plain": [
       "       count unique      top freq       mean        std   min   25%   50%  \\\n",
       "name       6      6    alice    1        NaN        NaN   NaN   NaN   NaN   \n",
       "age      6.0    NaN      NaN  NaN  33.666667  14.895189  19.0  23.0  29.5   \n",
       "gender     6      2        F    3        NaN        NaN   NaN   NaN   NaN   \n",
       "job        6      4  student    3        NaN        NaN   NaN   NaN   NaN   \n",
       "\n",
       "          75%   max  \n",
       "name      NaN   NaN  \n",
       "age     41.25  58.0  \n",
       "gender    NaN   NaN  \n",
       "job       NaN   NaN  "
      ]
     },
     "execution_count": 43,
     "metadata": {},
     "output_type": "execute_result"
    }
   ],
   "source": [
    "users.describe(include='all').T"
   ]
  },
  {
   "cell_type": "code",
   "execution_count": 44,
   "id": "621b34fe",
   "metadata": {
    "execution": {
     "iopub.execute_input": "2025-01-09T02:33:58.997723Z",
     "iopub.status.busy": "2025-01-09T02:33:58.997376Z",
     "iopub.status.idle": "2025-01-09T02:33:59.006844Z",
     "shell.execute_reply": "2025-01-09T02:33:59.005719Z"
    },
    "papermill": {
     "duration": 0.037679,
     "end_time": "2025-01-09T02:33:59.008473",
     "exception": false,
     "start_time": "2025-01-09T02:33:58.970794",
     "status": "completed"
    },
    "tags": []
   },
   "outputs": [
    {
     "name": "stdout",
     "output_type": "stream",
     "text": [
      "<class 'pandas.core.frame.DataFrame'>\n",
      "RangeIndex: 6 entries, 0 to 5\n",
      "Data columns (total 4 columns):\n",
      " #   Column  Non-Null Count  Dtype \n",
      "---  ------  --------------  ----- \n",
      " 0   name    6 non-null      object\n",
      " 1   age     6 non-null      int64 \n",
      " 2   gender  6 non-null      object\n",
      " 3   job     6 non-null      object\n",
      "dtypes: int64(1), object(3)\n",
      "memory usage: 320.0+ bytes\n"
     ]
    }
   ],
   "source": [
    "users.info()"
   ]
  },
  {
   "cell_type": "markdown",
   "id": "20e51ae3",
   "metadata": {
    "papermill": {
     "duration": 0.026336,
     "end_time": "2025-01-09T02:33:59.061261",
     "exception": false,
     "start_time": "2025-01-09T02:33:59.034925",
     "status": "completed"
    },
    "tags": []
   },
   "source": [
    "## **Column Selection**"
   ]
  },
  {
   "cell_type": "code",
   "execution_count": 45,
   "id": "1d7ec2c7",
   "metadata": {
    "execution": {
     "iopub.execute_input": "2025-01-09T02:33:59.114833Z",
     "iopub.status.busy": "2025-01-09T02:33:59.114450Z",
     "iopub.status.idle": "2025-01-09T02:33:59.123148Z",
     "shell.execute_reply": "2025-01-09T02:33:59.122187Z"
    },
    "papermill": {
     "duration": 0.03689,
     "end_time": "2025-01-09T02:33:59.124606",
     "exception": false,
     "start_time": "2025-01-09T02:33:59.087716",
     "status": "completed"
    },
    "tags": []
   },
   "outputs": [
    {
     "data": {
      "text/html": [
       "<div>\n",
       "<style scoped>\n",
       "    .dataframe tbody tr th:only-of-type {\n",
       "        vertical-align: middle;\n",
       "    }\n",
       "\n",
       "    .dataframe tbody tr th {\n",
       "        vertical-align: top;\n",
       "    }\n",
       "\n",
       "    .dataframe thead th {\n",
       "        text-align: right;\n",
       "    }\n",
       "</style>\n",
       "<table border=\"1\" class=\"dataframe\">\n",
       "  <thead>\n",
       "    <tr style=\"text-align: right;\">\n",
       "      <th></th>\n",
       "      <th>name</th>\n",
       "      <th>age</th>\n",
       "      <th>gender</th>\n",
       "      <th>job</th>\n",
       "    </tr>\n",
       "  </thead>\n",
       "  <tbody>\n",
       "    <tr>\n",
       "      <th>0</th>\n",
       "      <td>alice</td>\n",
       "      <td>19</td>\n",
       "      <td>F</td>\n",
       "      <td>student</td>\n",
       "    </tr>\n",
       "    <tr>\n",
       "      <th>1</th>\n",
       "      <td>john</td>\n",
       "      <td>26</td>\n",
       "      <td>M</td>\n",
       "      <td>student</td>\n",
       "    </tr>\n",
       "    <tr>\n",
       "      <th>2</th>\n",
       "      <td>eric</td>\n",
       "      <td>22</td>\n",
       "      <td>M</td>\n",
       "      <td>student</td>\n",
       "    </tr>\n",
       "    <tr>\n",
       "      <th>3</th>\n",
       "      <td>paul</td>\n",
       "      <td>58</td>\n",
       "      <td>F</td>\n",
       "      <td>manager</td>\n",
       "    </tr>\n",
       "    <tr>\n",
       "      <th>4</th>\n",
       "      <td>peter</td>\n",
       "      <td>33</td>\n",
       "      <td>M</td>\n",
       "      <td>engineer</td>\n",
       "    </tr>\n",
       "    <tr>\n",
       "      <th>5</th>\n",
       "      <td>julie</td>\n",
       "      <td>44</td>\n",
       "      <td>F</td>\n",
       "      <td>scientist</td>\n",
       "    </tr>\n",
       "  </tbody>\n",
       "</table>\n",
       "</div>"
      ],
      "text/plain": [
       "    name  age gender        job\n",
       "0  alice   19      F    student\n",
       "1   john   26      M    student\n",
       "2   eric   22      M    student\n",
       "3   paul   58      F    manager\n",
       "4  peter   33      M   engineer\n",
       "5  julie   44      F  scientist"
      ]
     },
     "execution_count": 45,
     "metadata": {},
     "output_type": "execute_result"
    }
   ],
   "source": [
    "users"
   ]
  },
  {
   "cell_type": "code",
   "execution_count": 46,
   "id": "1a134b58",
   "metadata": {
    "execution": {
     "iopub.execute_input": "2025-01-09T02:33:59.179142Z",
     "iopub.status.busy": "2025-01-09T02:33:59.178742Z",
     "iopub.status.idle": "2025-01-09T02:33:59.185081Z",
     "shell.execute_reply": "2025-01-09T02:33:59.184120Z"
    },
    "papermill": {
     "duration": 0.035755,
     "end_time": "2025-01-09T02:33:59.186710",
     "exception": false,
     "start_time": "2025-01-09T02:33:59.150955",
     "status": "completed"
    },
    "tags": []
   },
   "outputs": [
    {
     "data": {
      "text/plain": [
       "0    alice\n",
       "1     john\n",
       "2     eric\n",
       "3     paul\n",
       "4    peter\n",
       "5    julie\n",
       "Name: name, dtype: object"
      ]
     },
     "execution_count": 46,
     "metadata": {},
     "output_type": "execute_result"
    }
   ],
   "source": [
    "users.name"
   ]
  },
  {
   "cell_type": "code",
   "execution_count": 47,
   "id": "5a685bb4",
   "metadata": {
    "execution": {
     "iopub.execute_input": "2025-01-09T02:33:59.243423Z",
     "iopub.status.busy": "2025-01-09T02:33:59.243060Z",
     "iopub.status.idle": "2025-01-09T02:33:59.249009Z",
     "shell.execute_reply": "2025-01-09T02:33:59.248135Z"
    },
    "papermill": {
     "duration": 0.035947,
     "end_time": "2025-01-09T02:33:59.250514",
     "exception": false,
     "start_time": "2025-01-09T02:33:59.214567",
     "status": "completed"
    },
    "tags": []
   },
   "outputs": [
    {
     "data": {
      "text/plain": [
       "0    alice\n",
       "1     john\n",
       "2     eric\n",
       "3     paul\n",
       "4    peter\n",
       "5    julie\n",
       "Name: name, dtype: object"
      ]
     },
     "execution_count": 47,
     "metadata": {},
     "output_type": "execute_result"
    }
   ],
   "source": [
    "users['name']"
   ]
  },
  {
   "cell_type": "code",
   "execution_count": 48,
   "id": "2b6f50bd",
   "metadata": {
    "execution": {
     "iopub.execute_input": "2025-01-09T02:33:59.304614Z",
     "iopub.status.busy": "2025-01-09T02:33:59.304271Z",
     "iopub.status.idle": "2025-01-09T02:33:59.313337Z",
     "shell.execute_reply": "2025-01-09T02:33:59.312341Z"
    },
    "papermill": {
     "duration": 0.037887,
     "end_time": "2025-01-09T02:33:59.314986",
     "exception": false,
     "start_time": "2025-01-09T02:33:59.277099",
     "status": "completed"
    },
    "tags": []
   },
   "outputs": [
    {
     "data": {
      "text/html": [
       "<div>\n",
       "<style scoped>\n",
       "    .dataframe tbody tr th:only-of-type {\n",
       "        vertical-align: middle;\n",
       "    }\n",
       "\n",
       "    .dataframe tbody tr th {\n",
       "        vertical-align: top;\n",
       "    }\n",
       "\n",
       "    .dataframe thead th {\n",
       "        text-align: right;\n",
       "    }\n",
       "</style>\n",
       "<table border=\"1\" class=\"dataframe\">\n",
       "  <thead>\n",
       "    <tr style=\"text-align: right;\">\n",
       "      <th></th>\n",
       "      <th>name</th>\n",
       "      <th>age</th>\n",
       "      <th>gender</th>\n",
       "    </tr>\n",
       "  </thead>\n",
       "  <tbody>\n",
       "    <tr>\n",
       "      <th>0</th>\n",
       "      <td>alice</td>\n",
       "      <td>19</td>\n",
       "      <td>F</td>\n",
       "    </tr>\n",
       "    <tr>\n",
       "      <th>1</th>\n",
       "      <td>john</td>\n",
       "      <td>26</td>\n",
       "      <td>M</td>\n",
       "    </tr>\n",
       "    <tr>\n",
       "      <th>2</th>\n",
       "      <td>eric</td>\n",
       "      <td>22</td>\n",
       "      <td>M</td>\n",
       "    </tr>\n",
       "    <tr>\n",
       "      <th>3</th>\n",
       "      <td>paul</td>\n",
       "      <td>58</td>\n",
       "      <td>F</td>\n",
       "    </tr>\n",
       "    <tr>\n",
       "      <th>4</th>\n",
       "      <td>peter</td>\n",
       "      <td>33</td>\n",
       "      <td>M</td>\n",
       "    </tr>\n",
       "    <tr>\n",
       "      <th>5</th>\n",
       "      <td>julie</td>\n",
       "      <td>44</td>\n",
       "      <td>F</td>\n",
       "    </tr>\n",
       "  </tbody>\n",
       "</table>\n",
       "</div>"
      ],
      "text/plain": [
       "    name  age gender\n",
       "0  alice   19      F\n",
       "1   john   26      M\n",
       "2   eric   22      M\n",
       "3   paul   58      F\n",
       "4  peter   33      M\n",
       "5  julie   44      F"
      ]
     },
     "execution_count": 48,
     "metadata": {},
     "output_type": "execute_result"
    }
   ],
   "source": [
    "users[['name', 'age', 'gender']]"
   ]
  },
  {
   "cell_type": "code",
   "execution_count": 49,
   "id": "b36b9ae9",
   "metadata": {
    "execution": {
     "iopub.execute_input": "2025-01-09T02:33:59.369411Z",
     "iopub.status.busy": "2025-01-09T02:33:59.369088Z",
     "iopub.status.idle": "2025-01-09T02:33:59.378144Z",
     "shell.execute_reply": "2025-01-09T02:33:59.377206Z"
    },
    "papermill": {
     "duration": 0.037966,
     "end_time": "2025-01-09T02:33:59.379638",
     "exception": false,
     "start_time": "2025-01-09T02:33:59.341672",
     "status": "completed"
    },
    "tags": []
   },
   "outputs": [
    {
     "data": {
      "text/html": [
       "<div>\n",
       "<style scoped>\n",
       "    .dataframe tbody tr th:only-of-type {\n",
       "        vertical-align: middle;\n",
       "    }\n",
       "\n",
       "    .dataframe tbody tr th {\n",
       "        vertical-align: top;\n",
       "    }\n",
       "\n",
       "    .dataframe thead th {\n",
       "        text-align: right;\n",
       "    }\n",
       "</style>\n",
       "<table border=\"1\" class=\"dataframe\">\n",
       "  <thead>\n",
       "    <tr style=\"text-align: right;\">\n",
       "      <th></th>\n",
       "      <th>age</th>\n",
       "      <th>name</th>\n",
       "      <th>gender</th>\n",
       "    </tr>\n",
       "  </thead>\n",
       "  <tbody>\n",
       "    <tr>\n",
       "      <th>0</th>\n",
       "      <td>19</td>\n",
       "      <td>alice</td>\n",
       "      <td>F</td>\n",
       "    </tr>\n",
       "    <tr>\n",
       "      <th>1</th>\n",
       "      <td>26</td>\n",
       "      <td>john</td>\n",
       "      <td>M</td>\n",
       "    </tr>\n",
       "    <tr>\n",
       "      <th>2</th>\n",
       "      <td>22</td>\n",
       "      <td>eric</td>\n",
       "      <td>M</td>\n",
       "    </tr>\n",
       "    <tr>\n",
       "      <th>3</th>\n",
       "      <td>58</td>\n",
       "      <td>paul</td>\n",
       "      <td>F</td>\n",
       "    </tr>\n",
       "    <tr>\n",
       "      <th>4</th>\n",
       "      <td>33</td>\n",
       "      <td>peter</td>\n",
       "      <td>M</td>\n",
       "    </tr>\n",
       "    <tr>\n",
       "      <th>5</th>\n",
       "      <td>44</td>\n",
       "      <td>julie</td>\n",
       "      <td>F</td>\n",
       "    </tr>\n",
       "  </tbody>\n",
       "</table>\n",
       "</div>"
      ],
      "text/plain": [
       "   age   name gender\n",
       "0   19  alice      F\n",
       "1   26   john      M\n",
       "2   22   eric      M\n",
       "3   58   paul      F\n",
       "4   33  peter      M\n",
       "5   44  julie      F"
      ]
     },
     "execution_count": 49,
     "metadata": {},
     "output_type": "execute_result"
    }
   ],
   "source": [
    "my_columns = ['age', 'name', 'gender']\n",
    "users[my_columns]"
   ]
  },
  {
   "cell_type": "markdown",
   "id": "00f46625",
   "metadata": {
    "papermill": {
     "duration": 0.026546,
     "end_time": "2025-01-09T02:33:59.433016",
     "exception": false,
     "start_time": "2025-01-09T02:33:59.406470",
     "status": "completed"
    },
    "tags": []
   },
   "source": [
    "## **Row Selection**"
   ]
  },
  {
   "cell_type": "code",
   "execution_count": 50,
   "id": "19b13cc4",
   "metadata": {
    "execution": {
     "iopub.execute_input": "2025-01-09T02:33:59.487601Z",
     "iopub.status.busy": "2025-01-09T02:33:59.487272Z",
     "iopub.status.idle": "2025-01-09T02:33:59.491093Z",
     "shell.execute_reply": "2025-01-09T02:33:59.490136Z"
    },
    "papermill": {
     "duration": 0.032875,
     "end_time": "2025-01-09T02:33:59.492564",
     "exception": false,
     "start_time": "2025-01-09T02:33:59.459689",
     "status": "completed"
    },
    "tags": []
   },
   "outputs": [],
   "source": [
    "import warnings\n",
    "warnings.filterwarnings('ignore')"
   ]
  },
  {
   "cell_type": "code",
   "execution_count": 51,
   "id": "de4ac326",
   "metadata": {
    "execution": {
     "iopub.execute_input": "2025-01-09T02:33:59.547946Z",
     "iopub.status.busy": "2025-01-09T02:33:59.547575Z",
     "iopub.status.idle": "2025-01-09T02:33:59.556825Z",
     "shell.execute_reply": "2025-01-09T02:33:59.555884Z"
    },
    "papermill": {
     "duration": 0.038726,
     "end_time": "2025-01-09T02:33:59.558345",
     "exception": false,
     "start_time": "2025-01-09T02:33:59.519619",
     "status": "completed"
    },
    "tags": []
   },
   "outputs": [
    {
     "data": {
      "text/html": [
       "<div>\n",
       "<style scoped>\n",
       "    .dataframe tbody tr th:only-of-type {\n",
       "        vertical-align: middle;\n",
       "    }\n",
       "\n",
       "    .dataframe tbody tr th {\n",
       "        vertical-align: top;\n",
       "    }\n",
       "\n",
       "    .dataframe thead th {\n",
       "        text-align: right;\n",
       "    }\n",
       "</style>\n",
       "<table border=\"1\" class=\"dataframe\">\n",
       "  <thead>\n",
       "    <tr style=\"text-align: right;\">\n",
       "      <th></th>\n",
       "      <th>name</th>\n",
       "      <th>age</th>\n",
       "      <th>gender</th>\n",
       "      <th>job</th>\n",
       "    </tr>\n",
       "  </thead>\n",
       "  <tbody>\n",
       "    <tr>\n",
       "      <th>0</th>\n",
       "      <td>alice</td>\n",
       "      <td>19</td>\n",
       "      <td>F</td>\n",
       "      <td>student</td>\n",
       "    </tr>\n",
       "    <tr>\n",
       "      <th>1</th>\n",
       "      <td>john</td>\n",
       "      <td>26</td>\n",
       "      <td>M</td>\n",
       "      <td>student</td>\n",
       "    </tr>\n",
       "    <tr>\n",
       "      <th>2</th>\n",
       "      <td>eric</td>\n",
       "      <td>22</td>\n",
       "      <td>M</td>\n",
       "      <td>student</td>\n",
       "    </tr>\n",
       "    <tr>\n",
       "      <th>3</th>\n",
       "      <td>paul</td>\n",
       "      <td>58</td>\n",
       "      <td>F</td>\n",
       "      <td>manager</td>\n",
       "    </tr>\n",
       "    <tr>\n",
       "      <th>4</th>\n",
       "      <td>peter</td>\n",
       "      <td>33</td>\n",
       "      <td>M</td>\n",
       "      <td>engineer</td>\n",
       "    </tr>\n",
       "    <tr>\n",
       "      <th>5</th>\n",
       "      <td>julie</td>\n",
       "      <td>44</td>\n",
       "      <td>F</td>\n",
       "      <td>scientist</td>\n",
       "    </tr>\n",
       "  </tbody>\n",
       "</table>\n",
       "</div>"
      ],
      "text/plain": [
       "    name  age gender        job\n",
       "0  alice   19      F    student\n",
       "1   john   26      M    student\n",
       "2   eric   22      M    student\n",
       "3   paul   58      F    manager\n",
       "4  peter   33      M   engineer\n",
       "5  julie   44      F  scientist"
      ]
     },
     "execution_count": 51,
     "metadata": {},
     "output_type": "execute_result"
    }
   ],
   "source": [
    "users"
   ]
  },
  {
   "cell_type": "code",
   "execution_count": 52,
   "id": "5a3ce21d",
   "metadata": {
    "execution": {
     "iopub.execute_input": "2025-01-09T02:33:59.613946Z",
     "iopub.status.busy": "2025-01-09T02:33:59.613589Z",
     "iopub.status.idle": "2025-01-09T02:33:59.620218Z",
     "shell.execute_reply": "2025-01-09T02:33:59.619141Z"
    },
    "papermill": {
     "duration": 0.036256,
     "end_time": "2025-01-09T02:33:59.621689",
     "exception": false,
     "start_time": "2025-01-09T02:33:59.585433",
     "status": "completed"
    },
    "tags": []
   },
   "outputs": [
    {
     "name": "stdout",
     "output_type": "stream",
     "text": [
      "engineer engineer engineer engineer\n",
      "engineer engineer engineer engineer\n"
     ]
    }
   ],
   "source": [
    "print (users.iloc[4][3], users.iloc[4]['job'], users.loc[4][3], users.loc[4]['job'])\n",
    "print (users.iloc[4, 3], users.iloc[4]['job'], users.loc[4][3], users.loc[4, 'job'])"
   ]
  },
  {
   "cell_type": "code",
   "execution_count": 53,
   "id": "dd884612",
   "metadata": {
    "execution": {
     "iopub.execute_input": "2025-01-09T02:33:59.678824Z",
     "iopub.status.busy": "2025-01-09T02:33:59.678432Z",
     "iopub.status.idle": "2025-01-09T02:33:59.687784Z",
     "shell.execute_reply": "2025-01-09T02:33:59.686857Z"
    },
    "papermill": {
     "duration": 0.039018,
     "end_time": "2025-01-09T02:33:59.689265",
     "exception": false,
     "start_time": "2025-01-09T02:33:59.650247",
     "status": "completed"
    },
    "tags": []
   },
   "outputs": [
    {
     "data": {
      "text/html": [
       "<div>\n",
       "<style scoped>\n",
       "    .dataframe tbody tr th:only-of-type {\n",
       "        vertical-align: middle;\n",
       "    }\n",
       "\n",
       "    .dataframe tbody tr th {\n",
       "        vertical-align: top;\n",
       "    }\n",
       "\n",
       "    .dataframe thead th {\n",
       "        text-align: right;\n",
       "    }\n",
       "</style>\n",
       "<table border=\"1\" class=\"dataframe\">\n",
       "  <thead>\n",
       "    <tr style=\"text-align: right;\">\n",
       "      <th></th>\n",
       "      <th>name</th>\n",
       "      <th>age</th>\n",
       "      <th>gender</th>\n",
       "      <th>job</th>\n",
       "    </tr>\n",
       "  </thead>\n",
       "  <tbody>\n",
       "    <tr>\n",
       "      <th>0</th>\n",
       "      <td>alice</td>\n",
       "      <td>19</td>\n",
       "      <td>F</td>\n",
       "      <td>student</td>\n",
       "    </tr>\n",
       "    <tr>\n",
       "      <th>1</th>\n",
       "      <td>john</td>\n",
       "      <td>26</td>\n",
       "      <td>M</td>\n",
       "      <td>student</td>\n",
       "    </tr>\n",
       "    <tr>\n",
       "      <th>2</th>\n",
       "      <td>eric</td>\n",
       "      <td>22</td>\n",
       "      <td>M</td>\n",
       "      <td>student</td>\n",
       "    </tr>\n",
       "    <tr>\n",
       "      <th>3</th>\n",
       "      <td>paul</td>\n",
       "      <td>58</td>\n",
       "      <td>F</td>\n",
       "      <td>manager</td>\n",
       "    </tr>\n",
       "    <tr>\n",
       "      <th>4</th>\n",
       "      <td>peter</td>\n",
       "      <td>33</td>\n",
       "      <td>M</td>\n",
       "      <td>engineer</td>\n",
       "    </tr>\n",
       "    <tr>\n",
       "      <th>5</th>\n",
       "      <td>julie</td>\n",
       "      <td>44</td>\n",
       "      <td>F</td>\n",
       "      <td>scientist</td>\n",
       "    </tr>\n",
       "  </tbody>\n",
       "</table>\n",
       "</div>"
      ],
      "text/plain": [
       "    name  age gender        job\n",
       "0  alice   19      F    student\n",
       "1   john   26      M    student\n",
       "2   eric   22      M    student\n",
       "3   paul   58      F    manager\n",
       "4  peter   33      M   engineer\n",
       "5  julie   44      F  scientist"
      ]
     },
     "execution_count": 53,
     "metadata": {},
     "output_type": "execute_result"
    }
   ],
   "source": [
    "df = users.copy()\n",
    "df"
   ]
  },
  {
   "cell_type": "code",
   "execution_count": 54,
   "id": "f9a62253",
   "metadata": {
    "execution": {
     "iopub.execute_input": "2025-01-09T02:33:59.745323Z",
     "iopub.status.busy": "2025-01-09T02:33:59.744967Z",
     "iopub.status.idle": "2025-01-09T02:33:59.758337Z",
     "shell.execute_reply": "2025-01-09T02:33:59.757389Z"
    },
    "papermill": {
     "duration": 0.043036,
     "end_time": "2025-01-09T02:33:59.759876",
     "exception": false,
     "start_time": "2025-01-09T02:33:59.716840",
     "status": "completed"
    },
    "tags": []
   },
   "outputs": [
    {
     "data": {
      "text/html": [
       "<div>\n",
       "<style scoped>\n",
       "    .dataframe tbody tr th:only-of-type {\n",
       "        vertical-align: middle;\n",
       "    }\n",
       "\n",
       "    .dataframe tbody tr th {\n",
       "        vertical-align: top;\n",
       "    }\n",
       "\n",
       "    .dataframe thead th {\n",
       "        text-align: right;\n",
       "    }\n",
       "</style>\n",
       "<table border=\"1\" class=\"dataframe\">\n",
       "  <thead>\n",
       "    <tr style=\"text-align: right;\">\n",
       "      <th></th>\n",
       "      <th>name</th>\n",
       "      <th>age</th>\n",
       "      <th>gender</th>\n",
       "      <th>job</th>\n",
       "    </tr>\n",
       "  </thead>\n",
       "  <tbody>\n",
       "    <tr>\n",
       "      <th>0</th>\n",
       "      <td>alice</td>\n",
       "      <td>119</td>\n",
       "      <td>F</td>\n",
       "      <td>student</td>\n",
       "    </tr>\n",
       "    <tr>\n",
       "      <th>1</th>\n",
       "      <td>john</td>\n",
       "      <td>126</td>\n",
       "      <td>M</td>\n",
       "      <td>student</td>\n",
       "    </tr>\n",
       "    <tr>\n",
       "      <th>2</th>\n",
       "      <td>eric</td>\n",
       "      <td>122</td>\n",
       "      <td>M</td>\n",
       "      <td>student</td>\n",
       "    </tr>\n",
       "    <tr>\n",
       "      <th>3</th>\n",
       "      <td>paul</td>\n",
       "      <td>158</td>\n",
       "      <td>F</td>\n",
       "      <td>manager</td>\n",
       "    </tr>\n",
       "    <tr>\n",
       "      <th>4</th>\n",
       "      <td>peter</td>\n",
       "      <td>133</td>\n",
       "      <td>M</td>\n",
       "      <td>engineer</td>\n",
       "    </tr>\n",
       "    <tr>\n",
       "      <th>5</th>\n",
       "      <td>julie</td>\n",
       "      <td>144</td>\n",
       "      <td>F</td>\n",
       "      <td>scientist</td>\n",
       "    </tr>\n",
       "  </tbody>\n",
       "</table>\n",
       "</div>"
      ],
      "text/plain": [
       "    name  age gender        job\n",
       "0  alice  119      F    student\n",
       "1   john  126      M    student\n",
       "2   eric  122      M    student\n",
       "3   paul  158      F    manager\n",
       "4  peter  133      M   engineer\n",
       "5  julie  144      F  scientist"
      ]
     },
     "execution_count": 54,
     "metadata": {},
     "output_type": "execute_result"
    }
   ],
   "source": [
    "# increasing all age values by 100\n",
    "df = users.copy()\n",
    "for i in range(df.shape[0]):\n",
    "    current_row = df.loc[i]\n",
    "    current_row.age += 100\n",
    "    df.iloc[i] = current_row\n",
    "df"
   ]
  },
  {
   "cell_type": "code",
   "execution_count": 55,
   "id": "21412358",
   "metadata": {
    "execution": {
     "iopub.execute_input": "2025-01-09T02:33:59.816253Z",
     "iopub.status.busy": "2025-01-09T02:33:59.815913Z",
     "iopub.status.idle": "2025-01-09T02:33:59.821576Z",
     "shell.execute_reply": "2025-01-09T02:33:59.820577Z"
    },
    "papermill": {
     "duration": 0.035634,
     "end_time": "2025-01-09T02:33:59.823173",
     "exception": false,
     "start_time": "2025-01-09T02:33:59.787539",
     "status": "completed"
    },
    "tags": []
   },
   "outputs": [
    {
     "name": "stdout",
     "output_type": "stream",
     "text": [
      "(6, 4) 6 4\n"
     ]
    }
   ],
   "source": [
    "print (df.shape, df.shape[0], df.shape[1])"
   ]
  },
  {
   "cell_type": "markdown",
   "id": "e8d02e60",
   "metadata": {
    "papermill": {
     "duration": 0.028087,
     "end_time": "2025-01-09T02:33:59.879363",
     "exception": false,
     "start_time": "2025-01-09T02:33:59.851276",
     "status": "completed"
    },
    "tags": []
   },
   "source": [
    "## **Row Selection and Filtering**"
   ]
  },
  {
   "cell_type": "code",
   "execution_count": 56,
   "id": "d30502df",
   "metadata": {
    "execution": {
     "iopub.execute_input": "2025-01-09T02:33:59.935997Z",
     "iopub.status.busy": "2025-01-09T02:33:59.935573Z",
     "iopub.status.idle": "2025-01-09T02:33:59.944443Z",
     "shell.execute_reply": "2025-01-09T02:33:59.943628Z"
    },
    "papermill": {
     "duration": 0.038786,
     "end_time": "2025-01-09T02:33:59.945802",
     "exception": false,
     "start_time": "2025-01-09T02:33:59.907016",
     "status": "completed"
    },
    "tags": []
   },
   "outputs": [
    {
     "data": {
      "text/html": [
       "<div>\n",
       "<style scoped>\n",
       "    .dataframe tbody tr th:only-of-type {\n",
       "        vertical-align: middle;\n",
       "    }\n",
       "\n",
       "    .dataframe tbody tr th {\n",
       "        vertical-align: top;\n",
       "    }\n",
       "\n",
       "    .dataframe thead th {\n",
       "        text-align: right;\n",
       "    }\n",
       "</style>\n",
       "<table border=\"1\" class=\"dataframe\">\n",
       "  <thead>\n",
       "    <tr style=\"text-align: right;\">\n",
       "      <th></th>\n",
       "      <th>name</th>\n",
       "      <th>age</th>\n",
       "      <th>gender</th>\n",
       "      <th>job</th>\n",
       "    </tr>\n",
       "  </thead>\n",
       "  <tbody>\n",
       "    <tr>\n",
       "      <th>0</th>\n",
       "      <td>alice</td>\n",
       "      <td>19</td>\n",
       "      <td>F</td>\n",
       "      <td>student</td>\n",
       "    </tr>\n",
       "    <tr>\n",
       "      <th>1</th>\n",
       "      <td>john</td>\n",
       "      <td>26</td>\n",
       "      <td>M</td>\n",
       "      <td>student</td>\n",
       "    </tr>\n",
       "    <tr>\n",
       "      <th>2</th>\n",
       "      <td>eric</td>\n",
       "      <td>22</td>\n",
       "      <td>M</td>\n",
       "      <td>student</td>\n",
       "    </tr>\n",
       "    <tr>\n",
       "      <th>3</th>\n",
       "      <td>paul</td>\n",
       "      <td>58</td>\n",
       "      <td>F</td>\n",
       "      <td>manager</td>\n",
       "    </tr>\n",
       "    <tr>\n",
       "      <th>4</th>\n",
       "      <td>peter</td>\n",
       "      <td>33</td>\n",
       "      <td>M</td>\n",
       "      <td>engineer</td>\n",
       "    </tr>\n",
       "    <tr>\n",
       "      <th>5</th>\n",
       "      <td>julie</td>\n",
       "      <td>44</td>\n",
       "      <td>F</td>\n",
       "      <td>scientist</td>\n",
       "    </tr>\n",
       "  </tbody>\n",
       "</table>\n",
       "</div>"
      ],
      "text/plain": [
       "    name  age gender        job\n",
       "0  alice   19      F    student\n",
       "1   john   26      M    student\n",
       "2   eric   22      M    student\n",
       "3   paul   58      F    manager\n",
       "4  peter   33      M   engineer\n",
       "5  julie   44      F  scientist"
      ]
     },
     "execution_count": 56,
     "metadata": {},
     "output_type": "execute_result"
    }
   ],
   "source": [
    "users"
   ]
  },
  {
   "cell_type": "code",
   "execution_count": 57,
   "id": "a31be7e3",
   "metadata": {
    "execution": {
     "iopub.execute_input": "2025-01-09T02:34:00.003266Z",
     "iopub.status.busy": "2025-01-09T02:34:00.002941Z",
     "iopub.status.idle": "2025-01-09T02:34:00.009184Z",
     "shell.execute_reply": "2025-01-09T02:34:00.008337Z"
    },
    "papermill": {
     "duration": 0.036982,
     "end_time": "2025-01-09T02:34:00.010598",
     "exception": false,
     "start_time": "2025-01-09T02:33:59.973616",
     "status": "completed"
    },
    "tags": []
   },
   "outputs": [
    {
     "data": {
      "text/plain": [
       "0     True\n",
       "1     True\n",
       "2     True\n",
       "3    False\n",
       "4    False\n",
       "5    False\n",
       "Name: age, dtype: bool"
      ]
     },
     "execution_count": 57,
     "metadata": {},
     "output_type": "execute_result"
    }
   ],
   "source": [
    "users.age < 30"
   ]
  },
  {
   "cell_type": "code",
   "execution_count": 58,
   "id": "20f47686",
   "metadata": {
    "execution": {
     "iopub.execute_input": "2025-01-09T02:34:00.068460Z",
     "iopub.status.busy": "2025-01-09T02:34:00.068127Z",
     "iopub.status.idle": "2025-01-09T02:34:00.077528Z",
     "shell.execute_reply": "2025-01-09T02:34:00.076482Z"
    },
    "papermill": {
     "duration": 0.040141,
     "end_time": "2025-01-09T02:34:00.079220",
     "exception": false,
     "start_time": "2025-01-09T02:34:00.039079",
     "status": "completed"
    },
    "tags": []
   },
   "outputs": [
    {
     "data": {
      "text/html": [
       "<div>\n",
       "<style scoped>\n",
       "    .dataframe tbody tr th:only-of-type {\n",
       "        vertical-align: middle;\n",
       "    }\n",
       "\n",
       "    .dataframe tbody tr th {\n",
       "        vertical-align: top;\n",
       "    }\n",
       "\n",
       "    .dataframe thead th {\n",
       "        text-align: right;\n",
       "    }\n",
       "</style>\n",
       "<table border=\"1\" class=\"dataframe\">\n",
       "  <thead>\n",
       "    <tr style=\"text-align: right;\">\n",
       "      <th></th>\n",
       "      <th>name</th>\n",
       "      <th>age</th>\n",
       "      <th>gender</th>\n",
       "      <th>job</th>\n",
       "    </tr>\n",
       "  </thead>\n",
       "  <tbody>\n",
       "    <tr>\n",
       "      <th>0</th>\n",
       "      <td>alice</td>\n",
       "      <td>19</td>\n",
       "      <td>F</td>\n",
       "      <td>student</td>\n",
       "    </tr>\n",
       "    <tr>\n",
       "      <th>1</th>\n",
       "      <td>john</td>\n",
       "      <td>26</td>\n",
       "      <td>M</td>\n",
       "      <td>student</td>\n",
       "    </tr>\n",
       "    <tr>\n",
       "      <th>2</th>\n",
       "      <td>eric</td>\n",
       "      <td>22</td>\n",
       "      <td>M</td>\n",
       "      <td>student</td>\n",
       "    </tr>\n",
       "  </tbody>\n",
       "</table>\n",
       "</div>"
      ],
      "text/plain": [
       "    name  age gender      job\n",
       "0  alice   19      F  student\n",
       "1   john   26      M  student\n",
       "2   eric   22      M  student"
      ]
     },
     "execution_count": 58,
     "metadata": {},
     "output_type": "execute_result"
    }
   ],
   "source": [
    "users[users.age < 30]"
   ]
  },
  {
   "cell_type": "code",
   "execution_count": 59,
   "id": "7a14afc3",
   "metadata": {
    "execution": {
     "iopub.execute_input": "2025-01-09T02:34:00.137695Z",
     "iopub.status.busy": "2025-01-09T02:34:00.137372Z",
     "iopub.status.idle": "2025-01-09T02:34:00.146644Z",
     "shell.execute_reply": "2025-01-09T02:34:00.145808Z"
    },
    "papermill": {
     "duration": 0.0407,
     "end_time": "2025-01-09T02:34:00.148265",
     "exception": false,
     "start_time": "2025-01-09T02:34:00.107565",
     "status": "completed"
    },
    "tags": []
   },
   "outputs": [
    {
     "data": {
      "text/html": [
       "<div>\n",
       "<style scoped>\n",
       "    .dataframe tbody tr th:only-of-type {\n",
       "        vertical-align: middle;\n",
       "    }\n",
       "\n",
       "    .dataframe tbody tr th {\n",
       "        vertical-align: top;\n",
       "    }\n",
       "\n",
       "    .dataframe thead th {\n",
       "        text-align: right;\n",
       "    }\n",
       "</style>\n",
       "<table border=\"1\" class=\"dataframe\">\n",
       "  <thead>\n",
       "    <tr style=\"text-align: right;\">\n",
       "      <th></th>\n",
       "      <th>name</th>\n",
       "      <th>age</th>\n",
       "    </tr>\n",
       "  </thead>\n",
       "  <tbody>\n",
       "    <tr>\n",
       "      <th>0</th>\n",
       "      <td>alice</td>\n",
       "      <td>19</td>\n",
       "    </tr>\n",
       "    <tr>\n",
       "      <th>1</th>\n",
       "      <td>john</td>\n",
       "      <td>26</td>\n",
       "    </tr>\n",
       "    <tr>\n",
       "      <th>2</th>\n",
       "      <td>eric</td>\n",
       "      <td>22</td>\n",
       "    </tr>\n",
       "  </tbody>\n",
       "</table>\n",
       "</div>"
      ],
      "text/plain": [
       "    name  age\n",
       "0  alice   19\n",
       "1   john   26\n",
       "2   eric   22"
      ]
     },
     "execution_count": 59,
     "metadata": {},
     "output_type": "execute_result"
    }
   ],
   "source": [
    "users[users.age < 30][['name', 'age']]\n",
    "# select name, age from users where age < 30;"
   ]
  },
  {
   "cell_type": "code",
   "execution_count": 60,
   "id": "16d6a20d",
   "metadata": {
    "execution": {
     "iopub.execute_input": "2025-01-09T02:34:00.206453Z",
     "iopub.status.busy": "2025-01-09T02:34:00.206131Z",
     "iopub.status.idle": "2025-01-09T02:34:00.212813Z",
     "shell.execute_reply": "2025-01-09T02:34:00.211965Z"
    },
    "papermill": {
     "duration": 0.037286,
     "end_time": "2025-01-09T02:34:00.214361",
     "exception": false,
     "start_time": "2025-01-09T02:34:00.177075",
     "status": "completed"
    },
    "tags": []
   },
   "outputs": [
    {
     "data": {
      "text/plain": [
       "0    alice\n",
       "1     john\n",
       "2     eric\n",
       "Name: name, dtype: object"
      ]
     },
     "execution_count": 60,
     "metadata": {},
     "output_type": "execute_result"
    }
   ],
   "source": [
    "users[users.age < 30].name"
   ]
  },
  {
   "cell_type": "code",
   "execution_count": 61,
   "id": "1e9fd3b3",
   "metadata": {
    "execution": {
     "iopub.execute_input": "2025-01-09T02:34:00.272733Z",
     "iopub.status.busy": "2025-01-09T02:34:00.272416Z",
     "iopub.status.idle": "2025-01-09T02:34:00.279158Z",
     "shell.execute_reply": "2025-01-09T02:34:00.278382Z"
    },
    "papermill": {
     "duration": 0.037711,
     "end_time": "2025-01-09T02:34:00.280607",
     "exception": false,
     "start_time": "2025-01-09T02:34:00.242896",
     "status": "completed"
    },
    "tags": []
   },
   "outputs": [
    {
     "data": {
      "text/plain": [
       "0    alice\n",
       "1     john\n",
       "2     eric\n",
       "Name: name, dtype: object"
      ]
     },
     "execution_count": 61,
     "metadata": {},
     "output_type": "execute_result"
    }
   ],
   "source": [
    "users[users.age < 30]['name']"
   ]
  },
  {
   "cell_type": "code",
   "execution_count": 62,
   "id": "a82d0b33",
   "metadata": {
    "execution": {
     "iopub.execute_input": "2025-01-09T02:34:00.339558Z",
     "iopub.status.busy": "2025-01-09T02:34:00.339246Z",
     "iopub.status.idle": "2025-01-09T02:34:00.345888Z",
     "shell.execute_reply": "2025-01-09T02:34:00.345037Z"
    },
    "papermill": {
     "duration": 0.038044,
     "end_time": "2025-01-09T02:34:00.347319",
     "exception": false,
     "start_time": "2025-01-09T02:34:00.309275",
     "status": "completed"
    },
    "tags": []
   },
   "outputs": [
    {
     "data": {
      "text/plain": [
       "0    False\n",
       "1    False\n",
       "2    False\n",
       "3     True\n",
       "4    False\n",
       "5     True\n",
       "dtype: bool"
      ]
     },
     "execution_count": 62,
     "metadata": {},
     "output_type": "execute_result"
    }
   ],
   "source": [
    "(users.age > 30) & (users.gender == 'F')"
   ]
  },
  {
   "cell_type": "code",
   "execution_count": 63,
   "id": "36d1554e",
   "metadata": {
    "execution": {
     "iopub.execute_input": "2025-01-09T02:34:00.406215Z",
     "iopub.status.busy": "2025-01-09T02:34:00.405886Z",
     "iopub.status.idle": "2025-01-09T02:34:00.415107Z",
     "shell.execute_reply": "2025-01-09T02:34:00.414289Z"
    },
    "papermill": {
     "duration": 0.040385,
     "end_time": "2025-01-09T02:34:00.416510",
     "exception": false,
     "start_time": "2025-01-09T02:34:00.376125",
     "status": "completed"
    },
    "tags": []
   },
   "outputs": [
    {
     "data": {
      "text/html": [
       "<div>\n",
       "<style scoped>\n",
       "    .dataframe tbody tr th:only-of-type {\n",
       "        vertical-align: middle;\n",
       "    }\n",
       "\n",
       "    .dataframe tbody tr th {\n",
       "        vertical-align: top;\n",
       "    }\n",
       "\n",
       "    .dataframe thead th {\n",
       "        text-align: right;\n",
       "    }\n",
       "</style>\n",
       "<table border=\"1\" class=\"dataframe\">\n",
       "  <thead>\n",
       "    <tr style=\"text-align: right;\">\n",
       "      <th></th>\n",
       "      <th>name</th>\n",
       "      <th>age</th>\n",
       "      <th>gender</th>\n",
       "      <th>job</th>\n",
       "    </tr>\n",
       "  </thead>\n",
       "  <tbody>\n",
       "    <tr>\n",
       "      <th>3</th>\n",
       "      <td>paul</td>\n",
       "      <td>58</td>\n",
       "      <td>F</td>\n",
       "      <td>manager</td>\n",
       "    </tr>\n",
       "    <tr>\n",
       "      <th>5</th>\n",
       "      <td>julie</td>\n",
       "      <td>44</td>\n",
       "      <td>F</td>\n",
       "      <td>scientist</td>\n",
       "    </tr>\n",
       "  </tbody>\n",
       "</table>\n",
       "</div>"
      ],
      "text/plain": [
       "    name  age gender        job\n",
       "3   paul   58      F    manager\n",
       "5  julie   44      F  scientist"
      ]
     },
     "execution_count": 63,
     "metadata": {},
     "output_type": "execute_result"
    }
   ],
   "source": [
    "users[(users.age > 30) & (users.gender == 'F')]"
   ]
  },
  {
   "cell_type": "code",
   "execution_count": 64,
   "id": "db5c40b2",
   "metadata": {
    "execution": {
     "iopub.execute_input": "2025-01-09T02:34:00.475806Z",
     "iopub.status.busy": "2025-01-09T02:34:00.475421Z",
     "iopub.status.idle": "2025-01-09T02:34:00.485070Z",
     "shell.execute_reply": "2025-01-09T02:34:00.484094Z"
    },
    "papermill": {
     "duration": 0.04104,
     "end_time": "2025-01-09T02:34:00.486659",
     "exception": false,
     "start_time": "2025-01-09T02:34:00.445619",
     "status": "completed"
    },
    "tags": []
   },
   "outputs": [
    {
     "data": {
      "text/html": [
       "<div>\n",
       "<style scoped>\n",
       "    .dataframe tbody tr th:only-of-type {\n",
       "        vertical-align: middle;\n",
       "    }\n",
       "\n",
       "    .dataframe tbody tr th {\n",
       "        vertical-align: top;\n",
       "    }\n",
       "\n",
       "    .dataframe thead th {\n",
       "        text-align: right;\n",
       "    }\n",
       "</style>\n",
       "<table border=\"1\" class=\"dataframe\">\n",
       "  <thead>\n",
       "    <tr style=\"text-align: right;\">\n",
       "      <th></th>\n",
       "      <th>name</th>\n",
       "      <th>job</th>\n",
       "    </tr>\n",
       "  </thead>\n",
       "  <tbody>\n",
       "    <tr>\n",
       "      <th>3</th>\n",
       "      <td>paul</td>\n",
       "      <td>manager</td>\n",
       "    </tr>\n",
       "    <tr>\n",
       "      <th>5</th>\n",
       "      <td>julie</td>\n",
       "      <td>scientist</td>\n",
       "    </tr>\n",
       "  </tbody>\n",
       "</table>\n",
       "</div>"
      ],
      "text/plain": [
       "    name        job\n",
       "3   paul    manager\n",
       "5  julie  scientist"
      ]
     },
     "execution_count": 64,
     "metadata": {},
     "output_type": "execute_result"
    }
   ],
   "source": [
    "users[(users.age > 30) & (users.gender == 'F')][['name', 'job']]"
   ]
  },
  {
   "cell_type": "code",
   "execution_count": 65,
   "id": "f53f7ced",
   "metadata": {
    "execution": {
     "iopub.execute_input": "2025-01-09T02:34:00.546218Z",
     "iopub.status.busy": "2025-01-09T02:34:00.545856Z",
     "iopub.status.idle": "2025-01-09T02:34:00.556610Z",
     "shell.execute_reply": "2025-01-09T02:34:00.555716Z"
    },
    "papermill": {
     "duration": 0.042082,
     "end_time": "2025-01-09T02:34:00.558033",
     "exception": false,
     "start_time": "2025-01-09T02:34:00.515951",
     "status": "completed"
    },
    "tags": []
   },
   "outputs": [
    {
     "data": {
      "text/html": [
       "<div>\n",
       "<style scoped>\n",
       "    .dataframe tbody tr th:only-of-type {\n",
       "        vertical-align: middle;\n",
       "    }\n",
       "\n",
       "    .dataframe tbody tr th {\n",
       "        vertical-align: top;\n",
       "    }\n",
       "\n",
       "    .dataframe thead th {\n",
       "        text-align: right;\n",
       "    }\n",
       "</style>\n",
       "<table border=\"1\" class=\"dataframe\">\n",
       "  <thead>\n",
       "    <tr style=\"text-align: right;\">\n",
       "      <th></th>\n",
       "      <th>name</th>\n",
       "      <th>age</th>\n",
       "      <th>gender</th>\n",
       "    </tr>\n",
       "  </thead>\n",
       "  <tbody>\n",
       "    <tr>\n",
       "      <th>0</th>\n",
       "      <td>alice</td>\n",
       "      <td>19</td>\n",
       "      <td>F</td>\n",
       "    </tr>\n",
       "    <tr>\n",
       "      <th>3</th>\n",
       "      <td>paul</td>\n",
       "      <td>58</td>\n",
       "      <td>F</td>\n",
       "    </tr>\n",
       "    <tr>\n",
       "      <th>4</th>\n",
       "      <td>peter</td>\n",
       "      <td>33</td>\n",
       "      <td>M</td>\n",
       "    </tr>\n",
       "    <tr>\n",
       "      <th>5</th>\n",
       "      <td>julie</td>\n",
       "      <td>44</td>\n",
       "      <td>F</td>\n",
       "    </tr>\n",
       "  </tbody>\n",
       "</table>\n",
       "</div>"
      ],
      "text/plain": [
       "    name  age gender\n",
       "0  alice   19      F\n",
       "3   paul   58      F\n",
       "4  peter   33      M\n",
       "5  julie   44      F"
      ]
     },
     "execution_count": 65,
     "metadata": {},
     "output_type": "execute_result"
    }
   ],
   "source": [
    "users[(users.age > 30) | (users.gender == 'F')][['name', 'age', 'gender']]\n",
    "# select name, age, gender\n",
    "# from users\n",
    "# where gender = 'F' or age > 30;"
   ]
  },
  {
   "cell_type": "code",
   "execution_count": 66,
   "id": "6517f2c5",
   "metadata": {
    "execution": {
     "iopub.execute_input": "2025-01-09T02:34:00.618269Z",
     "iopub.status.busy": "2025-01-09T02:34:00.617938Z",
     "iopub.status.idle": "2025-01-09T02:34:00.627936Z",
     "shell.execute_reply": "2025-01-09T02:34:00.626594Z"
    },
    "papermill": {
     "duration": 0.042307,
     "end_time": "2025-01-09T02:34:00.629916",
     "exception": false,
     "start_time": "2025-01-09T02:34:00.587609",
     "status": "completed"
    },
    "tags": []
   },
   "outputs": [
    {
     "data": {
      "text/html": [
       "<div>\n",
       "<style scoped>\n",
       "    .dataframe tbody tr th:only-of-type {\n",
       "        vertical-align: middle;\n",
       "    }\n",
       "\n",
       "    .dataframe tbody tr th {\n",
       "        vertical-align: top;\n",
       "    }\n",
       "\n",
       "    .dataframe thead th {\n",
       "        text-align: right;\n",
       "    }\n",
       "</style>\n",
       "<table border=\"1\" class=\"dataframe\">\n",
       "  <thead>\n",
       "    <tr style=\"text-align: right;\">\n",
       "      <th></th>\n",
       "      <th>name</th>\n",
       "      <th>age</th>\n",
       "      <th>gender</th>\n",
       "      <th>job</th>\n",
       "    </tr>\n",
       "  </thead>\n",
       "  <tbody>\n",
       "    <tr>\n",
       "      <th>0</th>\n",
       "      <td>alice</td>\n",
       "      <td>19</td>\n",
       "      <td>F</td>\n",
       "      <td>student</td>\n",
       "    </tr>\n",
       "    <tr>\n",
       "      <th>1</th>\n",
       "      <td>john</td>\n",
       "      <td>26</td>\n",
       "      <td>M</td>\n",
       "      <td>student</td>\n",
       "    </tr>\n",
       "    <tr>\n",
       "      <th>2</th>\n",
       "      <td>eric</td>\n",
       "      <td>22</td>\n",
       "      <td>M</td>\n",
       "      <td>student</td>\n",
       "    </tr>\n",
       "    <tr>\n",
       "      <th>4</th>\n",
       "      <td>peter</td>\n",
       "      <td>33</td>\n",
       "      <td>M</td>\n",
       "      <td>engineer</td>\n",
       "    </tr>\n",
       "  </tbody>\n",
       "</table>\n",
       "</div>"
      ],
      "text/plain": [
       "    name  age gender       job\n",
       "0  alice   19      F   student\n",
       "1   john   26      M   student\n",
       "2   eric   22      M   student\n",
       "4  peter   33      M  engineer"
      ]
     },
     "execution_count": 66,
     "metadata": {},
     "output_type": "execute_result"
    }
   ],
   "source": [
    "users[users.job.isin(['engineer', 'student'])]"
   ]
  },
  {
   "cell_type": "code",
   "execution_count": 67,
   "id": "9ea0f49a",
   "metadata": {
    "execution": {
     "iopub.execute_input": "2025-01-09T02:34:00.690938Z",
     "iopub.status.busy": "2025-01-09T02:34:00.690546Z",
     "iopub.status.idle": "2025-01-09T02:34:00.700074Z",
     "shell.execute_reply": "2025-01-09T02:34:00.699226Z"
    },
    "papermill": {
     "duration": 0.041913,
     "end_time": "2025-01-09T02:34:00.701944",
     "exception": false,
     "start_time": "2025-01-09T02:34:00.660031",
     "status": "completed"
    },
    "tags": []
   },
   "outputs": [
    {
     "data": {
      "text/html": [
       "<div>\n",
       "<style scoped>\n",
       "    .dataframe tbody tr th:only-of-type {\n",
       "        vertical-align: middle;\n",
       "    }\n",
       "\n",
       "    .dataframe tbody tr th {\n",
       "        vertical-align: top;\n",
       "    }\n",
       "\n",
       "    .dataframe thead th {\n",
       "        text-align: right;\n",
       "    }\n",
       "</style>\n",
       "<table border=\"1\" class=\"dataframe\">\n",
       "  <thead>\n",
       "    <tr style=\"text-align: right;\">\n",
       "      <th></th>\n",
       "      <th>name</th>\n",
       "      <th>job</th>\n",
       "    </tr>\n",
       "  </thead>\n",
       "  <tbody>\n",
       "    <tr>\n",
       "      <th>0</th>\n",
       "      <td>alice</td>\n",
       "      <td>student</td>\n",
       "    </tr>\n",
       "    <tr>\n",
       "      <th>1</th>\n",
       "      <td>john</td>\n",
       "      <td>student</td>\n",
       "    </tr>\n",
       "    <tr>\n",
       "      <th>2</th>\n",
       "      <td>eric</td>\n",
       "      <td>student</td>\n",
       "    </tr>\n",
       "    <tr>\n",
       "      <th>4</th>\n",
       "      <td>peter</td>\n",
       "      <td>engineer</td>\n",
       "    </tr>\n",
       "  </tbody>\n",
       "</table>\n",
       "</div>"
      ],
      "text/plain": [
       "    name       job\n",
       "0  alice   student\n",
       "1   john   student\n",
       "2   eric   student\n",
       "4  peter  engineer"
      ]
     },
     "execution_count": 67,
     "metadata": {},
     "output_type": "execute_result"
    }
   ],
   "source": [
    "users[users.job.isin(['engineer', 'student'])][['name', 'job']]"
   ]
  },
  {
   "cell_type": "code",
   "execution_count": 68,
   "id": "c2f4eacc",
   "metadata": {
    "execution": {
     "iopub.execute_input": "2025-01-09T02:34:00.764819Z",
     "iopub.status.busy": "2025-01-09T02:34:00.764435Z",
     "iopub.status.idle": "2025-01-09T02:34:00.774390Z",
     "shell.execute_reply": "2025-01-09T02:34:00.773494Z"
    },
    "papermill": {
     "duration": 0.043184,
     "end_time": "2025-01-09T02:34:00.776186",
     "exception": false,
     "start_time": "2025-01-09T02:34:00.733002",
     "status": "completed"
    },
    "tags": []
   },
   "outputs": [
    {
     "data": {
      "text/html": [
       "<div>\n",
       "<style scoped>\n",
       "    .dataframe tbody tr th:only-of-type {\n",
       "        vertical-align: middle;\n",
       "    }\n",
       "\n",
       "    .dataframe tbody tr th {\n",
       "        vertical-align: top;\n",
       "    }\n",
       "\n",
       "    .dataframe thead th {\n",
       "        text-align: right;\n",
       "    }\n",
       "</style>\n",
       "<table border=\"1\" class=\"dataframe\">\n",
       "  <thead>\n",
       "    <tr style=\"text-align: right;\">\n",
       "      <th></th>\n",
       "      <th>name</th>\n",
       "      <th>age</th>\n",
       "      <th>gender</th>\n",
       "      <th>job</th>\n",
       "    </tr>\n",
       "  </thead>\n",
       "  <tbody>\n",
       "    <tr>\n",
       "      <th>0</th>\n",
       "      <td>alice</td>\n",
       "      <td>19</td>\n",
       "      <td>F</td>\n",
       "      <td>student</td>\n",
       "    </tr>\n",
       "    <tr>\n",
       "      <th>1</th>\n",
       "      <td>john</td>\n",
       "      <td>26</td>\n",
       "      <td>M</td>\n",
       "      <td>student</td>\n",
       "    </tr>\n",
       "    <tr>\n",
       "      <th>2</th>\n",
       "      <td>eric</td>\n",
       "      <td>22</td>\n",
       "      <td>M</td>\n",
       "      <td>student</td>\n",
       "    </tr>\n",
       "    <tr>\n",
       "      <th>4</th>\n",
       "      <td>peter</td>\n",
       "      <td>33</td>\n",
       "      <td>M</td>\n",
       "      <td>engineer</td>\n",
       "    </tr>\n",
       "  </tbody>\n",
       "</table>\n",
       "</div>"
      ],
      "text/plain": [
       "    name  age gender       job\n",
       "0  alice   19      F   student\n",
       "1   john   26      M   student\n",
       "2   eric   22      M   student\n",
       "4  peter   33      M  engineer"
      ]
     },
     "execution_count": 68,
     "metadata": {},
     "output_type": "execute_result"
    }
   ],
   "source": [
    "users[(users.job == 'engineer') | (users.job == 'student')]"
   ]
  },
  {
   "cell_type": "code",
   "execution_count": 69,
   "id": "22d5b1bd",
   "metadata": {
    "execution": {
     "iopub.execute_input": "2025-01-09T02:34:00.840696Z",
     "iopub.status.busy": "2025-01-09T02:34:00.840347Z",
     "iopub.status.idle": "2025-01-09T02:34:00.849027Z",
     "shell.execute_reply": "2025-01-09T02:34:00.848085Z"
    },
    "papermill": {
     "duration": 0.042496,
     "end_time": "2025-01-09T02:34:00.850573",
     "exception": false,
     "start_time": "2025-01-09T02:34:00.808077",
     "status": "completed"
    },
    "tags": []
   },
   "outputs": [
    {
     "data": {
      "text/html": [
       "<div>\n",
       "<style scoped>\n",
       "    .dataframe tbody tr th:only-of-type {\n",
       "        vertical-align: middle;\n",
       "    }\n",
       "\n",
       "    .dataframe tbody tr th {\n",
       "        vertical-align: top;\n",
       "    }\n",
       "\n",
       "    .dataframe thead th {\n",
       "        text-align: right;\n",
       "    }\n",
       "</style>\n",
       "<table border=\"1\" class=\"dataframe\">\n",
       "  <thead>\n",
       "    <tr style=\"text-align: right;\">\n",
       "      <th></th>\n",
       "      <th>name</th>\n",
       "      <th>age</th>\n",
       "      <th>gender</th>\n",
       "      <th>job</th>\n",
       "    </tr>\n",
       "  </thead>\n",
       "  <tbody>\n",
       "    <tr>\n",
       "      <th>0</th>\n",
       "      <td>alice</td>\n",
       "      <td>19</td>\n",
       "      <td>F</td>\n",
       "      <td>student</td>\n",
       "    </tr>\n",
       "    <tr>\n",
       "      <th>1</th>\n",
       "      <td>john</td>\n",
       "      <td>26</td>\n",
       "      <td>M</td>\n",
       "      <td>student</td>\n",
       "    </tr>\n",
       "    <tr>\n",
       "      <th>2</th>\n",
       "      <td>eric</td>\n",
       "      <td>22</td>\n",
       "      <td>M</td>\n",
       "      <td>student</td>\n",
       "    </tr>\n",
       "    <tr>\n",
       "      <th>3</th>\n",
       "      <td>paul</td>\n",
       "      <td>58</td>\n",
       "      <td>F</td>\n",
       "      <td>manager</td>\n",
       "    </tr>\n",
       "    <tr>\n",
       "      <th>4</th>\n",
       "      <td>peter</td>\n",
       "      <td>33</td>\n",
       "      <td>M</td>\n",
       "      <td>engineer</td>\n",
       "    </tr>\n",
       "    <tr>\n",
       "      <th>5</th>\n",
       "      <td>julie</td>\n",
       "      <td>44</td>\n",
       "      <td>F</td>\n",
       "      <td>scientist</td>\n",
       "    </tr>\n",
       "  </tbody>\n",
       "</table>\n",
       "</div>"
      ],
      "text/plain": [
       "    name  age gender        job\n",
       "0  alice   19      F    student\n",
       "1   john   26      M    student\n",
       "2   eric   22      M    student\n",
       "3   paul   58      F    manager\n",
       "4  peter   33      M   engineer\n",
       "5  julie   44      F  scientist"
      ]
     },
     "execution_count": 69,
     "metadata": {},
     "output_type": "execute_result"
    }
   ],
   "source": [
    "users"
   ]
  },
  {
   "cell_type": "markdown",
   "id": "16785237",
   "metadata": {
    "papermill": {
     "duration": 0.030276,
     "end_time": "2025-01-09T02:34:00.911656",
     "exception": false,
     "start_time": "2025-01-09T02:34:00.881380",
     "status": "completed"
    },
    "tags": []
   },
   "source": [
    "**Class Work:**\n",
    "<b>\n",
    "<pre>\n",
    "Select all record where if gender is M then age should be greater than 25\n",
    "                     or if gender is F then age should be greater than 50\n",
    "</pre>\n",
    "</b>"
   ]
  },
  {
   "cell_type": "code",
   "execution_count": 70,
   "id": "562d018f",
   "metadata": {
    "execution": {
     "iopub.execute_input": "2025-01-09T02:34:00.973425Z",
     "iopub.status.busy": "2025-01-09T02:34:00.973110Z",
     "iopub.status.idle": "2025-01-09T02:34:00.983359Z",
     "shell.execute_reply": "2025-01-09T02:34:00.982396Z"
    },
    "papermill": {
     "duration": 0.043108,
     "end_time": "2025-01-09T02:34:00.984969",
     "exception": false,
     "start_time": "2025-01-09T02:34:00.941861",
     "status": "completed"
    },
    "tags": []
   },
   "outputs": [
    {
     "data": {
      "text/html": [
       "<div>\n",
       "<style scoped>\n",
       "    .dataframe tbody tr th:only-of-type {\n",
       "        vertical-align: middle;\n",
       "    }\n",
       "\n",
       "    .dataframe tbody tr th {\n",
       "        vertical-align: top;\n",
       "    }\n",
       "\n",
       "    .dataframe thead th {\n",
       "        text-align: right;\n",
       "    }\n",
       "</style>\n",
       "<table border=\"1\" class=\"dataframe\">\n",
       "  <thead>\n",
       "    <tr style=\"text-align: right;\">\n",
       "      <th></th>\n",
       "      <th>name</th>\n",
       "      <th>age</th>\n",
       "      <th>gender</th>\n",
       "      <th>job</th>\n",
       "    </tr>\n",
       "  </thead>\n",
       "  <tbody>\n",
       "    <tr>\n",
       "      <th>1</th>\n",
       "      <td>john</td>\n",
       "      <td>26</td>\n",
       "      <td>M</td>\n",
       "      <td>student</td>\n",
       "    </tr>\n",
       "    <tr>\n",
       "      <th>3</th>\n",
       "      <td>paul</td>\n",
       "      <td>58</td>\n",
       "      <td>F</td>\n",
       "      <td>manager</td>\n",
       "    </tr>\n",
       "    <tr>\n",
       "      <th>4</th>\n",
       "      <td>peter</td>\n",
       "      <td>33</td>\n",
       "      <td>M</td>\n",
       "      <td>engineer</td>\n",
       "    </tr>\n",
       "  </tbody>\n",
       "</table>\n",
       "</div>"
      ],
      "text/plain": [
       "    name  age gender       job\n",
       "1   john   26      M   student\n",
       "3   paul   58      F   manager\n",
       "4  peter   33      M  engineer"
      ]
     },
     "execution_count": 70,
     "metadata": {},
     "output_type": "execute_result"
    }
   ],
   "source": [
    "users[((users.gender == 'M') & (users.age > 25)) | ((users.gender == 'F') & (users.age > 50))]"
   ]
  },
  {
   "cell_type": "markdown",
   "id": "18b1c095",
   "metadata": {
    "papermill": {
     "duration": 0.030198,
     "end_time": "2025-01-09T02:34:01.045543",
     "exception": false,
     "start_time": "2025-01-09T02:34:01.015345",
     "status": "completed"
    },
    "tags": []
   },
   "source": [
    "## **Sorting**"
   ]
  },
  {
   "cell_type": "code",
   "execution_count": 71,
   "id": "583b1c88",
   "metadata": {
    "execution": {
     "iopub.execute_input": "2025-01-09T02:34:01.108529Z",
     "iopub.status.busy": "2025-01-09T02:34:01.108208Z",
     "iopub.status.idle": "2025-01-09T02:34:01.113892Z",
     "shell.execute_reply": "2025-01-09T02:34:01.112897Z"
    },
    "papermill": {
     "duration": 0.039786,
     "end_time": "2025-01-09T02:34:01.115612",
     "exception": false,
     "start_time": "2025-01-09T02:34:01.075826",
     "status": "completed"
    },
    "tags": []
   },
   "outputs": [
    {
     "name": "stdout",
     "output_type": "stream",
     "text": [
      "0    19\n",
      "1    26\n",
      "2    22\n",
      "3    58\n",
      "4    33\n",
      "5    44\n",
      "Name: age, dtype: int64\n",
      "0    19\n",
      "2    22\n",
      "1    26\n",
      "4    33\n",
      "5    44\n",
      "3    58\n",
      "Name: age, dtype: int64\n"
     ]
    }
   ],
   "source": [
    "df = users.copy()\n",
    "print (df.age)\n",
    "print (df.age.sort_values())"
   ]
  },
  {
   "cell_type": "code",
   "execution_count": 72,
   "id": "2db43aa5",
   "metadata": {
    "execution": {
     "iopub.execute_input": "2025-01-09T02:34:01.179391Z",
     "iopub.status.busy": "2025-01-09T02:34:01.179017Z",
     "iopub.status.idle": "2025-01-09T02:34:01.188580Z",
     "shell.execute_reply": "2025-01-09T02:34:01.187634Z"
    },
    "papermill": {
     "duration": 0.042915,
     "end_time": "2025-01-09T02:34:01.190082",
     "exception": false,
     "start_time": "2025-01-09T02:34:01.147167",
     "status": "completed"
    },
    "tags": []
   },
   "outputs": [
    {
     "data": {
      "text/html": [
       "<div>\n",
       "<style scoped>\n",
       "    .dataframe tbody tr th:only-of-type {\n",
       "        vertical-align: middle;\n",
       "    }\n",
       "\n",
       "    .dataframe tbody tr th {\n",
       "        vertical-align: top;\n",
       "    }\n",
       "\n",
       "    .dataframe thead th {\n",
       "        text-align: right;\n",
       "    }\n",
       "</style>\n",
       "<table border=\"1\" class=\"dataframe\">\n",
       "  <thead>\n",
       "    <tr style=\"text-align: right;\">\n",
       "      <th></th>\n",
       "      <th>name</th>\n",
       "      <th>age</th>\n",
       "      <th>gender</th>\n",
       "      <th>job</th>\n",
       "    </tr>\n",
       "  </thead>\n",
       "  <tbody>\n",
       "    <tr>\n",
       "      <th>0</th>\n",
       "      <td>alice</td>\n",
       "      <td>19</td>\n",
       "      <td>F</td>\n",
       "      <td>student</td>\n",
       "    </tr>\n",
       "    <tr>\n",
       "      <th>2</th>\n",
       "      <td>eric</td>\n",
       "      <td>22</td>\n",
       "      <td>M</td>\n",
       "      <td>student</td>\n",
       "    </tr>\n",
       "    <tr>\n",
       "      <th>1</th>\n",
       "      <td>john</td>\n",
       "      <td>26</td>\n",
       "      <td>M</td>\n",
       "      <td>student</td>\n",
       "    </tr>\n",
       "    <tr>\n",
       "      <th>4</th>\n",
       "      <td>peter</td>\n",
       "      <td>33</td>\n",
       "      <td>M</td>\n",
       "      <td>engineer</td>\n",
       "    </tr>\n",
       "    <tr>\n",
       "      <th>5</th>\n",
       "      <td>julie</td>\n",
       "      <td>44</td>\n",
       "      <td>F</td>\n",
       "      <td>scientist</td>\n",
       "    </tr>\n",
       "    <tr>\n",
       "      <th>3</th>\n",
       "      <td>paul</td>\n",
       "      <td>58</td>\n",
       "      <td>F</td>\n",
       "      <td>manager</td>\n",
       "    </tr>\n",
       "  </tbody>\n",
       "</table>\n",
       "</div>"
      ],
      "text/plain": [
       "    name  age gender        job\n",
       "0  alice   19      F    student\n",
       "2   eric   22      M    student\n",
       "1   john   26      M    student\n",
       "4  peter   33      M   engineer\n",
       "5  julie   44      F  scientist\n",
       "3   paul   58      F    manager"
      ]
     },
     "execution_count": 72,
     "metadata": {},
     "output_type": "execute_result"
    }
   ],
   "source": [
    "df.sort_values(by = 'age')"
   ]
  },
  {
   "cell_type": "code",
   "execution_count": 73,
   "id": "38e1102b",
   "metadata": {
    "execution": {
     "iopub.execute_input": "2025-01-09T02:34:01.254504Z",
     "iopub.status.busy": "2025-01-09T02:34:01.254159Z",
     "iopub.status.idle": "2025-01-09T02:34:01.263673Z",
     "shell.execute_reply": "2025-01-09T02:34:01.262677Z"
    },
    "papermill": {
     "duration": 0.04327,
     "end_time": "2025-01-09T02:34:01.265285",
     "exception": false,
     "start_time": "2025-01-09T02:34:01.222015",
     "status": "completed"
    },
    "tags": []
   },
   "outputs": [
    {
     "data": {
      "text/html": [
       "<div>\n",
       "<style scoped>\n",
       "    .dataframe tbody tr th:only-of-type {\n",
       "        vertical-align: middle;\n",
       "    }\n",
       "\n",
       "    .dataframe tbody tr th {\n",
       "        vertical-align: top;\n",
       "    }\n",
       "\n",
       "    .dataframe thead th {\n",
       "        text-align: right;\n",
       "    }\n",
       "</style>\n",
       "<table border=\"1\" class=\"dataframe\">\n",
       "  <thead>\n",
       "    <tr style=\"text-align: right;\">\n",
       "      <th></th>\n",
       "      <th>name</th>\n",
       "      <th>age</th>\n",
       "      <th>gender</th>\n",
       "      <th>job</th>\n",
       "    </tr>\n",
       "  </thead>\n",
       "  <tbody>\n",
       "    <tr>\n",
       "      <th>3</th>\n",
       "      <td>paul</td>\n",
       "      <td>58</td>\n",
       "      <td>F</td>\n",
       "      <td>manager</td>\n",
       "    </tr>\n",
       "    <tr>\n",
       "      <th>5</th>\n",
       "      <td>julie</td>\n",
       "      <td>44</td>\n",
       "      <td>F</td>\n",
       "      <td>scientist</td>\n",
       "    </tr>\n",
       "    <tr>\n",
       "      <th>4</th>\n",
       "      <td>peter</td>\n",
       "      <td>33</td>\n",
       "      <td>M</td>\n",
       "      <td>engineer</td>\n",
       "    </tr>\n",
       "    <tr>\n",
       "      <th>1</th>\n",
       "      <td>john</td>\n",
       "      <td>26</td>\n",
       "      <td>M</td>\n",
       "      <td>student</td>\n",
       "    </tr>\n",
       "    <tr>\n",
       "      <th>2</th>\n",
       "      <td>eric</td>\n",
       "      <td>22</td>\n",
       "      <td>M</td>\n",
       "      <td>student</td>\n",
       "    </tr>\n",
       "    <tr>\n",
       "      <th>0</th>\n",
       "      <td>alice</td>\n",
       "      <td>19</td>\n",
       "      <td>F</td>\n",
       "      <td>student</td>\n",
       "    </tr>\n",
       "  </tbody>\n",
       "</table>\n",
       "</div>"
      ],
      "text/plain": [
       "    name  age gender        job\n",
       "3   paul   58      F    manager\n",
       "5  julie   44      F  scientist\n",
       "4  peter   33      M   engineer\n",
       "1   john   26      M    student\n",
       "2   eric   22      M    student\n",
       "0  alice   19      F    student"
      ]
     },
     "execution_count": 73,
     "metadata": {},
     "output_type": "execute_result"
    }
   ],
   "source": [
    "df.sort_values(by = 'age', ascending = False)"
   ]
  },
  {
   "cell_type": "code",
   "execution_count": 74,
   "id": "6d776bb0",
   "metadata": {
    "execution": {
     "iopub.execute_input": "2025-01-09T02:34:01.329442Z",
     "iopub.status.busy": "2025-01-09T02:34:01.329111Z",
     "iopub.status.idle": "2025-01-09T02:34:01.338099Z",
     "shell.execute_reply": "2025-01-09T02:34:01.337210Z"
    },
    "papermill": {
     "duration": 0.043216,
     "end_time": "2025-01-09T02:34:01.339618",
     "exception": false,
     "start_time": "2025-01-09T02:34:01.296402",
     "status": "completed"
    },
    "tags": []
   },
   "outputs": [
    {
     "data": {
      "text/html": [
       "<div>\n",
       "<style scoped>\n",
       "    .dataframe tbody tr th:only-of-type {\n",
       "        vertical-align: middle;\n",
       "    }\n",
       "\n",
       "    .dataframe tbody tr th {\n",
       "        vertical-align: top;\n",
       "    }\n",
       "\n",
       "    .dataframe thead th {\n",
       "        text-align: right;\n",
       "    }\n",
       "</style>\n",
       "<table border=\"1\" class=\"dataframe\">\n",
       "  <thead>\n",
       "    <tr style=\"text-align: right;\">\n",
       "      <th></th>\n",
       "      <th>name</th>\n",
       "      <th>age</th>\n",
       "      <th>gender</th>\n",
       "      <th>job</th>\n",
       "    </tr>\n",
       "  </thead>\n",
       "  <tbody>\n",
       "    <tr>\n",
       "      <th>0</th>\n",
       "      <td>alice</td>\n",
       "      <td>19</td>\n",
       "      <td>F</td>\n",
       "      <td>student</td>\n",
       "    </tr>\n",
       "    <tr>\n",
       "      <th>1</th>\n",
       "      <td>john</td>\n",
       "      <td>26</td>\n",
       "      <td>M</td>\n",
       "      <td>student</td>\n",
       "    </tr>\n",
       "    <tr>\n",
       "      <th>2</th>\n",
       "      <td>eric</td>\n",
       "      <td>22</td>\n",
       "      <td>M</td>\n",
       "      <td>student</td>\n",
       "    </tr>\n",
       "    <tr>\n",
       "      <th>3</th>\n",
       "      <td>paul</td>\n",
       "      <td>58</td>\n",
       "      <td>F</td>\n",
       "      <td>manager</td>\n",
       "    </tr>\n",
       "    <tr>\n",
       "      <th>4</th>\n",
       "      <td>peter</td>\n",
       "      <td>33</td>\n",
       "      <td>M</td>\n",
       "      <td>engineer</td>\n",
       "    </tr>\n",
       "    <tr>\n",
       "      <th>5</th>\n",
       "      <td>julie</td>\n",
       "      <td>44</td>\n",
       "      <td>F</td>\n",
       "      <td>scientist</td>\n",
       "    </tr>\n",
       "  </tbody>\n",
       "</table>\n",
       "</div>"
      ],
      "text/plain": [
       "    name  age gender        job\n",
       "0  alice   19      F    student\n",
       "1   john   26      M    student\n",
       "2   eric   22      M    student\n",
       "3   paul   58      F    manager\n",
       "4  peter   33      M   engineer\n",
       "5  julie   44      F  scientist"
      ]
     },
     "execution_count": 74,
     "metadata": {},
     "output_type": "execute_result"
    }
   ],
   "source": [
    "df"
   ]
  },
  {
   "cell_type": "code",
   "execution_count": 75,
   "id": "e3a9a23b",
   "metadata": {
    "execution": {
     "iopub.execute_input": "2025-01-09T02:34:01.403337Z",
     "iopub.status.busy": "2025-01-09T02:34:01.402991Z",
     "iopub.status.idle": "2025-01-09T02:34:01.412666Z",
     "shell.execute_reply": "2025-01-09T02:34:01.411862Z"
    },
    "papermill": {
     "duration": 0.043175,
     "end_time": "2025-01-09T02:34:01.414230",
     "exception": false,
     "start_time": "2025-01-09T02:34:01.371055",
     "status": "completed"
    },
    "tags": []
   },
   "outputs": [
    {
     "data": {
      "text/html": [
       "<div>\n",
       "<style scoped>\n",
       "    .dataframe tbody tr th:only-of-type {\n",
       "        vertical-align: middle;\n",
       "    }\n",
       "\n",
       "    .dataframe tbody tr th {\n",
       "        vertical-align: top;\n",
       "    }\n",
       "\n",
       "    .dataframe thead th {\n",
       "        text-align: right;\n",
       "    }\n",
       "</style>\n",
       "<table border=\"1\" class=\"dataframe\">\n",
       "  <thead>\n",
       "    <tr style=\"text-align: right;\">\n",
       "      <th></th>\n",
       "      <th>name</th>\n",
       "      <th>age</th>\n",
       "      <th>gender</th>\n",
       "      <th>job</th>\n",
       "    </tr>\n",
       "  </thead>\n",
       "  <tbody>\n",
       "    <tr>\n",
       "      <th>0</th>\n",
       "      <td>paul</td>\n",
       "      <td>58</td>\n",
       "      <td>F</td>\n",
       "      <td>manager</td>\n",
       "    </tr>\n",
       "    <tr>\n",
       "      <th>1</th>\n",
       "      <td>julie</td>\n",
       "      <td>44</td>\n",
       "      <td>F</td>\n",
       "      <td>scientist</td>\n",
       "    </tr>\n",
       "    <tr>\n",
       "      <th>2</th>\n",
       "      <td>peter</td>\n",
       "      <td>33</td>\n",
       "      <td>M</td>\n",
       "      <td>engineer</td>\n",
       "    </tr>\n",
       "    <tr>\n",
       "      <th>3</th>\n",
       "      <td>john</td>\n",
       "      <td>26</td>\n",
       "      <td>M</td>\n",
       "      <td>student</td>\n",
       "    </tr>\n",
       "    <tr>\n",
       "      <th>4</th>\n",
       "      <td>eric</td>\n",
       "      <td>22</td>\n",
       "      <td>M</td>\n",
       "      <td>student</td>\n",
       "    </tr>\n",
       "    <tr>\n",
       "      <th>5</th>\n",
       "      <td>alice</td>\n",
       "      <td>19</td>\n",
       "      <td>F</td>\n",
       "      <td>student</td>\n",
       "    </tr>\n",
       "  </tbody>\n",
       "</table>\n",
       "</div>"
      ],
      "text/plain": [
       "    name  age gender        job\n",
       "0   paul   58      F    manager\n",
       "1  julie   44      F  scientist\n",
       "2  peter   33      M   engineer\n",
       "3   john   26      M    student\n",
       "4   eric   22      M    student\n",
       "5  alice   19      F    student"
      ]
     },
     "execution_count": 75,
     "metadata": {},
     "output_type": "execute_result"
    }
   ],
   "source": [
    "df.sort_values(by = 'age', ascending = False, inplace = True)\n",
    "df.index = range(df.shape[0])\n",
    "df"
   ]
  },
  {
   "cell_type": "code",
   "execution_count": 76,
   "id": "e4d54e23",
   "metadata": {
    "execution": {
     "iopub.execute_input": "2025-01-09T02:34:01.481675Z",
     "iopub.status.busy": "2025-01-09T02:34:01.481332Z",
     "iopub.status.idle": "2025-01-09T02:34:01.487993Z",
     "shell.execute_reply": "2025-01-09T02:34:01.486854Z"
    },
    "papermill": {
     "duration": 0.043874,
     "end_time": "2025-01-09T02:34:01.489511",
     "exception": false,
     "start_time": "2025-01-09T02:34:01.445637",
     "status": "completed"
    },
    "tags": []
   },
   "outputs": [
    {
     "data": {
      "text/plain": [
       "RangeIndex(start=0, stop=6, step=1)"
      ]
     },
     "execution_count": 76,
     "metadata": {},
     "output_type": "execute_result"
    }
   ],
   "source": [
    "df.index"
   ]
  },
  {
   "cell_type": "markdown",
   "id": "f48b985f",
   "metadata": {
    "papermill": {
     "duration": 0.031083,
     "end_time": "2025-01-09T02:34:01.553381",
     "exception": false,
     "start_time": "2025-01-09T02:34:01.522298",
     "status": "completed"
    },
    "tags": []
   },
   "source": [
    "## **Unpivot and Pivot**\n",
    "* **unpivot =>** Wide format (unstacked format) to Long Format (Stacked Format)\n",
    "* **pivot =>** Long Format (Stacked Format) to Wide format (unstacked format) "
   ]
  },
  {
   "cell_type": "code",
   "execution_count": 77,
   "id": "587a7fcb",
   "metadata": {
    "execution": {
     "iopub.execute_input": "2025-01-09T02:34:01.617588Z",
     "iopub.status.busy": "2025-01-09T02:34:01.617274Z",
     "iopub.status.idle": "2025-01-09T02:34:01.625922Z",
     "shell.execute_reply": "2025-01-09T02:34:01.624946Z"
    },
    "papermill": {
     "duration": 0.042457,
     "end_time": "2025-01-09T02:34:01.627414",
     "exception": false,
     "start_time": "2025-01-09T02:34:01.584957",
     "status": "completed"
    },
    "tags": []
   },
   "outputs": [
    {
     "data": {
      "text/html": [
       "<div>\n",
       "<style scoped>\n",
       "    .dataframe tbody tr th:only-of-type {\n",
       "        vertical-align: middle;\n",
       "    }\n",
       "\n",
       "    .dataframe tbody tr th {\n",
       "        vertical-align: top;\n",
       "    }\n",
       "\n",
       "    .dataframe thead th {\n",
       "        text-align: right;\n",
       "    }\n",
       "</style>\n",
       "<table border=\"1\" class=\"dataframe\">\n",
       "  <thead>\n",
       "    <tr style=\"text-align: right;\">\n",
       "      <th></th>\n",
       "      <th>name</th>\n",
       "      <th>age</th>\n",
       "      <th>gender</th>\n",
       "      <th>job</th>\n",
       "    </tr>\n",
       "  </thead>\n",
       "  <tbody>\n",
       "    <tr>\n",
       "      <th>0</th>\n",
       "      <td>alice</td>\n",
       "      <td>19</td>\n",
       "      <td>F</td>\n",
       "      <td>student</td>\n",
       "    </tr>\n",
       "    <tr>\n",
       "      <th>1</th>\n",
       "      <td>john</td>\n",
       "      <td>26</td>\n",
       "      <td>M</td>\n",
       "      <td>student</td>\n",
       "    </tr>\n",
       "    <tr>\n",
       "      <th>2</th>\n",
       "      <td>eric</td>\n",
       "      <td>22</td>\n",
       "      <td>M</td>\n",
       "      <td>student</td>\n",
       "    </tr>\n",
       "    <tr>\n",
       "      <th>3</th>\n",
       "      <td>paul</td>\n",
       "      <td>58</td>\n",
       "      <td>F</td>\n",
       "      <td>manager</td>\n",
       "    </tr>\n",
       "    <tr>\n",
       "      <th>4</th>\n",
       "      <td>peter</td>\n",
       "      <td>33</td>\n",
       "      <td>M</td>\n",
       "      <td>engineer</td>\n",
       "    </tr>\n",
       "    <tr>\n",
       "      <th>5</th>\n",
       "      <td>julie</td>\n",
       "      <td>44</td>\n",
       "      <td>F</td>\n",
       "      <td>scientist</td>\n",
       "    </tr>\n",
       "  </tbody>\n",
       "</table>\n",
       "</div>"
      ],
      "text/plain": [
       "    name  age gender        job\n",
       "0  alice   19      F    student\n",
       "1   john   26      M    student\n",
       "2   eric   22      M    student\n",
       "3   paul   58      F    manager\n",
       "4  peter   33      M   engineer\n",
       "5  julie   44      F  scientist"
      ]
     },
     "execution_count": 77,
     "metadata": {},
     "output_type": "execute_result"
    }
   ],
   "source": [
    "users"
   ]
  },
  {
   "cell_type": "code",
   "execution_count": 78,
   "id": "c6c365a4",
   "metadata": {
    "execution": {
     "iopub.execute_input": "2025-01-09T02:34:01.693904Z",
     "iopub.status.busy": "2025-01-09T02:34:01.693431Z",
     "iopub.status.idle": "2025-01-09T02:34:01.706595Z",
     "shell.execute_reply": "2025-01-09T02:34:01.705491Z"
    },
    "papermill": {
     "duration": 0.047464,
     "end_time": "2025-01-09T02:34:01.708387",
     "exception": false,
     "start_time": "2025-01-09T02:34:01.660923",
     "status": "completed"
    },
    "tags": []
   },
   "outputs": [
    {
     "data": {
      "text/html": [
       "<div>\n",
       "<style scoped>\n",
       "    .dataframe tbody tr th:only-of-type {\n",
       "        vertical-align: middle;\n",
       "    }\n",
       "\n",
       "    .dataframe tbody tr th {\n",
       "        vertical-align: top;\n",
       "    }\n",
       "\n",
       "    .dataframe thead th {\n",
       "        text-align: right;\n",
       "    }\n",
       "</style>\n",
       "<table border=\"1\" class=\"dataframe\">\n",
       "  <thead>\n",
       "    <tr style=\"text-align: right;\">\n",
       "      <th></th>\n",
       "      <th>name</th>\n",
       "      <th>my_variable</th>\n",
       "      <th>my_value</th>\n",
       "    </tr>\n",
       "  </thead>\n",
       "  <tbody>\n",
       "    <tr>\n",
       "      <th>0</th>\n",
       "      <td>alice</td>\n",
       "      <td>age</td>\n",
       "      <td>19</td>\n",
       "    </tr>\n",
       "    <tr>\n",
       "      <th>1</th>\n",
       "      <td>john</td>\n",
       "      <td>age</td>\n",
       "      <td>26</td>\n",
       "    </tr>\n",
       "    <tr>\n",
       "      <th>2</th>\n",
       "      <td>eric</td>\n",
       "      <td>age</td>\n",
       "      <td>22</td>\n",
       "    </tr>\n",
       "    <tr>\n",
       "      <th>3</th>\n",
       "      <td>paul</td>\n",
       "      <td>age</td>\n",
       "      <td>58</td>\n",
       "    </tr>\n",
       "    <tr>\n",
       "      <th>4</th>\n",
       "      <td>peter</td>\n",
       "      <td>age</td>\n",
       "      <td>33</td>\n",
       "    </tr>\n",
       "    <tr>\n",
       "      <th>5</th>\n",
       "      <td>julie</td>\n",
       "      <td>age</td>\n",
       "      <td>44</td>\n",
       "    </tr>\n",
       "    <tr>\n",
       "      <th>6</th>\n",
       "      <td>alice</td>\n",
       "      <td>gender</td>\n",
       "      <td>F</td>\n",
       "    </tr>\n",
       "    <tr>\n",
       "      <th>7</th>\n",
       "      <td>john</td>\n",
       "      <td>gender</td>\n",
       "      <td>M</td>\n",
       "    </tr>\n",
       "    <tr>\n",
       "      <th>8</th>\n",
       "      <td>eric</td>\n",
       "      <td>gender</td>\n",
       "      <td>M</td>\n",
       "    </tr>\n",
       "    <tr>\n",
       "      <th>9</th>\n",
       "      <td>paul</td>\n",
       "      <td>gender</td>\n",
       "      <td>F</td>\n",
       "    </tr>\n",
       "    <tr>\n",
       "      <th>10</th>\n",
       "      <td>peter</td>\n",
       "      <td>gender</td>\n",
       "      <td>M</td>\n",
       "    </tr>\n",
       "    <tr>\n",
       "      <th>11</th>\n",
       "      <td>julie</td>\n",
       "      <td>gender</td>\n",
       "      <td>F</td>\n",
       "    </tr>\n",
       "    <tr>\n",
       "      <th>12</th>\n",
       "      <td>alice</td>\n",
       "      <td>job</td>\n",
       "      <td>student</td>\n",
       "    </tr>\n",
       "    <tr>\n",
       "      <th>13</th>\n",
       "      <td>john</td>\n",
       "      <td>job</td>\n",
       "      <td>student</td>\n",
       "    </tr>\n",
       "    <tr>\n",
       "      <th>14</th>\n",
       "      <td>eric</td>\n",
       "      <td>job</td>\n",
       "      <td>student</td>\n",
       "    </tr>\n",
       "    <tr>\n",
       "      <th>15</th>\n",
       "      <td>paul</td>\n",
       "      <td>job</td>\n",
       "      <td>manager</td>\n",
       "    </tr>\n",
       "    <tr>\n",
       "      <th>16</th>\n",
       "      <td>peter</td>\n",
       "      <td>job</td>\n",
       "      <td>engineer</td>\n",
       "    </tr>\n",
       "    <tr>\n",
       "      <th>17</th>\n",
       "      <td>julie</td>\n",
       "      <td>job</td>\n",
       "      <td>scientist</td>\n",
       "    </tr>\n",
       "  </tbody>\n",
       "</table>\n",
       "</div>"
      ],
      "text/plain": [
       "     name my_variable   my_value\n",
       "0   alice         age         19\n",
       "1    john         age         26\n",
       "2    eric         age         22\n",
       "3    paul         age         58\n",
       "4   peter         age         33\n",
       "5   julie         age         44\n",
       "6   alice      gender          F\n",
       "7    john      gender          M\n",
       "8    eric      gender          M\n",
       "9    paul      gender          F\n",
       "10  peter      gender          M\n",
       "11  julie      gender          F\n",
       "12  alice         job    student\n",
       "13   john         job    student\n",
       "14   eric         job    student\n",
       "15   paul         job    manager\n",
       "16  peter         job   engineer\n",
       "17  julie         job  scientist"
      ]
     },
     "execution_count": 78,
     "metadata": {},
     "output_type": "execute_result"
    }
   ],
   "source": [
    "# performing the unpivot operation: wide format to long format\n",
    "stacked = pd.melt(users, id_vars='name', var_name=\"my_variable\", value_name='my_value')\n",
    "stacked"
   ]
  },
  {
   "cell_type": "code",
   "execution_count": 79,
   "id": "8670b5f3",
   "metadata": {
    "execution": {
     "iopub.execute_input": "2025-01-09T02:34:01.775188Z",
     "iopub.status.busy": "2025-01-09T02:34:01.774815Z",
     "iopub.status.idle": "2025-01-09T02:34:01.792291Z",
     "shell.execute_reply": "2025-01-09T02:34:01.791411Z"
    },
    "papermill": {
     "duration": 0.052597,
     "end_time": "2025-01-09T02:34:01.794216",
     "exception": false,
     "start_time": "2025-01-09T02:34:01.741619",
     "status": "completed"
    },
    "tags": []
   },
   "outputs": [
    {
     "name": "stdout",
     "output_type": "stream",
     "text": [
      "Index(['name', 'age', 'gender', 'job'], dtype='object', name='my_variable')\n",
      "my_variable\n"
     ]
    },
    {
     "data": {
      "text/html": [
       "<div>\n",
       "<style scoped>\n",
       "    .dataframe tbody tr th:only-of-type {\n",
       "        vertical-align: middle;\n",
       "    }\n",
       "\n",
       "    .dataframe tbody tr th {\n",
       "        vertical-align: top;\n",
       "    }\n",
       "\n",
       "    .dataframe thead th {\n",
       "        text-align: right;\n",
       "    }\n",
       "</style>\n",
       "<table border=\"1\" class=\"dataframe\">\n",
       "  <thead>\n",
       "    <tr style=\"text-align: right;\">\n",
       "      <th></th>\n",
       "      <th>name</th>\n",
       "      <th>age</th>\n",
       "      <th>gender</th>\n",
       "      <th>job</th>\n",
       "    </tr>\n",
       "  </thead>\n",
       "  <tbody>\n",
       "    <tr>\n",
       "      <th>0</th>\n",
       "      <td>alice</td>\n",
       "      <td>19</td>\n",
       "      <td>F</td>\n",
       "      <td>student</td>\n",
       "    </tr>\n",
       "    <tr>\n",
       "      <th>1</th>\n",
       "      <td>eric</td>\n",
       "      <td>22</td>\n",
       "      <td>M</td>\n",
       "      <td>student</td>\n",
       "    </tr>\n",
       "    <tr>\n",
       "      <th>2</th>\n",
       "      <td>john</td>\n",
       "      <td>26</td>\n",
       "      <td>M</td>\n",
       "      <td>student</td>\n",
       "    </tr>\n",
       "    <tr>\n",
       "      <th>3</th>\n",
       "      <td>julie</td>\n",
       "      <td>44</td>\n",
       "      <td>F</td>\n",
       "      <td>scientist</td>\n",
       "    </tr>\n",
       "    <tr>\n",
       "      <th>4</th>\n",
       "      <td>paul</td>\n",
       "      <td>58</td>\n",
       "      <td>F</td>\n",
       "      <td>manager</td>\n",
       "    </tr>\n",
       "    <tr>\n",
       "      <th>5</th>\n",
       "      <td>peter</td>\n",
       "      <td>33</td>\n",
       "      <td>M</td>\n",
       "      <td>engineer</td>\n",
       "    </tr>\n",
       "  </tbody>\n",
       "</table>\n",
       "</div>"
      ],
      "text/plain": [
       "    name age gender        job\n",
       "0  alice  19      F    student\n",
       "1   eric  22      M    student\n",
       "2   john  26      M    student\n",
       "3  julie  44      F  scientist\n",
       "4   paul  58      F    manager\n",
       "5  peter  33      M   engineer"
      ]
     },
     "execution_count": 79,
     "metadata": {},
     "output_type": "execute_result"
    }
   ],
   "source": [
    "unstacked = stacked.pivot(index='name', columns='my_variable', values='my_value')\n",
    "unstacked.reset_index(inplace=True)\n",
    "print (unstacked.columns)\n",
    "print (unstacked.columns.name)\n",
    "unstacked.columns.name = \"\"\n",
    "unstacked"
   ]
  },
  {
   "cell_type": "markdown",
   "id": "217160e2",
   "metadata": {
    "papermill": {
     "duration": 0.03164,
     "end_time": "2025-01-09T02:34:01.858708",
     "exception": false,
     "start_time": "2025-01-09T02:34:01.827068",
     "status": "completed"
    },
    "tags": []
   },
   "source": [
    "## **Quality Control: Duplicate Data**"
   ]
  },
  {
   "cell_type": "code",
   "execution_count": 80,
   "id": "b2565e3e",
   "metadata": {
    "execution": {
     "iopub.execute_input": "2025-01-09T02:34:01.924648Z",
     "iopub.status.busy": "2025-01-09T02:34:01.924305Z",
     "iopub.status.idle": "2025-01-09T02:34:01.939828Z",
     "shell.execute_reply": "2025-01-09T02:34:01.938883Z"
    },
    "papermill": {
     "duration": 0.050461,
     "end_time": "2025-01-09T02:34:01.941333",
     "exception": false,
     "start_time": "2025-01-09T02:34:01.890872",
     "status": "completed"
    },
    "tags": []
   },
   "outputs": [
    {
     "data": {
      "text/html": [
       "<div>\n",
       "<style scoped>\n",
       "    .dataframe tbody tr th:only-of-type {\n",
       "        vertical-align: middle;\n",
       "    }\n",
       "\n",
       "    .dataframe tbody tr th {\n",
       "        vertical-align: top;\n",
       "    }\n",
       "\n",
       "    .dataframe thead th {\n",
       "        text-align: right;\n",
       "    }\n",
       "</style>\n",
       "<table border=\"1\" class=\"dataframe\">\n",
       "  <thead>\n",
       "    <tr style=\"text-align: right;\">\n",
       "      <th></th>\n",
       "      <th>name</th>\n",
       "      <th>age</th>\n",
       "      <th>gender</th>\n",
       "      <th>job</th>\n",
       "    </tr>\n",
       "  </thead>\n",
       "  <tbody>\n",
       "    <tr>\n",
       "      <th>0</th>\n",
       "      <td>alice</td>\n",
       "      <td>19</td>\n",
       "      <td>F</td>\n",
       "      <td>student</td>\n",
       "    </tr>\n",
       "    <tr>\n",
       "      <th>1</th>\n",
       "      <td>alice</td>\n",
       "      <td>19</td>\n",
       "      <td>F</td>\n",
       "      <td>student</td>\n",
       "    </tr>\n",
       "    <tr>\n",
       "      <th>2</th>\n",
       "      <td>eric</td>\n",
       "      <td>22</td>\n",
       "      <td>M</td>\n",
       "      <td>student</td>\n",
       "    </tr>\n",
       "    <tr>\n",
       "      <th>3</th>\n",
       "      <td>eric</td>\n",
       "      <td>22</td>\n",
       "      <td>M</td>\n",
       "      <td>student</td>\n",
       "    </tr>\n",
       "    <tr>\n",
       "      <th>4</th>\n",
       "      <td>john</td>\n",
       "      <td>26</td>\n",
       "      <td>M</td>\n",
       "      <td>student</td>\n",
       "    </tr>\n",
       "    <tr>\n",
       "      <th>5</th>\n",
       "      <td>julie</td>\n",
       "      <td>44</td>\n",
       "      <td>F</td>\n",
       "      <td>scientist</td>\n",
       "    </tr>\n",
       "    <tr>\n",
       "      <th>6</th>\n",
       "      <td>paul</td>\n",
       "      <td>58</td>\n",
       "      <td>F</td>\n",
       "      <td>manager</td>\n",
       "    </tr>\n",
       "    <tr>\n",
       "      <th>7</th>\n",
       "      <td>paul</td>\n",
       "      <td>58</td>\n",
       "      <td>F</td>\n",
       "      <td>manager</td>\n",
       "    </tr>\n",
       "    <tr>\n",
       "      <th>8</th>\n",
       "      <td>peter</td>\n",
       "      <td>33</td>\n",
       "      <td>M</td>\n",
       "      <td>engineer</td>\n",
       "    </tr>\n",
       "    <tr>\n",
       "      <th>9</th>\n",
       "      <td>peter</td>\n",
       "      <td>33</td>\n",
       "      <td>M</td>\n",
       "      <td>engineer</td>\n",
       "    </tr>\n",
       "  </tbody>\n",
       "</table>\n",
       "</div>"
      ],
      "text/plain": [
       "    name  age gender        job\n",
       "0  alice   19      F    student\n",
       "1  alice   19      F    student\n",
       "2   eric   22      M    student\n",
       "3   eric   22      M    student\n",
       "4   john   26      M    student\n",
       "5  julie   44      F  scientist\n",
       "6   paul   58      F    manager\n",
       "7   paul   58      F    manager\n",
       "8  peter   33      M   engineer\n",
       "9  peter   33      M   engineer"
      ]
     },
     "execution_count": 80,
     "metadata": {},
     "output_type": "execute_result"
    }
   ],
   "source": [
    "df = users.copy()\n",
    "df = pd.concat([df, df[df.index == 0]])\n",
    "df = pd.concat([df, df[df.index == 2]])\n",
    "df = pd.concat([df, df[df.index == 3]])\n",
    "df = pd.concat([df, df[df.index == 4]], ignore_index=True)\n",
    "df.sort_values(by = 'name', inplace=True)\n",
    "df.index = range(df.shape[0])\n",
    "df"
   ]
  },
  {
   "cell_type": "code",
   "execution_count": 81,
   "id": "bc5cad65",
   "metadata": {
    "execution": {
     "iopub.execute_input": "2025-01-09T02:34:02.007683Z",
     "iopub.status.busy": "2025-01-09T02:34:02.007368Z",
     "iopub.status.idle": "2025-01-09T02:34:02.016110Z",
     "shell.execute_reply": "2025-01-09T02:34:02.015100Z"
    },
    "papermill": {
     "duration": 0.043444,
     "end_time": "2025-01-09T02:34:02.017614",
     "exception": false,
     "start_time": "2025-01-09T02:34:01.974170",
     "status": "completed"
    },
    "tags": []
   },
   "outputs": [
    {
     "data": {
      "text/plain": [
       "0    False\n",
       "1     True\n",
       "2    False\n",
       "3     True\n",
       "4    False\n",
       "5    False\n",
       "6    False\n",
       "7     True\n",
       "8    False\n",
       "9     True\n",
       "dtype: bool"
      ]
     },
     "execution_count": 81,
     "metadata": {},
     "output_type": "execute_result"
    }
   ],
   "source": [
    "df.duplicated()   # returns a boolean series"
   ]
  },
  {
   "cell_type": "code",
   "execution_count": 82,
   "id": "9a33767a",
   "metadata": {
    "execution": {
     "iopub.execute_input": "2025-01-09T02:34:02.083975Z",
     "iopub.status.busy": "2025-01-09T02:34:02.083582Z",
     "iopub.status.idle": "2025-01-09T02:34:02.093608Z",
     "shell.execute_reply": "2025-01-09T02:34:02.092494Z"
    },
    "papermill": {
     "duration": 0.045119,
     "end_time": "2025-01-09T02:34:02.095323",
     "exception": false,
     "start_time": "2025-01-09T02:34:02.050204",
     "status": "completed"
    },
    "tags": []
   },
   "outputs": [
    {
     "data": {
      "text/html": [
       "<div>\n",
       "<style scoped>\n",
       "    .dataframe tbody tr th:only-of-type {\n",
       "        vertical-align: middle;\n",
       "    }\n",
       "\n",
       "    .dataframe tbody tr th {\n",
       "        vertical-align: top;\n",
       "    }\n",
       "\n",
       "    .dataframe thead th {\n",
       "        text-align: right;\n",
       "    }\n",
       "</style>\n",
       "<table border=\"1\" class=\"dataframe\">\n",
       "  <thead>\n",
       "    <tr style=\"text-align: right;\">\n",
       "      <th></th>\n",
       "      <th>name</th>\n",
       "      <th>age</th>\n",
       "      <th>gender</th>\n",
       "      <th>job</th>\n",
       "    </tr>\n",
       "  </thead>\n",
       "  <tbody>\n",
       "    <tr>\n",
       "      <th>1</th>\n",
       "      <td>alice</td>\n",
       "      <td>19</td>\n",
       "      <td>F</td>\n",
       "      <td>student</td>\n",
       "    </tr>\n",
       "    <tr>\n",
       "      <th>3</th>\n",
       "      <td>eric</td>\n",
       "      <td>22</td>\n",
       "      <td>M</td>\n",
       "      <td>student</td>\n",
       "    </tr>\n",
       "    <tr>\n",
       "      <th>7</th>\n",
       "      <td>paul</td>\n",
       "      <td>58</td>\n",
       "      <td>F</td>\n",
       "      <td>manager</td>\n",
       "    </tr>\n",
       "    <tr>\n",
       "      <th>9</th>\n",
       "      <td>peter</td>\n",
       "      <td>33</td>\n",
       "      <td>M</td>\n",
       "      <td>engineer</td>\n",
       "    </tr>\n",
       "  </tbody>\n",
       "</table>\n",
       "</div>"
      ],
      "text/plain": [
       "    name  age gender       job\n",
       "1  alice   19      F   student\n",
       "3   eric   22      M   student\n",
       "7   paul   58      F   manager\n",
       "9  peter   33      M  engineer"
      ]
     },
     "execution_count": 82,
     "metadata": {},
     "output_type": "execute_result"
    }
   ],
   "source": [
    "df[df.duplicated()]"
   ]
  },
  {
   "cell_type": "code",
   "execution_count": 83,
   "id": "1b28651d",
   "metadata": {
    "execution": {
     "iopub.execute_input": "2025-01-09T02:34:02.162470Z",
     "iopub.status.busy": "2025-01-09T02:34:02.162080Z",
     "iopub.status.idle": "2025-01-09T02:34:02.172223Z",
     "shell.execute_reply": "2025-01-09T02:34:02.171255Z"
    },
    "papermill": {
     "duration": 0.045482,
     "end_time": "2025-01-09T02:34:02.173716",
     "exception": false,
     "start_time": "2025-01-09T02:34:02.128234",
     "status": "completed"
    },
    "tags": []
   },
   "outputs": [
    {
     "data": {
      "text/html": [
       "<div>\n",
       "<style scoped>\n",
       "    .dataframe tbody tr th:only-of-type {\n",
       "        vertical-align: middle;\n",
       "    }\n",
       "\n",
       "    .dataframe tbody tr th {\n",
       "        vertical-align: top;\n",
       "    }\n",
       "\n",
       "    .dataframe thead th {\n",
       "        text-align: right;\n",
       "    }\n",
       "</style>\n",
       "<table border=\"1\" class=\"dataframe\">\n",
       "  <thead>\n",
       "    <tr style=\"text-align: right;\">\n",
       "      <th></th>\n",
       "      <th>name</th>\n",
       "      <th>age</th>\n",
       "      <th>gender</th>\n",
       "      <th>job</th>\n",
       "    </tr>\n",
       "  </thead>\n",
       "  <tbody>\n",
       "    <tr>\n",
       "      <th>0</th>\n",
       "      <td>alice</td>\n",
       "      <td>19</td>\n",
       "      <td>F</td>\n",
       "      <td>student</td>\n",
       "    </tr>\n",
       "    <tr>\n",
       "      <th>2</th>\n",
       "      <td>eric</td>\n",
       "      <td>22</td>\n",
       "      <td>M</td>\n",
       "      <td>student</td>\n",
       "    </tr>\n",
       "    <tr>\n",
       "      <th>4</th>\n",
       "      <td>john</td>\n",
       "      <td>26</td>\n",
       "      <td>M</td>\n",
       "      <td>student</td>\n",
       "    </tr>\n",
       "    <tr>\n",
       "      <th>5</th>\n",
       "      <td>julie</td>\n",
       "      <td>44</td>\n",
       "      <td>F</td>\n",
       "      <td>scientist</td>\n",
       "    </tr>\n",
       "    <tr>\n",
       "      <th>6</th>\n",
       "      <td>paul</td>\n",
       "      <td>58</td>\n",
       "      <td>F</td>\n",
       "      <td>manager</td>\n",
       "    </tr>\n",
       "    <tr>\n",
       "      <th>8</th>\n",
       "      <td>peter</td>\n",
       "      <td>33</td>\n",
       "      <td>M</td>\n",
       "      <td>engineer</td>\n",
       "    </tr>\n",
       "  </tbody>\n",
       "</table>\n",
       "</div>"
      ],
      "text/plain": [
       "    name  age gender        job\n",
       "0  alice   19      F    student\n",
       "2   eric   22      M    student\n",
       "4   john   26      M    student\n",
       "5  julie   44      F  scientist\n",
       "6   paul   58      F    manager\n",
       "8  peter   33      M   engineer"
      ]
     },
     "execution_count": 83,
     "metadata": {},
     "output_type": "execute_result"
    }
   ],
   "source": [
    "df[~df.duplicated()]"
   ]
  },
  {
   "cell_type": "code",
   "execution_count": 84,
   "id": "4468dba2",
   "metadata": {
    "execution": {
     "iopub.execute_input": "2025-01-09T02:34:02.241786Z",
     "iopub.status.busy": "2025-01-09T02:34:02.241417Z",
     "iopub.status.idle": "2025-01-09T02:34:02.247730Z",
     "shell.execute_reply": "2025-01-09T02:34:02.246857Z"
    },
    "papermill": {
     "duration": 0.042451,
     "end_time": "2025-01-09T02:34:02.249322",
     "exception": false,
     "start_time": "2025-01-09T02:34:02.206871",
     "status": "completed"
    },
    "tags": []
   },
   "outputs": [
    {
     "data": {
      "text/plain": [
       "0    False\n",
       "1     True\n",
       "2     True\n",
       "3     True\n",
       "4     True\n",
       "5    False\n",
       "6    False\n",
       "7     True\n",
       "8    False\n",
       "9     True\n",
       "Name: job, dtype: bool"
      ]
     },
     "execution_count": 84,
     "metadata": {},
     "output_type": "execute_result"
    }
   ],
   "source": [
    "df['job'].duplicated()"
   ]
  },
  {
   "cell_type": "code",
   "execution_count": 85,
   "id": "fbc3e8b6",
   "metadata": {
    "execution": {
     "iopub.execute_input": "2025-01-09T02:34:02.316688Z",
     "iopub.status.busy": "2025-01-09T02:34:02.316345Z",
     "iopub.status.idle": "2025-01-09T02:34:02.322642Z",
     "shell.execute_reply": "2025-01-09T02:34:02.321743Z"
    },
    "papermill": {
     "duration": 0.041758,
     "end_time": "2025-01-09T02:34:02.324223",
     "exception": false,
     "start_time": "2025-01-09T02:34:02.282465",
     "status": "completed"
    },
    "tags": []
   },
   "outputs": [
    {
     "data": {
      "text/plain": [
       "0    False\n",
       "1     True\n",
       "2    False\n",
       "3     True\n",
       "4     True\n",
       "5     True\n",
       "6     True\n",
       "7     True\n",
       "8     True\n",
       "9     True\n",
       "Name: gender, dtype: bool"
      ]
     },
     "execution_count": 85,
     "metadata": {},
     "output_type": "execute_result"
    }
   ],
   "source": [
    "df.gender.duplicated()"
   ]
  },
  {
   "cell_type": "code",
   "execution_count": 86,
   "id": "81d060ba",
   "metadata": {
    "execution": {
     "iopub.execute_input": "2025-01-09T02:34:02.391893Z",
     "iopub.status.busy": "2025-01-09T02:34:02.391507Z",
     "iopub.status.idle": "2025-01-09T02:34:02.402086Z",
     "shell.execute_reply": "2025-01-09T02:34:02.401268Z"
    },
    "papermill": {
     "duration": 0.045938,
     "end_time": "2025-01-09T02:34:02.403535",
     "exception": false,
     "start_time": "2025-01-09T02:34:02.357597",
     "status": "completed"
    },
    "tags": []
   },
   "outputs": [
    {
     "data": {
      "text/html": [
       "<div>\n",
       "<style scoped>\n",
       "    .dataframe tbody tr th:only-of-type {\n",
       "        vertical-align: middle;\n",
       "    }\n",
       "\n",
       "    .dataframe tbody tr th {\n",
       "        vertical-align: top;\n",
       "    }\n",
       "\n",
       "    .dataframe thead th {\n",
       "        text-align: right;\n",
       "    }\n",
       "</style>\n",
       "<table border=\"1\" class=\"dataframe\">\n",
       "  <thead>\n",
       "    <tr style=\"text-align: right;\">\n",
       "      <th></th>\n",
       "      <th>name</th>\n",
       "      <th>age</th>\n",
       "      <th>gender</th>\n",
       "      <th>job</th>\n",
       "    </tr>\n",
       "  </thead>\n",
       "  <tbody>\n",
       "    <tr>\n",
       "      <th>0</th>\n",
       "      <td>alice</td>\n",
       "      <td>19</td>\n",
       "      <td>F</td>\n",
       "      <td>student</td>\n",
       "    </tr>\n",
       "    <tr>\n",
       "      <th>1</th>\n",
       "      <td>eric</td>\n",
       "      <td>22</td>\n",
       "      <td>M</td>\n",
       "      <td>student</td>\n",
       "    </tr>\n",
       "    <tr>\n",
       "      <th>2</th>\n",
       "      <td>john</td>\n",
       "      <td>26</td>\n",
       "      <td>M</td>\n",
       "      <td>student</td>\n",
       "    </tr>\n",
       "    <tr>\n",
       "      <th>3</th>\n",
       "      <td>julie</td>\n",
       "      <td>44</td>\n",
       "      <td>F</td>\n",
       "      <td>scientist</td>\n",
       "    </tr>\n",
       "    <tr>\n",
       "      <th>4</th>\n",
       "      <td>paul</td>\n",
       "      <td>58</td>\n",
       "      <td>F</td>\n",
       "      <td>manager</td>\n",
       "    </tr>\n",
       "    <tr>\n",
       "      <th>5</th>\n",
       "      <td>peter</td>\n",
       "      <td>33</td>\n",
       "      <td>M</td>\n",
       "      <td>engineer</td>\n",
       "    </tr>\n",
       "  </tbody>\n",
       "</table>\n",
       "</div>"
      ],
      "text/plain": [
       "    name  age gender        job\n",
       "0  alice   19      F    student\n",
       "1   eric   22      M    student\n",
       "2   john   26      M    student\n",
       "3  julie   44      F  scientist\n",
       "4   paul   58      F    manager\n",
       "5  peter   33      M   engineer"
      ]
     },
     "execution_count": 86,
     "metadata": {},
     "output_type": "execute_result"
    }
   ],
   "source": [
    "df1 = df.copy()\n",
    "df1.drop_duplicates(inplace=True)\n",
    "df1.index = range(df1.shape[0])\n",
    "df1"
   ]
  },
  {
   "cell_type": "markdown",
   "id": "82608984",
   "metadata": {
    "papermill": {
     "duration": 0.033799,
     "end_time": "2025-01-09T02:34:02.470705",
     "exception": false,
     "start_time": "2025-01-09T02:34:02.436906",
     "status": "completed"
    },
    "tags": []
   },
   "source": [
    "## **Quality Control: Missing Data**"
   ]
  },
  {
   "cell_type": "code",
   "execution_count": 87,
   "id": "ee169a90",
   "metadata": {
    "execution": {
     "iopub.execute_input": "2025-01-09T02:34:02.539031Z",
     "iopub.status.busy": "2025-01-09T02:34:02.538644Z",
     "iopub.status.idle": "2025-01-09T02:34:02.548602Z",
     "shell.execute_reply": "2025-01-09T02:34:02.547663Z"
    },
    "papermill": {
     "duration": 0.045745,
     "end_time": "2025-01-09T02:34:02.550240",
     "exception": false,
     "start_time": "2025-01-09T02:34:02.504495",
     "status": "completed"
    },
    "tags": []
   },
   "outputs": [
    {
     "data": {
      "text/html": [
       "<div>\n",
       "<style scoped>\n",
       "    .dataframe tbody tr th:only-of-type {\n",
       "        vertical-align: middle;\n",
       "    }\n",
       "\n",
       "    .dataframe tbody tr th {\n",
       "        vertical-align: top;\n",
       "    }\n",
       "\n",
       "    .dataframe thead th {\n",
       "        text-align: right;\n",
       "    }\n",
       "</style>\n",
       "<table border=\"1\" class=\"dataframe\">\n",
       "  <thead>\n",
       "    <tr style=\"text-align: right;\">\n",
       "      <th></th>\n",
       "      <th>name</th>\n",
       "      <th>age</th>\n",
       "      <th>gender</th>\n",
       "      <th>job</th>\n",
       "      <th>height</th>\n",
       "    </tr>\n",
       "  </thead>\n",
       "  <tbody>\n",
       "    <tr>\n",
       "      <th>0</th>\n",
       "      <td>alice</td>\n",
       "      <td>19</td>\n",
       "      <td>F</td>\n",
       "      <td>student</td>\n",
       "      <td>165.0</td>\n",
       "    </tr>\n",
       "    <tr>\n",
       "      <th>1</th>\n",
       "      <td>john</td>\n",
       "      <td>26</td>\n",
       "      <td>M</td>\n",
       "      <td>student</td>\n",
       "      <td>168.0</td>\n",
       "    </tr>\n",
       "    <tr>\n",
       "      <th>2</th>\n",
       "      <td>eric</td>\n",
       "      <td>22</td>\n",
       "      <td>M</td>\n",
       "      <td>student</td>\n",
       "      <td>170.0</td>\n",
       "    </tr>\n",
       "    <tr>\n",
       "      <th>3</th>\n",
       "      <td>paul</td>\n",
       "      <td>58</td>\n",
       "      <td>F</td>\n",
       "      <td>manager</td>\n",
       "      <td>NaN</td>\n",
       "    </tr>\n",
       "    <tr>\n",
       "      <th>4</th>\n",
       "      <td>peter</td>\n",
       "      <td>33</td>\n",
       "      <td>M</td>\n",
       "      <td>engineer</td>\n",
       "      <td>NaN</td>\n",
       "    </tr>\n",
       "    <tr>\n",
       "      <th>5</th>\n",
       "      <td>julie</td>\n",
       "      <td>44</td>\n",
       "      <td>F</td>\n",
       "      <td>scientist</td>\n",
       "      <td>180.0</td>\n",
       "    </tr>\n",
       "  </tbody>\n",
       "</table>\n",
       "</div>"
      ],
      "text/plain": [
       "    name  age gender        job  height\n",
       "0  alice   19      F    student   165.0\n",
       "1   john   26      M    student   168.0\n",
       "2   eric   22      M    student   170.0\n",
       "3   paul   58      F    manager     NaN\n",
       "4  peter   33      M   engineer     NaN\n",
       "5  julie   44      F  scientist   180.0"
      ]
     },
     "execution_count": 87,
     "metadata": {},
     "output_type": "execute_result"
    }
   ],
   "source": [
    "df = merge_left_outer.copy()\n",
    "df"
   ]
  },
  {
   "cell_type": "code",
   "execution_count": 88,
   "id": "9f9e9c43",
   "metadata": {
    "execution": {
     "iopub.execute_input": "2025-01-09T02:34:02.623232Z",
     "iopub.status.busy": "2025-01-09T02:34:02.622888Z",
     "iopub.status.idle": "2025-01-09T02:34:02.649597Z",
     "shell.execute_reply": "2025-01-09T02:34:02.648592Z"
    },
    "papermill": {
     "duration": 0.066849,
     "end_time": "2025-01-09T02:34:02.651416",
     "exception": false,
     "start_time": "2025-01-09T02:34:02.584567",
     "status": "completed"
    },
    "tags": []
   },
   "outputs": [
    {
     "data": {
      "text/html": [
       "<div>\n",
       "<style scoped>\n",
       "    .dataframe tbody tr th:only-of-type {\n",
       "        vertical-align: middle;\n",
       "    }\n",
       "\n",
       "    .dataframe tbody tr th {\n",
       "        vertical-align: top;\n",
       "    }\n",
       "\n",
       "    .dataframe thead th {\n",
       "        text-align: right;\n",
       "    }\n",
       "</style>\n",
       "<table border=\"1\" class=\"dataframe\">\n",
       "  <thead>\n",
       "    <tr style=\"text-align: right;\">\n",
       "      <th></th>\n",
       "      <th>count</th>\n",
       "      <th>unique</th>\n",
       "      <th>top</th>\n",
       "      <th>freq</th>\n",
       "      <th>mean</th>\n",
       "      <th>std</th>\n",
       "      <th>min</th>\n",
       "      <th>25%</th>\n",
       "      <th>50%</th>\n",
       "      <th>75%</th>\n",
       "      <th>max</th>\n",
       "    </tr>\n",
       "  </thead>\n",
       "  <tbody>\n",
       "    <tr>\n",
       "      <th>name</th>\n",
       "      <td>6</td>\n",
       "      <td>6</td>\n",
       "      <td>alice</td>\n",
       "      <td>1</td>\n",
       "      <td>NaN</td>\n",
       "      <td>NaN</td>\n",
       "      <td>NaN</td>\n",
       "      <td>NaN</td>\n",
       "      <td>NaN</td>\n",
       "      <td>NaN</td>\n",
       "      <td>NaN</td>\n",
       "    </tr>\n",
       "    <tr>\n",
       "      <th>age</th>\n",
       "      <td>6.0</td>\n",
       "      <td>NaN</td>\n",
       "      <td>NaN</td>\n",
       "      <td>NaN</td>\n",
       "      <td>33.666667</td>\n",
       "      <td>14.895189</td>\n",
       "      <td>19.0</td>\n",
       "      <td>23.0</td>\n",
       "      <td>29.5</td>\n",
       "      <td>41.25</td>\n",
       "      <td>58.0</td>\n",
       "    </tr>\n",
       "    <tr>\n",
       "      <th>gender</th>\n",
       "      <td>6</td>\n",
       "      <td>2</td>\n",
       "      <td>F</td>\n",
       "      <td>3</td>\n",
       "      <td>NaN</td>\n",
       "      <td>NaN</td>\n",
       "      <td>NaN</td>\n",
       "      <td>NaN</td>\n",
       "      <td>NaN</td>\n",
       "      <td>NaN</td>\n",
       "      <td>NaN</td>\n",
       "    </tr>\n",
       "    <tr>\n",
       "      <th>job</th>\n",
       "      <td>6</td>\n",
       "      <td>4</td>\n",
       "      <td>student</td>\n",
       "      <td>3</td>\n",
       "      <td>NaN</td>\n",
       "      <td>NaN</td>\n",
       "      <td>NaN</td>\n",
       "      <td>NaN</td>\n",
       "      <td>NaN</td>\n",
       "      <td>NaN</td>\n",
       "      <td>NaN</td>\n",
       "    </tr>\n",
       "    <tr>\n",
       "      <th>height</th>\n",
       "      <td>4.0</td>\n",
       "      <td>NaN</td>\n",
       "      <td>NaN</td>\n",
       "      <td>NaN</td>\n",
       "      <td>170.75</td>\n",
       "      <td>6.5</td>\n",
       "      <td>165.0</td>\n",
       "      <td>167.25</td>\n",
       "      <td>169.0</td>\n",
       "      <td>172.5</td>\n",
       "      <td>180.0</td>\n",
       "    </tr>\n",
       "  </tbody>\n",
       "</table>\n",
       "</div>"
      ],
      "text/plain": [
       "       count unique      top freq       mean        std    min     25%    50%  \\\n",
       "name       6      6    alice    1        NaN        NaN    NaN     NaN    NaN   \n",
       "age      6.0    NaN      NaN  NaN  33.666667  14.895189   19.0    23.0   29.5   \n",
       "gender     6      2        F    3        NaN        NaN    NaN     NaN    NaN   \n",
       "job        6      4  student    3        NaN        NaN    NaN     NaN    NaN   \n",
       "height   4.0    NaN      NaN  NaN     170.75        6.5  165.0  167.25  169.0   \n",
       "\n",
       "          75%    max  \n",
       "name      NaN    NaN  \n",
       "age     41.25   58.0  \n",
       "gender    NaN    NaN  \n",
       "job       NaN    NaN  \n",
       "height  172.5  180.0  "
      ]
     },
     "execution_count": 88,
     "metadata": {},
     "output_type": "execute_result"
    }
   ],
   "source": [
    "df.describe(include='all').T"
   ]
  },
  {
   "cell_type": "code",
   "execution_count": 89,
   "id": "6409d395",
   "metadata": {
    "execution": {
     "iopub.execute_input": "2025-01-09T02:34:02.732375Z",
     "iopub.status.busy": "2025-01-09T02:34:02.731886Z",
     "iopub.status.idle": "2025-01-09T02:34:02.743592Z",
     "shell.execute_reply": "2025-01-09T02:34:02.742296Z"
    },
    "papermill": {
     "duration": 0.05204,
     "end_time": "2025-01-09T02:34:02.745560",
     "exception": false,
     "start_time": "2025-01-09T02:34:02.693520",
     "status": "completed"
    },
    "tags": []
   },
   "outputs": [
    {
     "name": "stdout",
     "output_type": "stream",
     "text": [
      "<class 'pandas.core.frame.DataFrame'>\n",
      "RangeIndex: 6 entries, 0 to 5\n",
      "Data columns (total 5 columns):\n",
      " #   Column  Non-Null Count  Dtype  \n",
      "---  ------  --------------  -----  \n",
      " 0   name    6 non-null      object \n",
      " 1   age     6 non-null      int64  \n",
      " 2   gender  6 non-null      object \n",
      " 3   job     6 non-null      object \n",
      " 4   height  4 non-null      float64\n",
      "dtypes: float64(1), int64(1), object(3)\n",
      "memory usage: 368.0+ bytes\n"
     ]
    }
   ],
   "source": [
    "df.info()"
   ]
  },
  {
   "cell_type": "code",
   "execution_count": 90,
   "id": "0165a68c",
   "metadata": {
    "execution": {
     "iopub.execute_input": "2025-01-09T02:34:02.833963Z",
     "iopub.status.busy": "2025-01-09T02:34:02.833477Z",
     "iopub.status.idle": "2025-01-09T02:34:02.843666Z",
     "shell.execute_reply": "2025-01-09T02:34:02.842694Z"
    },
    "papermill": {
     "duration": 0.048925,
     "end_time": "2025-01-09T02:34:02.845273",
     "exception": false,
     "start_time": "2025-01-09T02:34:02.796348",
     "status": "completed"
    },
    "tags": []
   },
   "outputs": [
    {
     "data": {
      "text/html": [
       "<div>\n",
       "<style scoped>\n",
       "    .dataframe tbody tr th:only-of-type {\n",
       "        vertical-align: middle;\n",
       "    }\n",
       "\n",
       "    .dataframe tbody tr th {\n",
       "        vertical-align: top;\n",
       "    }\n",
       "\n",
       "    .dataframe thead th {\n",
       "        text-align: right;\n",
       "    }\n",
       "</style>\n",
       "<table border=\"1\" class=\"dataframe\">\n",
       "  <thead>\n",
       "    <tr style=\"text-align: right;\">\n",
       "      <th></th>\n",
       "      <th>name</th>\n",
       "      <th>age</th>\n",
       "      <th>gender</th>\n",
       "      <th>job</th>\n",
       "      <th>height</th>\n",
       "    </tr>\n",
       "  </thead>\n",
       "  <tbody>\n",
       "    <tr>\n",
       "      <th>0</th>\n",
       "      <td>False</td>\n",
       "      <td>False</td>\n",
       "      <td>False</td>\n",
       "      <td>False</td>\n",
       "      <td>False</td>\n",
       "    </tr>\n",
       "    <tr>\n",
       "      <th>1</th>\n",
       "      <td>False</td>\n",
       "      <td>False</td>\n",
       "      <td>False</td>\n",
       "      <td>False</td>\n",
       "      <td>False</td>\n",
       "    </tr>\n",
       "    <tr>\n",
       "      <th>2</th>\n",
       "      <td>False</td>\n",
       "      <td>False</td>\n",
       "      <td>False</td>\n",
       "      <td>False</td>\n",
       "      <td>False</td>\n",
       "    </tr>\n",
       "    <tr>\n",
       "      <th>3</th>\n",
       "      <td>False</td>\n",
       "      <td>False</td>\n",
       "      <td>False</td>\n",
       "      <td>False</td>\n",
       "      <td>True</td>\n",
       "    </tr>\n",
       "    <tr>\n",
       "      <th>4</th>\n",
       "      <td>False</td>\n",
       "      <td>False</td>\n",
       "      <td>False</td>\n",
       "      <td>False</td>\n",
       "      <td>True</td>\n",
       "    </tr>\n",
       "    <tr>\n",
       "      <th>5</th>\n",
       "      <td>False</td>\n",
       "      <td>False</td>\n",
       "      <td>False</td>\n",
       "      <td>False</td>\n",
       "      <td>False</td>\n",
       "    </tr>\n",
       "  </tbody>\n",
       "</table>\n",
       "</div>"
      ],
      "text/plain": [
       "    name    age  gender    job  height\n",
       "0  False  False   False  False   False\n",
       "1  False  False   False  False   False\n",
       "2  False  False   False  False   False\n",
       "3  False  False   False  False    True\n",
       "4  False  False   False  False    True\n",
       "5  False  False   False  False   False"
      ]
     },
     "execution_count": 90,
     "metadata": {},
     "output_type": "execute_result"
    }
   ],
   "source": [
    "df.isnull()"
   ]
  },
  {
   "cell_type": "code",
   "execution_count": 91,
   "id": "165e4ad6",
   "metadata": {
    "execution": {
     "iopub.execute_input": "2025-01-09T02:34:02.922268Z",
     "iopub.status.busy": "2025-01-09T02:34:02.921916Z",
     "iopub.status.idle": "2025-01-09T02:34:02.928845Z",
     "shell.execute_reply": "2025-01-09T02:34:02.927265Z"
    },
    "papermill": {
     "duration": 0.051402,
     "end_time": "2025-01-09T02:34:02.931073",
     "exception": false,
     "start_time": "2025-01-09T02:34:02.879671",
     "status": "completed"
    },
    "tags": []
   },
   "outputs": [
    {
     "name": "stdout",
     "output_type": "stream",
     "text": [
      "0    False\n",
      "1    False\n",
      "2    False\n",
      "3     True\n",
      "4     True\n",
      "5    False\n",
      "Name: height, dtype: bool\n",
      "So total number of NaN values in height column is 2\n"
     ]
    }
   ],
   "source": [
    "print (df.height.isnull())\n",
    "print (f\"So total number of NaN values in height column is {df.height.isnull().sum()}\")"
   ]
  },
  {
   "cell_type": "code",
   "execution_count": 92,
   "id": "423d40b2",
   "metadata": {
    "execution": {
     "iopub.execute_input": "2025-01-09T02:34:03.009228Z",
     "iopub.status.busy": "2025-01-09T02:34:03.008888Z",
     "iopub.status.idle": "2025-01-09T02:34:03.017072Z",
     "shell.execute_reply": "2025-01-09T02:34:03.015762Z"
    },
    "papermill": {
     "duration": 0.045094,
     "end_time": "2025-01-09T02:34:03.018633",
     "exception": false,
     "start_time": "2025-01-09T02:34:02.973539",
     "status": "completed"
    },
    "tags": []
   },
   "outputs": [
    {
     "name": "stdout",
     "output_type": "stream",
     "text": [
      "   name   age  gender   job  height\n",
      "0  True  True    True  True    True\n",
      "1  True  True    True  True    True\n",
      "2  True  True    True  True    True\n",
      "3  True  True    True  True   False\n",
      "4  True  True    True  True   False\n",
      "5  True  True    True  True    True\n",
      "0     True\n",
      "1     True\n",
      "2     True\n",
      "3    False\n",
      "4    False\n",
      "5     True\n",
      "Name: height, dtype: bool\n"
     ]
    }
   ],
   "source": [
    "print (df.notnull())\n",
    "print (df.height.notnull())"
   ]
  },
  {
   "cell_type": "code",
   "execution_count": 93,
   "id": "81fc7b23",
   "metadata": {
    "execution": {
     "iopub.execute_input": "2025-01-09T02:34:03.089139Z",
     "iopub.status.busy": "2025-01-09T02:34:03.088717Z",
     "iopub.status.idle": "2025-01-09T02:34:03.095326Z",
     "shell.execute_reply": "2025-01-09T02:34:03.094119Z"
    },
    "papermill": {
     "duration": 0.043647,
     "end_time": "2025-01-09T02:34:03.096983",
     "exception": false,
     "start_time": "2025-01-09T02:34:03.053336",
     "status": "completed"
    },
    "tags": []
   },
   "outputs": [
    {
     "name": "stdout",
     "output_type": "stream",
     "text": [
      "0    False\n",
      "1    False\n",
      "2    False\n",
      "3     True\n",
      "4     True\n",
      "5    False\n",
      "Name: height, dtype: bool\n",
      "So total number of NaN values in height column is 2\n"
     ]
    }
   ],
   "source": [
    "print (~df.height.notnull())\n",
    "print (f\"So total number of NaN values in height column is {(~df.height.notnull()).sum()}\")"
   ]
  },
  {
   "cell_type": "code",
   "execution_count": 94,
   "id": "d8b1e38a",
   "metadata": {
    "execution": {
     "iopub.execute_input": "2025-01-09T02:34:03.167828Z",
     "iopub.status.busy": "2025-01-09T02:34:03.167423Z",
     "iopub.status.idle": "2025-01-09T02:34:03.174619Z",
     "shell.execute_reply": "2025-01-09T02:34:03.173465Z"
    },
    "papermill": {
     "duration": 0.044267,
     "end_time": "2025-01-09T02:34:03.176228",
     "exception": false,
     "start_time": "2025-01-09T02:34:03.131961",
     "status": "completed"
    },
    "tags": []
   },
   "outputs": [
    {
     "name": "stdout",
     "output_type": "stream",
     "text": [
      "name      6\n",
      "age       6\n",
      "gender    6\n",
      "job       6\n",
      "height    4\n",
      "dtype: int64\n",
      "\n",
      "name      0\n",
      "age       0\n",
      "gender    0\n",
      "job       0\n",
      "height    2\n",
      "dtype: int64\n"
     ]
    }
   ],
   "source": [
    "print (df.notnull().sum())\n",
    "print ()\n",
    "print (df.isnull().sum())"
   ]
  },
  {
   "cell_type": "code",
   "execution_count": 95,
   "id": "43c9f520",
   "metadata": {
    "execution": {
     "iopub.execute_input": "2025-01-09T02:34:03.247273Z",
     "iopub.status.busy": "2025-01-09T02:34:03.246944Z",
     "iopub.status.idle": "2025-01-09T02:34:03.256989Z",
     "shell.execute_reply": "2025-01-09T02:34:03.256068Z"
    },
    "papermill": {
     "duration": 0.047112,
     "end_time": "2025-01-09T02:34:03.258449",
     "exception": false,
     "start_time": "2025-01-09T02:34:03.211337",
     "status": "completed"
    },
    "tags": []
   },
   "outputs": [
    {
     "data": {
      "text/html": [
       "<div>\n",
       "<style scoped>\n",
       "    .dataframe tbody tr th:only-of-type {\n",
       "        vertical-align: middle;\n",
       "    }\n",
       "\n",
       "    .dataframe tbody tr th {\n",
       "        vertical-align: top;\n",
       "    }\n",
       "\n",
       "    .dataframe thead th {\n",
       "        text-align: right;\n",
       "    }\n",
       "</style>\n",
       "<table border=\"1\" class=\"dataframe\">\n",
       "  <thead>\n",
       "    <tr style=\"text-align: right;\">\n",
       "      <th></th>\n",
       "      <th>name</th>\n",
       "      <th>age</th>\n",
       "      <th>gender</th>\n",
       "      <th>job</th>\n",
       "      <th>height</th>\n",
       "    </tr>\n",
       "  </thead>\n",
       "  <tbody>\n",
       "    <tr>\n",
       "      <th>3</th>\n",
       "      <td>paul</td>\n",
       "      <td>58</td>\n",
       "      <td>F</td>\n",
       "      <td>manager</td>\n",
       "      <td>NaN</td>\n",
       "    </tr>\n",
       "    <tr>\n",
       "      <th>4</th>\n",
       "      <td>peter</td>\n",
       "      <td>33</td>\n",
       "      <td>M</td>\n",
       "      <td>engineer</td>\n",
       "      <td>NaN</td>\n",
       "    </tr>\n",
       "  </tbody>\n",
       "</table>\n",
       "</div>"
      ],
      "text/plain": [
       "    name  age gender       job  height\n",
       "3   paul   58      F   manager     NaN\n",
       "4  peter   33      M  engineer     NaN"
      ]
     },
     "execution_count": 95,
     "metadata": {},
     "output_type": "execute_result"
    }
   ],
   "source": [
    "df[df['height'].isnull()]"
   ]
  },
  {
   "cell_type": "code",
   "execution_count": 96,
   "id": "bf39b173",
   "metadata": {
    "execution": {
     "iopub.execute_input": "2025-01-09T02:34:03.329112Z",
     "iopub.status.busy": "2025-01-09T02:34:03.328729Z",
     "iopub.status.idle": "2025-01-09T02:34:03.339038Z",
     "shell.execute_reply": "2025-01-09T02:34:03.338203Z"
    },
    "papermill": {
     "duration": 0.047226,
     "end_time": "2025-01-09T02:34:03.340450",
     "exception": false,
     "start_time": "2025-01-09T02:34:03.293224",
     "status": "completed"
    },
    "tags": []
   },
   "outputs": [
    {
     "data": {
      "text/html": [
       "<div>\n",
       "<style scoped>\n",
       "    .dataframe tbody tr th:only-of-type {\n",
       "        vertical-align: middle;\n",
       "    }\n",
       "\n",
       "    .dataframe tbody tr th {\n",
       "        vertical-align: top;\n",
       "    }\n",
       "\n",
       "    .dataframe thead th {\n",
       "        text-align: right;\n",
       "    }\n",
       "</style>\n",
       "<table border=\"1\" class=\"dataframe\">\n",
       "  <thead>\n",
       "    <tr style=\"text-align: right;\">\n",
       "      <th></th>\n",
       "      <th>name</th>\n",
       "      <th>age</th>\n",
       "      <th>gender</th>\n",
       "      <th>job</th>\n",
       "      <th>height</th>\n",
       "    </tr>\n",
       "  </thead>\n",
       "  <tbody>\n",
       "    <tr>\n",
       "      <th>0</th>\n",
       "      <td>alice</td>\n",
       "      <td>19</td>\n",
       "      <td>F</td>\n",
       "      <td>student</td>\n",
       "      <td>165.0</td>\n",
       "    </tr>\n",
       "    <tr>\n",
       "      <th>1</th>\n",
       "      <td>john</td>\n",
       "      <td>26</td>\n",
       "      <td>M</td>\n",
       "      <td>student</td>\n",
       "      <td>168.0</td>\n",
       "    </tr>\n",
       "    <tr>\n",
       "      <th>2</th>\n",
       "      <td>eric</td>\n",
       "      <td>22</td>\n",
       "      <td>M</td>\n",
       "      <td>student</td>\n",
       "      <td>170.0</td>\n",
       "    </tr>\n",
       "    <tr>\n",
       "      <th>5</th>\n",
       "      <td>julie</td>\n",
       "      <td>44</td>\n",
       "      <td>F</td>\n",
       "      <td>scientist</td>\n",
       "      <td>180.0</td>\n",
       "    </tr>\n",
       "  </tbody>\n",
       "</table>\n",
       "</div>"
      ],
      "text/plain": [
       "    name  age gender        job  height\n",
       "0  alice   19      F    student   165.0\n",
       "1   john   26      M    student   168.0\n",
       "2   eric   22      M    student   170.0\n",
       "5  julie   44      F  scientist   180.0"
      ]
     },
     "execution_count": 96,
     "metadata": {},
     "output_type": "execute_result"
    }
   ],
   "source": [
    "df[df['height'].notnull()]"
   ]
  },
  {
   "cell_type": "code",
   "execution_count": 97,
   "id": "56ea6e67",
   "metadata": {
    "execution": {
     "iopub.execute_input": "2025-01-09T02:34:03.420666Z",
     "iopub.status.busy": "2025-01-09T02:34:03.420219Z",
     "iopub.status.idle": "2025-01-09T02:34:03.433425Z",
     "shell.execute_reply": "2025-01-09T02:34:03.432407Z"
    },
    "papermill": {
     "duration": 0.058777,
     "end_time": "2025-01-09T02:34:03.435332",
     "exception": false,
     "start_time": "2025-01-09T02:34:03.376555",
     "status": "completed"
    },
    "tags": []
   },
   "outputs": [
    {
     "data": {
      "text/html": [
       "<div>\n",
       "<style scoped>\n",
       "    .dataframe tbody tr th:only-of-type {\n",
       "        vertical-align: middle;\n",
       "    }\n",
       "\n",
       "    .dataframe tbody tr th {\n",
       "        vertical-align: top;\n",
       "    }\n",
       "\n",
       "    .dataframe thead th {\n",
       "        text-align: right;\n",
       "    }\n",
       "</style>\n",
       "<table border=\"1\" class=\"dataframe\">\n",
       "  <thead>\n",
       "    <tr style=\"text-align: right;\">\n",
       "      <th></th>\n",
       "      <th>name</th>\n",
       "      <th>age</th>\n",
       "      <th>gender</th>\n",
       "      <th>job</th>\n",
       "      <th>height</th>\n",
       "    </tr>\n",
       "  </thead>\n",
       "  <tbody>\n",
       "    <tr>\n",
       "      <th>0</th>\n",
       "      <td>alice</td>\n",
       "      <td>19</td>\n",
       "      <td>F</td>\n",
       "      <td>student</td>\n",
       "      <td>165.0</td>\n",
       "    </tr>\n",
       "    <tr>\n",
       "      <th>1</th>\n",
       "      <td>john</td>\n",
       "      <td>26</td>\n",
       "      <td>M</td>\n",
       "      <td>student</td>\n",
       "      <td>168.0</td>\n",
       "    </tr>\n",
       "    <tr>\n",
       "      <th>2</th>\n",
       "      <td>eric</td>\n",
       "      <td>22</td>\n",
       "      <td>M</td>\n",
       "      <td>student</td>\n",
       "      <td>170.0</td>\n",
       "    </tr>\n",
       "    <tr>\n",
       "      <th>5</th>\n",
       "      <td>julie</td>\n",
       "      <td>44</td>\n",
       "      <td>F</td>\n",
       "      <td>scientist</td>\n",
       "      <td>180.0</td>\n",
       "    </tr>\n",
       "  </tbody>\n",
       "</table>\n",
       "</div>"
      ],
      "text/plain": [
       "    name  age gender        job  height\n",
       "0  alice   19      F    student   165.0\n",
       "1   john   26      M    student   168.0\n",
       "2   eric   22      M    student   170.0\n",
       "5  julie   44      F  scientist   180.0"
      ]
     },
     "execution_count": 97,
     "metadata": {},
     "output_type": "execute_result"
    }
   ],
   "source": [
    "df[~df['height'].isnull()]"
   ]
  },
  {
   "cell_type": "code",
   "execution_count": 98,
   "id": "28f4db25",
   "metadata": {
    "execution": {
     "iopub.execute_input": "2025-01-09T02:34:03.507254Z",
     "iopub.status.busy": "2025-01-09T02:34:03.506907Z",
     "iopub.status.idle": "2025-01-09T02:34:03.517442Z",
     "shell.execute_reply": "2025-01-09T02:34:03.516493Z"
    },
    "papermill": {
     "duration": 0.047867,
     "end_time": "2025-01-09T02:34:03.518976",
     "exception": false,
     "start_time": "2025-01-09T02:34:03.471109",
     "status": "completed"
    },
    "tags": []
   },
   "outputs": [
    {
     "data": {
      "text/html": [
       "<div>\n",
       "<style scoped>\n",
       "    .dataframe tbody tr th:only-of-type {\n",
       "        vertical-align: middle;\n",
       "    }\n",
       "\n",
       "    .dataframe tbody tr th {\n",
       "        vertical-align: top;\n",
       "    }\n",
       "\n",
       "    .dataframe thead th {\n",
       "        text-align: right;\n",
       "    }\n",
       "</style>\n",
       "<table border=\"1\" class=\"dataframe\">\n",
       "  <thead>\n",
       "    <tr style=\"text-align: right;\">\n",
       "      <th></th>\n",
       "      <th>name</th>\n",
       "      <th>age</th>\n",
       "      <th>gender</th>\n",
       "      <th>job</th>\n",
       "      <th>height</th>\n",
       "    </tr>\n",
       "  </thead>\n",
       "  <tbody>\n",
       "    <tr>\n",
       "      <th>0</th>\n",
       "      <td>alice</td>\n",
       "      <td>19</td>\n",
       "      <td>F</td>\n",
       "      <td>student</td>\n",
       "      <td>165.0</td>\n",
       "    </tr>\n",
       "    <tr>\n",
       "      <th>1</th>\n",
       "      <td>john</td>\n",
       "      <td>26</td>\n",
       "      <td>M</td>\n",
       "      <td>student</td>\n",
       "      <td>168.0</td>\n",
       "    </tr>\n",
       "    <tr>\n",
       "      <th>2</th>\n",
       "      <td>eric</td>\n",
       "      <td>22</td>\n",
       "      <td>M</td>\n",
       "      <td>student</td>\n",
       "      <td>170.0</td>\n",
       "    </tr>\n",
       "    <tr>\n",
       "      <th>5</th>\n",
       "      <td>julie</td>\n",
       "      <td>44</td>\n",
       "      <td>F</td>\n",
       "      <td>scientist</td>\n",
       "      <td>180.0</td>\n",
       "    </tr>\n",
       "  </tbody>\n",
       "</table>\n",
       "</div>"
      ],
      "text/plain": [
       "    name  age gender        job  height\n",
       "0  alice   19      F    student   165.0\n",
       "1   john   26      M    student   168.0\n",
       "2   eric   22      M    student   170.0\n",
       "5  julie   44      F  scientist   180.0"
      ]
     },
     "execution_count": 98,
     "metadata": {},
     "output_type": "execute_result"
    }
   ],
   "source": [
    "# strategy - 1: deleting rows containing null values\n",
    "df = merge_left_outer.copy()\n",
    "df.dropna(inplace = True)\n",
    "df"
   ]
  },
  {
   "cell_type": "code",
   "execution_count": 99,
   "id": "a509ba7c",
   "metadata": {
    "execution": {
     "iopub.execute_input": "2025-01-09T02:34:03.590953Z",
     "iopub.status.busy": "2025-01-09T02:34:03.590550Z",
     "iopub.status.idle": "2025-01-09T02:34:03.601244Z",
     "shell.execute_reply": "2025-01-09T02:34:03.600308Z"
    },
    "papermill": {
     "duration": 0.048076,
     "end_time": "2025-01-09T02:34:03.602628",
     "exception": false,
     "start_time": "2025-01-09T02:34:03.554552",
     "status": "completed"
    },
    "tags": []
   },
   "outputs": [
    {
     "data": {
      "text/html": [
       "<div>\n",
       "<style scoped>\n",
       "    .dataframe tbody tr th:only-of-type {\n",
       "        vertical-align: middle;\n",
       "    }\n",
       "\n",
       "    .dataframe tbody tr th {\n",
       "        vertical-align: top;\n",
       "    }\n",
       "\n",
       "    .dataframe thead th {\n",
       "        text-align: right;\n",
       "    }\n",
       "</style>\n",
       "<table border=\"1\" class=\"dataframe\">\n",
       "  <thead>\n",
       "    <tr style=\"text-align: right;\">\n",
       "      <th></th>\n",
       "      <th>name</th>\n",
       "      <th>age</th>\n",
       "      <th>gender</th>\n",
       "      <th>job</th>\n",
       "      <th>height</th>\n",
       "    </tr>\n",
       "  </thead>\n",
       "  <tbody>\n",
       "    <tr>\n",
       "      <th>0</th>\n",
       "      <td>alice</td>\n",
       "      <td>19</td>\n",
       "      <td>F</td>\n",
       "      <td>student</td>\n",
       "      <td>165.0</td>\n",
       "    </tr>\n",
       "    <tr>\n",
       "      <th>1</th>\n",
       "      <td>john</td>\n",
       "      <td>26</td>\n",
       "      <td>M</td>\n",
       "      <td>student</td>\n",
       "      <td>168.0</td>\n",
       "    </tr>\n",
       "    <tr>\n",
       "      <th>2</th>\n",
       "      <td>eric</td>\n",
       "      <td>22</td>\n",
       "      <td>M</td>\n",
       "      <td>student</td>\n",
       "      <td>170.0</td>\n",
       "    </tr>\n",
       "    <tr>\n",
       "      <th>3</th>\n",
       "      <td>paul</td>\n",
       "      <td>58</td>\n",
       "      <td>F</td>\n",
       "      <td>manager</td>\n",
       "      <td>NaN</td>\n",
       "    </tr>\n",
       "    <tr>\n",
       "      <th>4</th>\n",
       "      <td>peter</td>\n",
       "      <td>33</td>\n",
       "      <td>M</td>\n",
       "      <td>engineer</td>\n",
       "      <td>NaN</td>\n",
       "    </tr>\n",
       "    <tr>\n",
       "      <th>5</th>\n",
       "      <td>julie</td>\n",
       "      <td>44</td>\n",
       "      <td>F</td>\n",
       "      <td>scientist</td>\n",
       "      <td>180.0</td>\n",
       "    </tr>\n",
       "  </tbody>\n",
       "</table>\n",
       "</div>"
      ],
      "text/plain": [
       "    name  age gender        job  height\n",
       "0  alice   19      F    student   165.0\n",
       "1   john   26      M    student   168.0\n",
       "2   eric   22      M    student   170.0\n",
       "3   paul   58      F    manager     NaN\n",
       "4  peter   33      M   engineer     NaN\n",
       "5  julie   44      F  scientist   180.0"
      ]
     },
     "execution_count": 99,
     "metadata": {},
     "output_type": "execute_result"
    }
   ],
   "source": [
    "df = merge_left_outer.copy()\n",
    "df.dropna(inplace = True, how = 'all')\n",
    "df"
   ]
  },
  {
   "cell_type": "code",
   "execution_count": 100,
   "id": "66ad1025",
   "metadata": {
    "execution": {
     "iopub.execute_input": "2025-01-09T02:34:03.676560Z",
     "iopub.status.busy": "2025-01-09T02:34:03.676233Z",
     "iopub.status.idle": "2025-01-09T02:34:03.686917Z",
     "shell.execute_reply": "2025-01-09T02:34:03.685908Z"
    },
    "papermill": {
     "duration": 0.049028,
     "end_time": "2025-01-09T02:34:03.688470",
     "exception": false,
     "start_time": "2025-01-09T02:34:03.639442",
     "status": "completed"
    },
    "tags": []
   },
   "outputs": [
    {
     "data": {
      "text/html": [
       "<div>\n",
       "<style scoped>\n",
       "    .dataframe tbody tr th:only-of-type {\n",
       "        vertical-align: middle;\n",
       "    }\n",
       "\n",
       "    .dataframe tbody tr th {\n",
       "        vertical-align: top;\n",
       "    }\n",
       "\n",
       "    .dataframe thead th {\n",
       "        text-align: right;\n",
       "    }\n",
       "</style>\n",
       "<table border=\"1\" class=\"dataframe\">\n",
       "  <thead>\n",
       "    <tr style=\"text-align: right;\">\n",
       "      <th></th>\n",
       "      <th>name</th>\n",
       "      <th>age</th>\n",
       "      <th>gender</th>\n",
       "      <th>job</th>\n",
       "      <th>height</th>\n",
       "    </tr>\n",
       "  </thead>\n",
       "  <tbody>\n",
       "    <tr>\n",
       "      <th>0</th>\n",
       "      <td>alice</td>\n",
       "      <td>19</td>\n",
       "      <td>F</td>\n",
       "      <td>student</td>\n",
       "      <td>165.0</td>\n",
       "    </tr>\n",
       "    <tr>\n",
       "      <th>1</th>\n",
       "      <td>john</td>\n",
       "      <td>26</td>\n",
       "      <td>M</td>\n",
       "      <td>student</td>\n",
       "      <td>168.0</td>\n",
       "    </tr>\n",
       "    <tr>\n",
       "      <th>2</th>\n",
       "      <td>eric</td>\n",
       "      <td>22</td>\n",
       "      <td>M</td>\n",
       "      <td>student</td>\n",
       "      <td>170.0</td>\n",
       "    </tr>\n",
       "    <tr>\n",
       "      <th>3</th>\n",
       "      <td>paul</td>\n",
       "      <td>58</td>\n",
       "      <td>F</td>\n",
       "      <td>manager</td>\n",
       "      <td>0.0</td>\n",
       "    </tr>\n",
       "    <tr>\n",
       "      <th>4</th>\n",
       "      <td>peter</td>\n",
       "      <td>33</td>\n",
       "      <td>M</td>\n",
       "      <td>engineer</td>\n",
       "      <td>0.0</td>\n",
       "    </tr>\n",
       "    <tr>\n",
       "      <th>5</th>\n",
       "      <td>julie</td>\n",
       "      <td>44</td>\n",
       "      <td>F</td>\n",
       "      <td>scientist</td>\n",
       "      <td>180.0</td>\n",
       "    </tr>\n",
       "  </tbody>\n",
       "</table>\n",
       "</div>"
      ],
      "text/plain": [
       "    name  age gender        job  height\n",
       "0  alice   19      F    student   165.0\n",
       "1   john   26      M    student   168.0\n",
       "2   eric   22      M    student   170.0\n",
       "3   paul   58      F    manager     0.0\n",
       "4  peter   33      M   engineer     0.0\n",
       "5  julie   44      F  scientist   180.0"
      ]
     },
     "execution_count": 100,
     "metadata": {},
     "output_type": "execute_result"
    }
   ],
   "source": [
    "# strategy - 2: filling up columns containing null values\n",
    "df = merge_left_outer.copy()\n",
    "df.fillna(0, inplace = True)\n",
    "df"
   ]
  },
  {
   "cell_type": "code",
   "execution_count": 101,
   "id": "e51f2281",
   "metadata": {
    "execution": {
     "iopub.execute_input": "2025-01-09T02:34:03.761551Z",
     "iopub.status.busy": "2025-01-09T02:34:03.761221Z",
     "iopub.status.idle": "2025-01-09T02:34:03.773171Z",
     "shell.execute_reply": "2025-01-09T02:34:03.772174Z"
    },
    "papermill": {
     "duration": 0.050193,
     "end_time": "2025-01-09T02:34:03.774540",
     "exception": false,
     "start_time": "2025-01-09T02:34:03.724347",
     "status": "completed"
    },
    "tags": []
   },
   "outputs": [
    {
     "name": "stdout",
     "output_type": "stream",
     "text": [
      "Average of the height values is 170.75\n"
     ]
    },
    {
     "data": {
      "text/html": [
       "<div>\n",
       "<style scoped>\n",
       "    .dataframe tbody tr th:only-of-type {\n",
       "        vertical-align: middle;\n",
       "    }\n",
       "\n",
       "    .dataframe tbody tr th {\n",
       "        vertical-align: top;\n",
       "    }\n",
       "\n",
       "    .dataframe thead th {\n",
       "        text-align: right;\n",
       "    }\n",
       "</style>\n",
       "<table border=\"1\" class=\"dataframe\">\n",
       "  <thead>\n",
       "    <tr style=\"text-align: right;\">\n",
       "      <th></th>\n",
       "      <th>name</th>\n",
       "      <th>age</th>\n",
       "      <th>gender</th>\n",
       "      <th>job</th>\n",
       "      <th>height</th>\n",
       "    </tr>\n",
       "  </thead>\n",
       "  <tbody>\n",
       "    <tr>\n",
       "      <th>0</th>\n",
       "      <td>alice</td>\n",
       "      <td>19</td>\n",
       "      <td>F</td>\n",
       "      <td>student</td>\n",
       "      <td>165.00</td>\n",
       "    </tr>\n",
       "    <tr>\n",
       "      <th>1</th>\n",
       "      <td>john</td>\n",
       "      <td>26</td>\n",
       "      <td>M</td>\n",
       "      <td>student</td>\n",
       "      <td>168.00</td>\n",
       "    </tr>\n",
       "    <tr>\n",
       "      <th>2</th>\n",
       "      <td>eric</td>\n",
       "      <td>22</td>\n",
       "      <td>M</td>\n",
       "      <td>student</td>\n",
       "      <td>170.00</td>\n",
       "    </tr>\n",
       "    <tr>\n",
       "      <th>3</th>\n",
       "      <td>paul</td>\n",
       "      <td>58</td>\n",
       "      <td>F</td>\n",
       "      <td>manager</td>\n",
       "      <td>170.75</td>\n",
       "    </tr>\n",
       "    <tr>\n",
       "      <th>4</th>\n",
       "      <td>peter</td>\n",
       "      <td>33</td>\n",
       "      <td>M</td>\n",
       "      <td>engineer</td>\n",
       "      <td>170.75</td>\n",
       "    </tr>\n",
       "    <tr>\n",
       "      <th>5</th>\n",
       "      <td>julie</td>\n",
       "      <td>44</td>\n",
       "      <td>F</td>\n",
       "      <td>scientist</td>\n",
       "      <td>180.00</td>\n",
       "    </tr>\n",
       "  </tbody>\n",
       "</table>\n",
       "</div>"
      ],
      "text/plain": [
       "    name  age gender        job  height\n",
       "0  alice   19      F    student  165.00\n",
       "1   john   26      M    student  168.00\n",
       "2   eric   22      M    student  170.00\n",
       "3   paul   58      F    manager  170.75\n",
       "4  peter   33      M   engineer  170.75\n",
       "5  julie   44      F  scientist  180.00"
      ]
     },
     "execution_count": 101,
     "metadata": {},
     "output_type": "execute_result"
    }
   ],
   "source": [
    "df = merge_left_outer.copy()\n",
    "height_average = df.height.mean()\n",
    "print (f\"Average of the height values is {height_average}\")\n",
    "df.fillna(height_average, inplace = True)\n",
    "df"
   ]
  },
  {
   "cell_type": "code",
   "execution_count": 102,
   "id": "cdbc064a",
   "metadata": {
    "execution": {
     "iopub.execute_input": "2025-01-09T02:34:03.847144Z",
     "iopub.status.busy": "2025-01-09T02:34:03.846753Z",
     "iopub.status.idle": "2025-01-09T02:34:03.857825Z",
     "shell.execute_reply": "2025-01-09T02:34:03.856846Z"
    },
    "papermill": {
     "duration": 0.048925,
     "end_time": "2025-01-09T02:34:03.859501",
     "exception": false,
     "start_time": "2025-01-09T02:34:03.810576",
     "status": "completed"
    },
    "tags": []
   },
   "outputs": [
    {
     "data": {
      "text/html": [
       "<div>\n",
       "<style scoped>\n",
       "    .dataframe tbody tr th:only-of-type {\n",
       "        vertical-align: middle;\n",
       "    }\n",
       "\n",
       "    .dataframe tbody tr th {\n",
       "        vertical-align: top;\n",
       "    }\n",
       "\n",
       "    .dataframe thead th {\n",
       "        text-align: right;\n",
       "    }\n",
       "</style>\n",
       "<table border=\"1\" class=\"dataframe\">\n",
       "  <thead>\n",
       "    <tr style=\"text-align: right;\">\n",
       "      <th></th>\n",
       "      <th>name</th>\n",
       "      <th>age</th>\n",
       "      <th>gender</th>\n",
       "      <th>job</th>\n",
       "      <th>height</th>\n",
       "    </tr>\n",
       "  </thead>\n",
       "  <tbody>\n",
       "    <tr>\n",
       "      <th>0</th>\n",
       "      <td>alice</td>\n",
       "      <td>19</td>\n",
       "      <td>F</td>\n",
       "      <td>student</td>\n",
       "      <td>165.0</td>\n",
       "    </tr>\n",
       "    <tr>\n",
       "      <th>1</th>\n",
       "      <td>eric</td>\n",
       "      <td>22</td>\n",
       "      <td>M</td>\n",
       "      <td>student</td>\n",
       "      <td>170.0</td>\n",
       "    </tr>\n",
       "    <tr>\n",
       "      <th>2</th>\n",
       "      <td>john</td>\n",
       "      <td>26</td>\n",
       "      <td>M</td>\n",
       "      <td>student</td>\n",
       "      <td>168.0</td>\n",
       "    </tr>\n",
       "    <tr>\n",
       "      <th>3</th>\n",
       "      <td>peter</td>\n",
       "      <td>33</td>\n",
       "      <td>M</td>\n",
       "      <td>engineer</td>\n",
       "      <td>NaN</td>\n",
       "    </tr>\n",
       "    <tr>\n",
       "      <th>4</th>\n",
       "      <td>julie</td>\n",
       "      <td>44</td>\n",
       "      <td>F</td>\n",
       "      <td>scientist</td>\n",
       "      <td>180.0</td>\n",
       "    </tr>\n",
       "    <tr>\n",
       "      <th>5</th>\n",
       "      <td>paul</td>\n",
       "      <td>58</td>\n",
       "      <td>F</td>\n",
       "      <td>manager</td>\n",
       "      <td>NaN</td>\n",
       "    </tr>\n",
       "  </tbody>\n",
       "</table>\n",
       "</div>"
      ],
      "text/plain": [
       "    name  age gender        job  height\n",
       "0  alice   19      F    student   165.0\n",
       "1   eric   22      M    student   170.0\n",
       "2   john   26      M    student   168.0\n",
       "3  peter   33      M   engineer     NaN\n",
       "4  julie   44      F  scientist   180.0\n",
       "5   paul   58      F    manager     NaN"
      ]
     },
     "execution_count": 102,
     "metadata": {},
     "output_type": "execute_result"
    }
   ],
   "source": [
    "# forward fill\n",
    "df = merge_left_outer.copy()\n",
    "df.sort_values(by = 'age', inplace = True)\n",
    "df.index = range(df.shape[0])\n",
    "df"
   ]
  },
  {
   "cell_type": "code",
   "execution_count": 103,
   "id": "156b88ee",
   "metadata": {
    "execution": {
     "iopub.execute_input": "2025-01-09T02:34:03.934623Z",
     "iopub.status.busy": "2025-01-09T02:34:03.934319Z",
     "iopub.status.idle": "2025-01-09T02:34:03.946506Z",
     "shell.execute_reply": "2025-01-09T02:34:03.945555Z"
    },
    "papermill": {
     "duration": 0.051232,
     "end_time": "2025-01-09T02:34:03.948149",
     "exception": false,
     "start_time": "2025-01-09T02:34:03.896917",
     "status": "completed"
    },
    "tags": []
   },
   "outputs": [
    {
     "data": {
      "text/html": [
       "<div>\n",
       "<style scoped>\n",
       "    .dataframe tbody tr th:only-of-type {\n",
       "        vertical-align: middle;\n",
       "    }\n",
       "\n",
       "    .dataframe tbody tr th {\n",
       "        vertical-align: top;\n",
       "    }\n",
       "\n",
       "    .dataframe thead th {\n",
       "        text-align: right;\n",
       "    }\n",
       "</style>\n",
       "<table border=\"1\" class=\"dataframe\">\n",
       "  <thead>\n",
       "    <tr style=\"text-align: right;\">\n",
       "      <th></th>\n",
       "      <th>name</th>\n",
       "      <th>age</th>\n",
       "      <th>gender</th>\n",
       "      <th>job</th>\n",
       "      <th>height</th>\n",
       "    </tr>\n",
       "  </thead>\n",
       "  <tbody>\n",
       "    <tr>\n",
       "      <th>0</th>\n",
       "      <td>alice</td>\n",
       "      <td>19</td>\n",
       "      <td>F</td>\n",
       "      <td>student</td>\n",
       "      <td>165.0</td>\n",
       "    </tr>\n",
       "    <tr>\n",
       "      <th>1</th>\n",
       "      <td>eric</td>\n",
       "      <td>22</td>\n",
       "      <td>M</td>\n",
       "      <td>student</td>\n",
       "      <td>170.0</td>\n",
       "    </tr>\n",
       "    <tr>\n",
       "      <th>2</th>\n",
       "      <td>john</td>\n",
       "      <td>26</td>\n",
       "      <td>M</td>\n",
       "      <td>student</td>\n",
       "      <td>168.0</td>\n",
       "    </tr>\n",
       "    <tr>\n",
       "      <th>3</th>\n",
       "      <td>peter</td>\n",
       "      <td>33</td>\n",
       "      <td>M</td>\n",
       "      <td>engineer</td>\n",
       "      <td>168.0</td>\n",
       "    </tr>\n",
       "    <tr>\n",
       "      <th>4</th>\n",
       "      <td>julie</td>\n",
       "      <td>44</td>\n",
       "      <td>F</td>\n",
       "      <td>scientist</td>\n",
       "      <td>180.0</td>\n",
       "    </tr>\n",
       "    <tr>\n",
       "      <th>5</th>\n",
       "      <td>paul</td>\n",
       "      <td>58</td>\n",
       "      <td>F</td>\n",
       "      <td>manager</td>\n",
       "      <td>180.0</td>\n",
       "    </tr>\n",
       "  </tbody>\n",
       "</table>\n",
       "</div>"
      ],
      "text/plain": [
       "    name  age gender        job  height\n",
       "0  alice   19      F    student   165.0\n",
       "1   eric   22      M    student   170.0\n",
       "2   john   26      M    student   168.0\n",
       "3  peter   33      M   engineer   168.0\n",
       "4  julie   44      F  scientist   180.0\n",
       "5   paul   58      F    manager   180.0"
      ]
     },
     "execution_count": 103,
     "metadata": {},
     "output_type": "execute_result"
    }
   ],
   "source": [
    "df.fillna(method='pad', inplace=True)\n",
    "df"
   ]
  },
  {
   "cell_type": "code",
   "execution_count": 104,
   "id": "9effdcf1",
   "metadata": {
    "execution": {
     "iopub.execute_input": "2025-01-09T02:34:04.022111Z",
     "iopub.status.busy": "2025-01-09T02:34:04.021714Z",
     "iopub.status.idle": "2025-01-09T02:34:04.032908Z",
     "shell.execute_reply": "2025-01-09T02:34:04.031942Z"
    },
    "papermill": {
     "duration": 0.049733,
     "end_time": "2025-01-09T02:34:04.034426",
     "exception": false,
     "start_time": "2025-01-09T02:34:03.984693",
     "status": "completed"
    },
    "tags": []
   },
   "outputs": [
    {
     "data": {
      "text/html": [
       "<div>\n",
       "<style scoped>\n",
       "    .dataframe tbody tr th:only-of-type {\n",
       "        vertical-align: middle;\n",
       "    }\n",
       "\n",
       "    .dataframe tbody tr th {\n",
       "        vertical-align: top;\n",
       "    }\n",
       "\n",
       "    .dataframe thead th {\n",
       "        text-align: right;\n",
       "    }\n",
       "</style>\n",
       "<table border=\"1\" class=\"dataframe\">\n",
       "  <thead>\n",
       "    <tr style=\"text-align: right;\">\n",
       "      <th></th>\n",
       "      <th>name</th>\n",
       "      <th>age</th>\n",
       "      <th>gender</th>\n",
       "      <th>job</th>\n",
       "      <th>height</th>\n",
       "    </tr>\n",
       "  </thead>\n",
       "  <tbody>\n",
       "    <tr>\n",
       "      <th>0</th>\n",
       "      <td>peter</td>\n",
       "      <td>33</td>\n",
       "      <td>M</td>\n",
       "      <td>engineer</td>\n",
       "      <td>NaN</td>\n",
       "    </tr>\n",
       "    <tr>\n",
       "      <th>1</th>\n",
       "      <td>paul</td>\n",
       "      <td>58</td>\n",
       "      <td>F</td>\n",
       "      <td>manager</td>\n",
       "      <td>NaN</td>\n",
       "    </tr>\n",
       "    <tr>\n",
       "      <th>2</th>\n",
       "      <td>julie</td>\n",
       "      <td>44</td>\n",
       "      <td>F</td>\n",
       "      <td>scientist</td>\n",
       "      <td>180.0</td>\n",
       "    </tr>\n",
       "    <tr>\n",
       "      <th>3</th>\n",
       "      <td>alice</td>\n",
       "      <td>19</td>\n",
       "      <td>F</td>\n",
       "      <td>student</td>\n",
       "      <td>165.0</td>\n",
       "    </tr>\n",
       "    <tr>\n",
       "      <th>4</th>\n",
       "      <td>john</td>\n",
       "      <td>26</td>\n",
       "      <td>M</td>\n",
       "      <td>student</td>\n",
       "      <td>168.0</td>\n",
       "    </tr>\n",
       "    <tr>\n",
       "      <th>5</th>\n",
       "      <td>eric</td>\n",
       "      <td>22</td>\n",
       "      <td>M</td>\n",
       "      <td>student</td>\n",
       "      <td>170.0</td>\n",
       "    </tr>\n",
       "  </tbody>\n",
       "</table>\n",
       "</div>"
      ],
      "text/plain": [
       "    name  age gender        job  height\n",
       "0  peter   33      M   engineer     NaN\n",
       "1   paul   58      F    manager     NaN\n",
       "2  julie   44      F  scientist   180.0\n",
       "3  alice   19      F    student   165.0\n",
       "4   john   26      M    student   168.0\n",
       "5   eric   22      M    student   170.0"
      ]
     },
     "execution_count": 104,
     "metadata": {},
     "output_type": "execute_result"
    }
   ],
   "source": [
    "# backward fill\n",
    "df = merge_left_outer.copy()\n",
    "df.sort_values(by = 'job', inplace = True)\n",
    "df.index = range(df.shape[0])\n",
    "df"
   ]
  },
  {
   "cell_type": "code",
   "execution_count": 105,
   "id": "1767faad",
   "metadata": {
    "execution": {
     "iopub.execute_input": "2025-01-09T02:34:04.109412Z",
     "iopub.status.busy": "2025-01-09T02:34:04.109101Z",
     "iopub.status.idle": "2025-01-09T02:34:04.123046Z",
     "shell.execute_reply": "2025-01-09T02:34:04.122012Z"
    },
    "papermill": {
     "duration": 0.05366,
     "end_time": "2025-01-09T02:34:04.124593",
     "exception": false,
     "start_time": "2025-01-09T02:34:04.070933",
     "status": "completed"
    },
    "tags": []
   },
   "outputs": [
    {
     "data": {
      "text/html": [
       "<div>\n",
       "<style scoped>\n",
       "    .dataframe tbody tr th:only-of-type {\n",
       "        vertical-align: middle;\n",
       "    }\n",
       "\n",
       "    .dataframe tbody tr th {\n",
       "        vertical-align: top;\n",
       "    }\n",
       "\n",
       "    .dataframe thead th {\n",
       "        text-align: right;\n",
       "    }\n",
       "</style>\n",
       "<table border=\"1\" class=\"dataframe\">\n",
       "  <thead>\n",
       "    <tr style=\"text-align: right;\">\n",
       "      <th></th>\n",
       "      <th>name</th>\n",
       "      <th>age</th>\n",
       "      <th>gender</th>\n",
       "      <th>job</th>\n",
       "      <th>height</th>\n",
       "    </tr>\n",
       "  </thead>\n",
       "  <tbody>\n",
       "    <tr>\n",
       "      <th>0</th>\n",
       "      <td>peter</td>\n",
       "      <td>33</td>\n",
       "      <td>M</td>\n",
       "      <td>engineer</td>\n",
       "      <td>180.0</td>\n",
       "    </tr>\n",
       "    <tr>\n",
       "      <th>1</th>\n",
       "      <td>paul</td>\n",
       "      <td>58</td>\n",
       "      <td>F</td>\n",
       "      <td>manager</td>\n",
       "      <td>180.0</td>\n",
       "    </tr>\n",
       "    <tr>\n",
       "      <th>2</th>\n",
       "      <td>julie</td>\n",
       "      <td>44</td>\n",
       "      <td>F</td>\n",
       "      <td>scientist</td>\n",
       "      <td>180.0</td>\n",
       "    </tr>\n",
       "    <tr>\n",
       "      <th>3</th>\n",
       "      <td>alice</td>\n",
       "      <td>19</td>\n",
       "      <td>F</td>\n",
       "      <td>student</td>\n",
       "      <td>165.0</td>\n",
       "    </tr>\n",
       "    <tr>\n",
       "      <th>4</th>\n",
       "      <td>john</td>\n",
       "      <td>26</td>\n",
       "      <td>M</td>\n",
       "      <td>student</td>\n",
       "      <td>168.0</td>\n",
       "    </tr>\n",
       "    <tr>\n",
       "      <th>5</th>\n",
       "      <td>eric</td>\n",
       "      <td>22</td>\n",
       "      <td>M</td>\n",
       "      <td>student</td>\n",
       "      <td>170.0</td>\n",
       "    </tr>\n",
       "  </tbody>\n",
       "</table>\n",
       "</div>"
      ],
      "text/plain": [
       "    name  age gender        job  height\n",
       "0  peter   33      M   engineer   180.0\n",
       "1   paul   58      F    manager   180.0\n",
       "2  julie   44      F  scientist   180.0\n",
       "3  alice   19      F    student   165.0\n",
       "4   john   26      M    student   168.0\n",
       "5   eric   22      M    student   170.0"
      ]
     },
     "execution_count": 105,
     "metadata": {},
     "output_type": "execute_result"
    }
   ],
   "source": [
    "df.fillna(method = 'bfill', inplace=True)\n",
    "df"
   ]
  },
  {
   "cell_type": "markdown",
   "id": "9e695f81",
   "metadata": {
    "papermill": {
     "duration": 0.036599,
     "end_time": "2025-01-09T02:34:04.198402",
     "exception": false,
     "start_time": "2025-01-09T02:34:04.161803",
     "status": "completed"
    },
    "tags": []
   },
   "source": [
    "## **Rename Column Names in a Data Frame**"
   ]
  },
  {
   "cell_type": "code",
   "execution_count": 106,
   "id": "e958b89d",
   "metadata": {
    "execution": {
     "iopub.execute_input": "2025-01-09T02:34:04.273805Z",
     "iopub.status.busy": "2025-01-09T02:34:04.273456Z",
     "iopub.status.idle": "2025-01-09T02:34:04.283148Z",
     "shell.execute_reply": "2025-01-09T02:34:04.282289Z"
    },
    "papermill": {
     "duration": 0.048786,
     "end_time": "2025-01-09T02:34:04.284536",
     "exception": false,
     "start_time": "2025-01-09T02:34:04.235750",
     "status": "completed"
    },
    "tags": []
   },
   "outputs": [
    {
     "data": {
      "text/html": [
       "<div>\n",
       "<style scoped>\n",
       "    .dataframe tbody tr th:only-of-type {\n",
       "        vertical-align: middle;\n",
       "    }\n",
       "\n",
       "    .dataframe tbody tr th {\n",
       "        vertical-align: top;\n",
       "    }\n",
       "\n",
       "    .dataframe thead th {\n",
       "        text-align: right;\n",
       "    }\n",
       "</style>\n",
       "<table border=\"1\" class=\"dataframe\">\n",
       "  <thead>\n",
       "    <tr style=\"text-align: right;\">\n",
       "      <th></th>\n",
       "      <th>new_name</th>\n",
       "      <th>new_age</th>\n",
       "      <th>new_gender</th>\n",
       "      <th>new_job</th>\n",
       "    </tr>\n",
       "  </thead>\n",
       "  <tbody>\n",
       "    <tr>\n",
       "      <th>0</th>\n",
       "      <td>alice</td>\n",
       "      <td>19</td>\n",
       "      <td>F</td>\n",
       "      <td>student</td>\n",
       "    </tr>\n",
       "    <tr>\n",
       "      <th>1</th>\n",
       "      <td>john</td>\n",
       "      <td>26</td>\n",
       "      <td>M</td>\n",
       "      <td>student</td>\n",
       "    </tr>\n",
       "    <tr>\n",
       "      <th>2</th>\n",
       "      <td>eric</td>\n",
       "      <td>22</td>\n",
       "      <td>M</td>\n",
       "      <td>student</td>\n",
       "    </tr>\n",
       "    <tr>\n",
       "      <th>3</th>\n",
       "      <td>paul</td>\n",
       "      <td>58</td>\n",
       "      <td>F</td>\n",
       "      <td>manager</td>\n",
       "    </tr>\n",
       "    <tr>\n",
       "      <th>4</th>\n",
       "      <td>peter</td>\n",
       "      <td>33</td>\n",
       "      <td>M</td>\n",
       "      <td>engineer</td>\n",
       "    </tr>\n",
       "    <tr>\n",
       "      <th>5</th>\n",
       "      <td>julie</td>\n",
       "      <td>44</td>\n",
       "      <td>F</td>\n",
       "      <td>scientist</td>\n",
       "    </tr>\n",
       "  </tbody>\n",
       "</table>\n",
       "</div>"
      ],
      "text/plain": [
       "  new_name  new_age new_gender    new_job\n",
       "0    alice       19          F    student\n",
       "1     john       26          M    student\n",
       "2     eric       22          M    student\n",
       "3     paul       58          F    manager\n",
       "4    peter       33          M   engineer\n",
       "5    julie       44          F  scientist"
      ]
     },
     "execution_count": 106,
     "metadata": {},
     "output_type": "execute_result"
    }
   ],
   "source": [
    "df = users.copy()\n",
    "new_column_names = ['new_name', 'new_age', 'new_gender', 'new_job']\n",
    "df.columns = new_column_names\n",
    "df"
   ]
  },
  {
   "cell_type": "code",
   "execution_count": 107,
   "id": "07786bff",
   "metadata": {
    "execution": {
     "iopub.execute_input": "2025-01-09T02:34:04.359966Z",
     "iopub.status.busy": "2025-01-09T02:34:04.359556Z",
     "iopub.status.idle": "2025-01-09T02:34:04.369825Z",
     "shell.execute_reply": "2025-01-09T02:34:04.368813Z"
    },
    "papermill": {
     "duration": 0.049779,
     "end_time": "2025-01-09T02:34:04.371399",
     "exception": false,
     "start_time": "2025-01-09T02:34:04.321620",
     "status": "completed"
    },
    "tags": []
   },
   "outputs": [
    {
     "data": {
      "text/html": [
       "<div>\n",
       "<style scoped>\n",
       "    .dataframe tbody tr th:only-of-type {\n",
       "        vertical-align: middle;\n",
       "    }\n",
       "\n",
       "    .dataframe tbody tr th {\n",
       "        vertical-align: top;\n",
       "    }\n",
       "\n",
       "    .dataframe thead th {\n",
       "        text-align: right;\n",
       "    }\n",
       "</style>\n",
       "<table border=\"1\" class=\"dataframe\">\n",
       "  <thead>\n",
       "    <tr style=\"text-align: right;\">\n",
       "      <th></th>\n",
       "      <th>emp_name</th>\n",
       "      <th>emp_age</th>\n",
       "      <th>emp_gender</th>\n",
       "      <th>emp_job</th>\n",
       "    </tr>\n",
       "  </thead>\n",
       "  <tbody>\n",
       "    <tr>\n",
       "      <th>0</th>\n",
       "      <td>alice</td>\n",
       "      <td>19</td>\n",
       "      <td>F</td>\n",
       "      <td>student</td>\n",
       "    </tr>\n",
       "    <tr>\n",
       "      <th>1</th>\n",
       "      <td>john</td>\n",
       "      <td>26</td>\n",
       "      <td>M</td>\n",
       "      <td>student</td>\n",
       "    </tr>\n",
       "    <tr>\n",
       "      <th>2</th>\n",
       "      <td>eric</td>\n",
       "      <td>22</td>\n",
       "      <td>M</td>\n",
       "      <td>student</td>\n",
       "    </tr>\n",
       "    <tr>\n",
       "      <th>3</th>\n",
       "      <td>paul</td>\n",
       "      <td>58</td>\n",
       "      <td>F</td>\n",
       "      <td>manager</td>\n",
       "    </tr>\n",
       "    <tr>\n",
       "      <th>4</th>\n",
       "      <td>peter</td>\n",
       "      <td>33</td>\n",
       "      <td>M</td>\n",
       "      <td>engineer</td>\n",
       "    </tr>\n",
       "    <tr>\n",
       "      <th>5</th>\n",
       "      <td>julie</td>\n",
       "      <td>44</td>\n",
       "      <td>F</td>\n",
       "      <td>scientist</td>\n",
       "    </tr>\n",
       "  </tbody>\n",
       "</table>\n",
       "</div>"
      ],
      "text/plain": [
       "  emp_name  emp_age emp_gender    emp_job\n",
       "0    alice       19          F    student\n",
       "1     john       26          M    student\n",
       "2     eric       22          M    student\n",
       "3     paul       58          F    manager\n",
       "4    peter       33          M   engineer\n",
       "5    julie       44          F  scientist"
      ]
     },
     "execution_count": 107,
     "metadata": {},
     "output_type": "execute_result"
    }
   ],
   "source": [
    "df = users.copy()\n",
    "df = df.rename(columns = {'name':'emp_name', 'age':'emp_age', 'gender':'emp_gender', 'job':'emp_job'})\n",
    "df"
   ]
  },
  {
   "cell_type": "code",
   "execution_count": 108,
   "id": "1c77a519",
   "metadata": {
    "execution": {
     "iopub.execute_input": "2025-01-09T02:34:04.447762Z",
     "iopub.status.busy": "2025-01-09T02:34:04.447399Z",
     "iopub.status.idle": "2025-01-09T02:34:04.457643Z",
     "shell.execute_reply": "2025-01-09T02:34:04.456642Z"
    },
    "papermill": {
     "duration": 0.050565,
     "end_time": "2025-01-09T02:34:04.459191",
     "exception": false,
     "start_time": "2025-01-09T02:34:04.408626",
     "status": "completed"
    },
    "tags": []
   },
   "outputs": [
    {
     "data": {
      "text/html": [
       "<div>\n",
       "<style scoped>\n",
       "    .dataframe tbody tr th:only-of-type {\n",
       "        vertical-align: middle;\n",
       "    }\n",
       "\n",
       "    .dataframe tbody tr th {\n",
       "        vertical-align: top;\n",
       "    }\n",
       "\n",
       "    .dataframe thead th {\n",
       "        text-align: right;\n",
       "    }\n",
       "</style>\n",
       "<table border=\"1\" class=\"dataframe\">\n",
       "  <thead>\n",
       "    <tr style=\"text-align: right;\">\n",
       "      <th></th>\n",
       "      <th>emp_name</th>\n",
       "      <th>age</th>\n",
       "      <th>emp_gender</th>\n",
       "      <th>job</th>\n",
       "    </tr>\n",
       "  </thead>\n",
       "  <tbody>\n",
       "    <tr>\n",
       "      <th>0</th>\n",
       "      <td>alice</td>\n",
       "      <td>19</td>\n",
       "      <td>F</td>\n",
       "      <td>student</td>\n",
       "    </tr>\n",
       "    <tr>\n",
       "      <th>1</th>\n",
       "      <td>john</td>\n",
       "      <td>26</td>\n",
       "      <td>M</td>\n",
       "      <td>student</td>\n",
       "    </tr>\n",
       "    <tr>\n",
       "      <th>2</th>\n",
       "      <td>eric</td>\n",
       "      <td>22</td>\n",
       "      <td>M</td>\n",
       "      <td>student</td>\n",
       "    </tr>\n",
       "    <tr>\n",
       "      <th>3</th>\n",
       "      <td>paul</td>\n",
       "      <td>58</td>\n",
       "      <td>F</td>\n",
       "      <td>manager</td>\n",
       "    </tr>\n",
       "    <tr>\n",
       "      <th>4</th>\n",
       "      <td>peter</td>\n",
       "      <td>33</td>\n",
       "      <td>M</td>\n",
       "      <td>engineer</td>\n",
       "    </tr>\n",
       "    <tr>\n",
       "      <th>5</th>\n",
       "      <td>julie</td>\n",
       "      <td>44</td>\n",
       "      <td>F</td>\n",
       "      <td>scientist</td>\n",
       "    </tr>\n",
       "  </tbody>\n",
       "</table>\n",
       "</div>"
      ],
      "text/plain": [
       "  emp_name  age emp_gender        job\n",
       "0    alice   19          F    student\n",
       "1     john   26          M    student\n",
       "2     eric   22          M    student\n",
       "3     paul   58          F    manager\n",
       "4    peter   33          M   engineer\n",
       "5    julie   44          F  scientist"
      ]
     },
     "execution_count": 108,
     "metadata": {},
     "output_type": "execute_result"
    }
   ],
   "source": [
    "df = users.copy()\n",
    "df = df.rename(columns = {'name':'emp_name', 'gender':'emp_gender'})\n",
    "df"
   ]
  },
  {
   "cell_type": "markdown",
   "id": "57cc20d9",
   "metadata": {
    "papermill": {
     "duration": 0.037436,
     "end_time": "2025-01-09T02:34:04.534073",
     "exception": false,
     "start_time": "2025-01-09T02:34:04.496637",
     "status": "completed"
    },
    "tags": []
   },
   "source": [
    "## **Group By on Data Frame**"
   ]
  },
  {
   "cell_type": "code",
   "execution_count": 109,
   "id": "bbf6f148",
   "metadata": {
    "execution": {
     "iopub.execute_input": "2025-01-09T02:34:04.609830Z",
     "iopub.status.busy": "2025-01-09T02:34:04.609416Z",
     "iopub.status.idle": "2025-01-09T02:34:04.618867Z",
     "shell.execute_reply": "2025-01-09T02:34:04.617896Z"
    },
    "papermill": {
     "duration": 0.049049,
     "end_time": "2025-01-09T02:34:04.620389",
     "exception": false,
     "start_time": "2025-01-09T02:34:04.571340",
     "status": "completed"
    },
    "tags": []
   },
   "outputs": [
    {
     "data": {
      "text/html": [
       "<div>\n",
       "<style scoped>\n",
       "    .dataframe tbody tr th:only-of-type {\n",
       "        vertical-align: middle;\n",
       "    }\n",
       "\n",
       "    .dataframe tbody tr th {\n",
       "        vertical-align: top;\n",
       "    }\n",
       "\n",
       "    .dataframe thead th {\n",
       "        text-align: right;\n",
       "    }\n",
       "</style>\n",
       "<table border=\"1\" class=\"dataframe\">\n",
       "  <thead>\n",
       "    <tr style=\"text-align: right;\">\n",
       "      <th></th>\n",
       "      <th>name</th>\n",
       "      <th>age</th>\n",
       "      <th>gender</th>\n",
       "      <th>job</th>\n",
       "    </tr>\n",
       "  </thead>\n",
       "  <tbody>\n",
       "    <tr>\n",
       "      <th>0</th>\n",
       "      <td>alice</td>\n",
       "      <td>19</td>\n",
       "      <td>F</td>\n",
       "      <td>student</td>\n",
       "    </tr>\n",
       "    <tr>\n",
       "      <th>1</th>\n",
       "      <td>john</td>\n",
       "      <td>26</td>\n",
       "      <td>M</td>\n",
       "      <td>student</td>\n",
       "    </tr>\n",
       "    <tr>\n",
       "      <th>2</th>\n",
       "      <td>eric</td>\n",
       "      <td>22</td>\n",
       "      <td>M</td>\n",
       "      <td>student</td>\n",
       "    </tr>\n",
       "    <tr>\n",
       "      <th>3</th>\n",
       "      <td>paul</td>\n",
       "      <td>58</td>\n",
       "      <td>F</td>\n",
       "      <td>manager</td>\n",
       "    </tr>\n",
       "    <tr>\n",
       "      <th>4</th>\n",
       "      <td>peter</td>\n",
       "      <td>33</td>\n",
       "      <td>M</td>\n",
       "      <td>engineer</td>\n",
       "    </tr>\n",
       "    <tr>\n",
       "      <th>5</th>\n",
       "      <td>julie</td>\n",
       "      <td>44</td>\n",
       "      <td>F</td>\n",
       "      <td>scientist</td>\n",
       "    </tr>\n",
       "  </tbody>\n",
       "</table>\n",
       "</div>"
      ],
      "text/plain": [
       "    name  age gender        job\n",
       "0  alice   19      F    student\n",
       "1   john   26      M    student\n",
       "2   eric   22      M    student\n",
       "3   paul   58      F    manager\n",
       "4  peter   33      M   engineer\n",
       "5  julie   44      F  scientist"
      ]
     },
     "execution_count": 109,
     "metadata": {},
     "output_type": "execute_result"
    }
   ],
   "source": [
    "df = users.copy()\n",
    "df"
   ]
  },
  {
   "cell_type": "code",
   "execution_count": 110,
   "id": "60d8b896",
   "metadata": {
    "execution": {
     "iopub.execute_input": "2025-01-09T02:34:04.700471Z",
     "iopub.status.busy": "2025-01-09T02:34:04.700107Z",
     "iopub.status.idle": "2025-01-09T02:34:04.717026Z",
     "shell.execute_reply": "2025-01-09T02:34:04.715876Z"
    },
    "papermill": {
     "duration": 0.057982,
     "end_time": "2025-01-09T02:34:04.718899",
     "exception": false,
     "start_time": "2025-01-09T02:34:04.660917",
     "status": "completed"
    },
    "tags": []
   },
   "outputs": [
    {
     "name": "stdout",
     "output_type": "stream",
     "text": [
      "<class 'str'> <class 'pandas.core.frame.DataFrame'>\n",
      "Group name: engineer\n",
      "    name  age gender       job\n",
      "4  peter   33      M  engineer\n",
      "<class 'str'> <class 'pandas.core.frame.DataFrame'>\n",
      "Group name: manager\n",
      "   name  age gender      job\n",
      "3  paul   58      F  manager\n",
      "<class 'str'> <class 'pandas.core.frame.DataFrame'>\n",
      "Group name: scientist\n",
      "    name  age gender        job\n",
      "5  julie   44      F  scientist\n",
      "<class 'str'> <class 'pandas.core.frame.DataFrame'>\n",
      "Group name: student\n",
      "    name  age gender      job\n",
      "0  alice   19      F  student\n",
      "1   john   26      M  student\n",
      "2   eric   22      M  student\n"
     ]
    }
   ],
   "source": [
    "for group, data_frame in users.groupby('job'):\n",
    "    print (type(group), type(data_frame))\n",
    "    print (\"Group name:\", group)\n",
    "    print (data_frame)"
   ]
  },
  {
   "cell_type": "code",
   "execution_count": 111,
   "id": "81e60396",
   "metadata": {
    "execution": {
     "iopub.execute_input": "2025-01-09T02:34:04.796073Z",
     "iopub.status.busy": "2025-01-09T02:34:04.795664Z",
     "iopub.status.idle": "2025-01-09T02:34:04.806885Z",
     "shell.execute_reply": "2025-01-09T02:34:04.806013Z"
    },
    "papermill": {
     "duration": 0.051324,
     "end_time": "2025-01-09T02:34:04.808477",
     "exception": false,
     "start_time": "2025-01-09T02:34:04.757153",
     "status": "completed"
    },
    "tags": []
   },
   "outputs": [
    {
     "name": "stdout",
     "output_type": "stream",
     "text": [
      "<class 'str'> <class 'pandas.core.frame.DataFrame'>\n",
      "Group name: F\n",
      "    name  age gender        job\n",
      "0  alice   19      F    student\n",
      "3   paul   58      F    manager\n",
      "5  julie   44      F  scientist\n",
      "<class 'str'> <class 'pandas.core.frame.DataFrame'>\n",
      "Group name: M\n",
      "    name  age gender       job\n",
      "1   john   26      M   student\n",
      "2   eric   22      M   student\n",
      "4  peter   33      M  engineer\n"
     ]
    }
   ],
   "source": [
    "for group, data_frame in users.groupby('gender'):\n",
    "    print (type(group), type(data_frame))\n",
    "    print (\"Group name:\", group)\n",
    "    print (data_frame)"
   ]
  },
  {
   "cell_type": "code",
   "execution_count": 112,
   "id": "0f57afd7",
   "metadata": {
    "execution": {
     "iopub.execute_input": "2025-01-09T02:34:04.887556Z",
     "iopub.status.busy": "2025-01-09T02:34:04.887187Z",
     "iopub.status.idle": "2025-01-09T02:34:04.908094Z",
     "shell.execute_reply": "2025-01-09T02:34:04.907146Z"
    },
    "papermill": {
     "duration": 0.062549,
     "end_time": "2025-01-09T02:34:04.909581",
     "exception": false,
     "start_time": "2025-01-09T02:34:04.847032",
     "status": "completed"
    },
    "tags": []
   },
   "outputs": [
    {
     "data": {
      "text/html": [
       "<div>\n",
       "<style scoped>\n",
       "    .dataframe tbody tr th:only-of-type {\n",
       "        vertical-align: middle;\n",
       "    }\n",
       "\n",
       "    .dataframe tbody tr th {\n",
       "        vertical-align: top;\n",
       "    }\n",
       "\n",
       "    .dataframe thead tr th {\n",
       "        text-align: left;\n",
       "    }\n",
       "\n",
       "    .dataframe thead tr:last-of-type th {\n",
       "        text-align: right;\n",
       "    }\n",
       "</style>\n",
       "<table border=\"1\" class=\"dataframe\">\n",
       "  <thead>\n",
       "    <tr>\n",
       "      <th></th>\n",
       "      <th colspan=\"4\" halign=\"left\">age</th>\n",
       "      <th>gender</th>\n",
       "    </tr>\n",
       "    <tr>\n",
       "      <th></th>\n",
       "      <th>sum</th>\n",
       "      <th>mean</th>\n",
       "      <th>max</th>\n",
       "      <th>min</th>\n",
       "      <th>count</th>\n",
       "    </tr>\n",
       "    <tr>\n",
       "      <th>job</th>\n",
       "      <th></th>\n",
       "      <th></th>\n",
       "      <th></th>\n",
       "      <th></th>\n",
       "      <th></th>\n",
       "    </tr>\n",
       "  </thead>\n",
       "  <tbody>\n",
       "    <tr>\n",
       "      <th>engineer</th>\n",
       "      <td>33</td>\n",
       "      <td>33.000000</td>\n",
       "      <td>33</td>\n",
       "      <td>33</td>\n",
       "      <td>1</td>\n",
       "    </tr>\n",
       "    <tr>\n",
       "      <th>manager</th>\n",
       "      <td>58</td>\n",
       "      <td>58.000000</td>\n",
       "      <td>58</td>\n",
       "      <td>58</td>\n",
       "      <td>1</td>\n",
       "    </tr>\n",
       "    <tr>\n",
       "      <th>scientist</th>\n",
       "      <td>44</td>\n",
       "      <td>44.000000</td>\n",
       "      <td>44</td>\n",
       "      <td>44</td>\n",
       "      <td>1</td>\n",
       "    </tr>\n",
       "    <tr>\n",
       "      <th>student</th>\n",
       "      <td>67</td>\n",
       "      <td>22.333333</td>\n",
       "      <td>26</td>\n",
       "      <td>19</td>\n",
       "      <td>3</td>\n",
       "    </tr>\n",
       "  </tbody>\n",
       "</table>\n",
       "</div>"
      ],
      "text/plain": [
       "          age                    gender\n",
       "          sum       mean max min  count\n",
       "job                                    \n",
       "engineer   33  33.000000  33  33      1\n",
       "manager    58  58.000000  58  58      1\n",
       "scientist  44  44.000000  44  44      1\n",
       "student    67  22.333333  26  19      3"
      ]
     },
     "execution_count": 112,
     "metadata": {},
     "output_type": "execute_result"
    }
   ],
   "source": [
    "grouped_df = df.groupby('job').agg({'age':['sum','mean','max','min'], 'gender':'count'})\n",
    "grouped_df"
   ]
  },
  {
   "cell_type": "code",
   "execution_count": 113,
   "id": "ce6cfda3",
   "metadata": {
    "execution": {
     "iopub.execute_input": "2025-01-09T02:34:04.988102Z",
     "iopub.status.busy": "2025-01-09T02:34:04.987654Z",
     "iopub.status.idle": "2025-01-09T02:34:05.004704Z",
     "shell.execute_reply": "2025-01-09T02:34:05.003796Z"
    },
    "papermill": {
     "duration": 0.058047,
     "end_time": "2025-01-09T02:34:05.006468",
     "exception": false,
     "start_time": "2025-01-09T02:34:04.948421",
     "status": "completed"
    },
    "tags": []
   },
   "outputs": [
    {
     "data": {
      "text/html": [
       "<div>\n",
       "<style scoped>\n",
       "    .dataframe tbody tr th:only-of-type {\n",
       "        vertical-align: middle;\n",
       "    }\n",
       "\n",
       "    .dataframe tbody tr th {\n",
       "        vertical-align: top;\n",
       "    }\n",
       "\n",
       "    .dataframe thead tr th {\n",
       "        text-align: left;\n",
       "    }\n",
       "\n",
       "    .dataframe thead tr:last-of-type th {\n",
       "        text-align: right;\n",
       "    }\n",
       "</style>\n",
       "<table border=\"1\" class=\"dataframe\">\n",
       "  <thead>\n",
       "    <tr>\n",
       "      <th></th>\n",
       "      <th colspan=\"4\" halign=\"left\">age</th>\n",
       "      <th>name</th>\n",
       "      <th>gender</th>\n",
       "    </tr>\n",
       "    <tr>\n",
       "      <th></th>\n",
       "      <th>sum</th>\n",
       "      <th>mean</th>\n",
       "      <th>max</th>\n",
       "      <th>min</th>\n",
       "      <th>count</th>\n",
       "      <th>count</th>\n",
       "    </tr>\n",
       "    <tr>\n",
       "      <th>gender</th>\n",
       "      <th></th>\n",
       "      <th></th>\n",
       "      <th></th>\n",
       "      <th></th>\n",
       "      <th></th>\n",
       "      <th></th>\n",
       "    </tr>\n",
       "  </thead>\n",
       "  <tbody>\n",
       "    <tr>\n",
       "      <th>F</th>\n",
       "      <td>121</td>\n",
       "      <td>40.333333</td>\n",
       "      <td>58</td>\n",
       "      <td>19</td>\n",
       "      <td>3</td>\n",
       "      <td>3</td>\n",
       "    </tr>\n",
       "    <tr>\n",
       "      <th>M</th>\n",
       "      <td>81</td>\n",
       "      <td>27.000000</td>\n",
       "      <td>33</td>\n",
       "      <td>22</td>\n",
       "      <td>3</td>\n",
       "      <td>3</td>\n",
       "    </tr>\n",
       "  </tbody>\n",
       "</table>\n",
       "</div>"
      ],
      "text/plain": [
       "        age                     name gender\n",
       "        sum       mean max min count  count\n",
       "gender                                     \n",
       "F       121  40.333333  58  19     3      3\n",
       "M        81  27.000000  33  22     3      3"
      ]
     },
     "execution_count": 113,
     "metadata": {},
     "output_type": "execute_result"
    }
   ],
   "source": [
    "grouped_df = df.groupby('gender').agg({'age':['sum','mean','max','min'], 'name':'count', 'gender':'count'})\n",
    "grouped_df"
   ]
  },
  {
   "cell_type": "markdown",
   "id": "1beb537e",
   "metadata": {
    "papermill": {
     "duration": 0.038909,
     "end_time": "2025-01-09T02:34:05.084549",
     "exception": false,
     "start_time": "2025-01-09T02:34:05.045640",
     "status": "completed"
    },
    "tags": []
   },
   "source": [
    "## **Reading Data on Data Frame from External Sources**"
   ]
  },
  {
   "cell_type": "code",
   "execution_count": 114,
   "id": "49621679",
   "metadata": {
    "execution": {
     "iopub.execute_input": "2025-01-09T02:34:05.163276Z",
     "iopub.status.busy": "2025-01-09T02:34:05.162913Z",
     "iopub.status.idle": "2025-01-09T02:34:05.169499Z",
     "shell.execute_reply": "2025-01-09T02:34:05.168499Z"
    },
    "papermill": {
     "duration": 0.047377,
     "end_time": "2025-01-09T02:34:05.171045",
     "exception": false,
     "start_time": "2025-01-09T02:34:05.123668",
     "status": "completed"
    },
    "tags": []
   },
   "outputs": [
    {
     "name": "stdout",
     "output_type": "stream",
     "text": [
      "Reading the external csv data file...\n",
      "File Access Error !!!\n",
      "Data File could not be read successfully...\n"
     ]
    }
   ],
   "source": [
    "try:\n",
    "    print(\"Reading the external csv data file...\")\n",
    "    # df = pd.read_csv(\"salary_table.csv\")\n",
    "    # df = pd.read_csv(\"C:\\\\Users\\Arnab\\AEC ML with Python Aug 2024\\salary_table.csv\")\n",
    "    # df = pd.read_csv(\"C:\\\\Users\\\\Arnab\\\\AEC ML with Python Aug 2024\\\\salary_table.csv\")\n",
    "    # df = pd.read_csv(\"C:/Users/Arnab/AEC ML with Python Aug 2024/salary_table.csv\")\n",
    "    # df = pd.read_csv(\"C://Users//Arnab//AEC ML with Python Aug 2024//salary_table.csv\")\n",
    "    # df = pd.read_csv(\"C://Users/Arnab\\\\AEC ML with Python Aug 2024\\salary_table.csv\")\n",
    "    df = pd.read_csv(\"./salary_table.csv\")\n",
    "except:\n",
    "    print(\"File Access Error !!!\")\n",
    "    print(\"Data File could not be read successfully...\")"
   ]
  },
  {
   "cell_type": "code",
   "execution_count": 115,
   "id": "6e743371",
   "metadata": {
    "execution": {
     "iopub.execute_input": "2025-01-09T02:34:05.249264Z",
     "iopub.status.busy": "2025-01-09T02:34:05.248907Z",
     "iopub.status.idle": "2025-01-09T02:34:05.258276Z",
     "shell.execute_reply": "2025-01-09T02:34:05.257316Z"
    },
    "papermill": {
     "duration": 0.050163,
     "end_time": "2025-01-09T02:34:05.259681",
     "exception": false,
     "start_time": "2025-01-09T02:34:05.209518",
     "status": "completed"
    },
    "tags": []
   },
   "outputs": [
    {
     "name": "stdout",
     "output_type": "stream",
     "text": [
      "(6, 4)\n"
     ]
    },
    {
     "data": {
      "text/html": [
       "<div>\n",
       "<style scoped>\n",
       "    .dataframe tbody tr th:only-of-type {\n",
       "        vertical-align: middle;\n",
       "    }\n",
       "\n",
       "    .dataframe tbody tr th {\n",
       "        vertical-align: top;\n",
       "    }\n",
       "\n",
       "    .dataframe thead th {\n",
       "        text-align: right;\n",
       "    }\n",
       "</style>\n",
       "<table border=\"1\" class=\"dataframe\">\n",
       "  <thead>\n",
       "    <tr style=\"text-align: right;\">\n",
       "      <th></th>\n",
       "      <th>name</th>\n",
       "      <th>age</th>\n",
       "      <th>gender</th>\n",
       "      <th>job</th>\n",
       "    </tr>\n",
       "  </thead>\n",
       "  <tbody>\n",
       "    <tr>\n",
       "      <th>0</th>\n",
       "      <td>alice</td>\n",
       "      <td>19</td>\n",
       "      <td>F</td>\n",
       "      <td>student</td>\n",
       "    </tr>\n",
       "    <tr>\n",
       "      <th>1</th>\n",
       "      <td>john</td>\n",
       "      <td>26</td>\n",
       "      <td>M</td>\n",
       "      <td>student</td>\n",
       "    </tr>\n",
       "    <tr>\n",
       "      <th>2</th>\n",
       "      <td>eric</td>\n",
       "      <td>22</td>\n",
       "      <td>M</td>\n",
       "      <td>student</td>\n",
       "    </tr>\n",
       "    <tr>\n",
       "      <th>3</th>\n",
       "      <td>paul</td>\n",
       "      <td>58</td>\n",
       "      <td>F</td>\n",
       "      <td>manager</td>\n",
       "    </tr>\n",
       "    <tr>\n",
       "      <th>4</th>\n",
       "      <td>peter</td>\n",
       "      <td>33</td>\n",
       "      <td>M</td>\n",
       "      <td>engineer</td>\n",
       "    </tr>\n",
       "  </tbody>\n",
       "</table>\n",
       "</div>"
      ],
      "text/plain": [
       "    name  age gender       job\n",
       "0  alice   19      F   student\n",
       "1   john   26      M   student\n",
       "2   eric   22      M   student\n",
       "3   paul   58      F   manager\n",
       "4  peter   33      M  engineer"
      ]
     },
     "execution_count": 115,
     "metadata": {},
     "output_type": "execute_result"
    }
   ],
   "source": [
    "print (df.shape)\n",
    "df.head()"
   ]
  },
  {
   "cell_type": "code",
   "execution_count": 116,
   "id": "e717bdcd",
   "metadata": {
    "execution": {
     "iopub.execute_input": "2025-01-09T02:34:05.338605Z",
     "iopub.status.busy": "2025-01-09T02:34:05.338256Z",
     "iopub.status.idle": "2025-01-09T02:34:05.368231Z",
     "shell.execute_reply": "2025-01-09T02:34:05.367181Z"
    },
    "papermill": {
     "duration": 0.071264,
     "end_time": "2025-01-09T02:34:05.369831",
     "exception": false,
     "start_time": "2025-01-09T02:34:05.298567",
     "status": "completed"
    },
    "tags": []
   },
   "outputs": [
    {
     "name": "stdout",
     "output_type": "stream",
     "text": [
      "Reading the external xlsx data file...\n",
      "File Access Error !!!\n",
      "Data File could not be read successfully...\n"
     ]
    }
   ],
   "source": [
    "try:\n",
    "    print(\"Reading the external xlsx data file...\")\n",
    "    df = pd.read_excel(\"./ONLINE RETAIL.xlsx\", sheet_name='Sheet2')\n",
    "except:\n",
    "    print(\"File Access Error !!!\")\n",
    "    print(\"Data File could not be read successfully...\")"
   ]
  },
  {
   "cell_type": "code",
   "execution_count": 117,
   "id": "bb17fa59",
   "metadata": {
    "execution": {
     "iopub.execute_input": "2025-01-09T02:34:05.449055Z",
     "iopub.status.busy": "2025-01-09T02:34:05.448673Z",
     "iopub.status.idle": "2025-01-09T02:34:05.458762Z",
     "shell.execute_reply": "2025-01-09T02:34:05.457828Z"
    },
    "papermill": {
     "duration": 0.051082,
     "end_time": "2025-01-09T02:34:05.460154",
     "exception": false,
     "start_time": "2025-01-09T02:34:05.409072",
     "status": "completed"
    },
    "tags": []
   },
   "outputs": [
    {
     "name": "stdout",
     "output_type": "stream",
     "text": [
      "(6, 4)\n"
     ]
    },
    {
     "data": {
      "text/html": [
       "<div>\n",
       "<style scoped>\n",
       "    .dataframe tbody tr th:only-of-type {\n",
       "        vertical-align: middle;\n",
       "    }\n",
       "\n",
       "    .dataframe tbody tr th {\n",
       "        vertical-align: top;\n",
       "    }\n",
       "\n",
       "    .dataframe thead th {\n",
       "        text-align: right;\n",
       "    }\n",
       "</style>\n",
       "<table border=\"1\" class=\"dataframe\">\n",
       "  <thead>\n",
       "    <tr style=\"text-align: right;\">\n",
       "      <th></th>\n",
       "      <th>name</th>\n",
       "      <th>age</th>\n",
       "      <th>gender</th>\n",
       "      <th>job</th>\n",
       "    </tr>\n",
       "  </thead>\n",
       "  <tbody>\n",
       "    <tr>\n",
       "      <th>0</th>\n",
       "      <td>alice</td>\n",
       "      <td>19</td>\n",
       "      <td>F</td>\n",
       "      <td>student</td>\n",
       "    </tr>\n",
       "    <tr>\n",
       "      <th>1</th>\n",
       "      <td>john</td>\n",
       "      <td>26</td>\n",
       "      <td>M</td>\n",
       "      <td>student</td>\n",
       "    </tr>\n",
       "    <tr>\n",
       "      <th>2</th>\n",
       "      <td>eric</td>\n",
       "      <td>22</td>\n",
       "      <td>M</td>\n",
       "      <td>student</td>\n",
       "    </tr>\n",
       "    <tr>\n",
       "      <th>3</th>\n",
       "      <td>paul</td>\n",
       "      <td>58</td>\n",
       "      <td>F</td>\n",
       "      <td>manager</td>\n",
       "    </tr>\n",
       "    <tr>\n",
       "      <th>4</th>\n",
       "      <td>peter</td>\n",
       "      <td>33</td>\n",
       "      <td>M</td>\n",
       "      <td>engineer</td>\n",
       "    </tr>\n",
       "  </tbody>\n",
       "</table>\n",
       "</div>"
      ],
      "text/plain": [
       "    name  age gender       job\n",
       "0  alice   19      F   student\n",
       "1   john   26      M   student\n",
       "2   eric   22      M   student\n",
       "3   paul   58      F   manager\n",
       "4  peter   33      M  engineer"
      ]
     },
     "execution_count": 117,
     "metadata": {},
     "output_type": "execute_result"
    }
   ],
   "source": [
    "print (df.shape)\n",
    "df.head()"
   ]
  },
  {
   "cell_type": "code",
   "execution_count": 118,
   "id": "236c46ea",
   "metadata": {
    "execution": {
     "iopub.execute_input": "2025-01-09T02:34:05.539571Z",
     "iopub.status.busy": "2025-01-09T02:34:05.539224Z",
     "iopub.status.idle": "2025-01-09T02:34:05.651243Z",
     "shell.execute_reply": "2025-01-09T02:34:05.649763Z"
    },
    "papermill": {
     "duration": 0.153623,
     "end_time": "2025-01-09T02:34:05.652741",
     "exception": true,
     "start_time": "2025-01-09T02:34:05.499118",
     "status": "failed"
    },
    "tags": []
   },
   "outputs": [
    {
     "ename": "KeyError",
     "evalue": "\"None of [Index(['INVOICENO', 'UNITPRICE', 'CUSTOMERID', 'COUNTRY'], dtype='object')] are in the [columns]\"",
     "output_type": "error",
     "traceback": [
      "\u001b[0;31m---------------------------------------------------------------------------\u001b[0m",
      "\u001b[0;31mKeyError\u001b[0m                                  Traceback (most recent call last)",
      "\u001b[0;32m<ipython-input-118-ee7d4734e09c>\u001b[0m in \u001b[0;36m<cell line: 2>\u001b[0;34m()\u001b[0m\n\u001b[1;32m      1\u001b[0m \u001b[0mdf1\u001b[0m \u001b[0;34m=\u001b[0m \u001b[0mdf\u001b[0m\u001b[0;34m.\u001b[0m\u001b[0mcopy\u001b[0m\u001b[0;34m(\u001b[0m\u001b[0;34m)\u001b[0m\u001b[0;34m\u001b[0m\u001b[0;34m\u001b[0m\u001b[0m\n\u001b[0;32m----> 2\u001b[0;31m \u001b[0mdf1\u001b[0m \u001b[0;34m=\u001b[0m \u001b[0mdf1\u001b[0m\u001b[0;34m[\u001b[0m\u001b[0;34m[\u001b[0m\u001b[0;34m\"INVOICENO\"\u001b[0m\u001b[0;34m,\u001b[0m \u001b[0;34m\"UNITPRICE\"\u001b[0m\u001b[0;34m,\u001b[0m \u001b[0;34m\"CUSTOMERID\"\u001b[0m\u001b[0;34m,\u001b[0m \u001b[0;34m\"COUNTRY\"\u001b[0m\u001b[0;34m]\u001b[0m\u001b[0;34m]\u001b[0m\u001b[0;34m\u001b[0m\u001b[0;34m\u001b[0m\u001b[0m\n\u001b[0m\u001b[1;32m      3\u001b[0m \u001b[0mdf1\u001b[0m\u001b[0;34m.\u001b[0m\u001b[0mhead\u001b[0m\u001b[0;34m(\u001b[0m\u001b[0;34m)\u001b[0m\u001b[0;34m\u001b[0m\u001b[0;34m\u001b[0m\u001b[0m\n",
      "\u001b[0;32m/usr/local/lib/python3.10/dist-packages/pandas/core/frame.py\u001b[0m in \u001b[0;36m__getitem__\u001b[0;34m(self, key)\u001b[0m\n\u001b[1;32m   3897\u001b[0m             \u001b[0;32mif\u001b[0m \u001b[0mis_iterator\u001b[0m\u001b[0;34m(\u001b[0m\u001b[0mkey\u001b[0m\u001b[0;34m)\u001b[0m\u001b[0;34m:\u001b[0m\u001b[0;34m\u001b[0m\u001b[0;34m\u001b[0m\u001b[0m\n\u001b[1;32m   3898\u001b[0m                 \u001b[0mkey\u001b[0m \u001b[0;34m=\u001b[0m \u001b[0mlist\u001b[0m\u001b[0;34m(\u001b[0m\u001b[0mkey\u001b[0m\u001b[0;34m)\u001b[0m\u001b[0;34m\u001b[0m\u001b[0;34m\u001b[0m\u001b[0m\n\u001b[0;32m-> 3899\u001b[0;31m             \u001b[0mindexer\u001b[0m \u001b[0;34m=\u001b[0m \u001b[0mself\u001b[0m\u001b[0;34m.\u001b[0m\u001b[0mcolumns\u001b[0m\u001b[0;34m.\u001b[0m\u001b[0m_get_indexer_strict\u001b[0m\u001b[0;34m(\u001b[0m\u001b[0mkey\u001b[0m\u001b[0;34m,\u001b[0m \u001b[0;34m\"columns\"\u001b[0m\u001b[0;34m)\u001b[0m\u001b[0;34m[\u001b[0m\u001b[0;36m1\u001b[0m\u001b[0;34m]\u001b[0m\u001b[0;34m\u001b[0m\u001b[0;34m\u001b[0m\u001b[0m\n\u001b[0m\u001b[1;32m   3900\u001b[0m \u001b[0;34m\u001b[0m\u001b[0m\n\u001b[1;32m   3901\u001b[0m         \u001b[0;31m# take() does not accept boolean indexers\u001b[0m\u001b[0;34m\u001b[0m\u001b[0;34m\u001b[0m\u001b[0m\n",
      "\u001b[0;32m/usr/local/lib/python3.10/dist-packages/pandas/core/indexes/base.py\u001b[0m in \u001b[0;36m_get_indexer_strict\u001b[0;34m(self, key, axis_name)\u001b[0m\n\u001b[1;32m   6113\u001b[0m             \u001b[0mkeyarr\u001b[0m\u001b[0;34m,\u001b[0m \u001b[0mindexer\u001b[0m\u001b[0;34m,\u001b[0m \u001b[0mnew_indexer\u001b[0m \u001b[0;34m=\u001b[0m \u001b[0mself\u001b[0m\u001b[0;34m.\u001b[0m\u001b[0m_reindex_non_unique\u001b[0m\u001b[0;34m(\u001b[0m\u001b[0mkeyarr\u001b[0m\u001b[0;34m)\u001b[0m\u001b[0;34m\u001b[0m\u001b[0;34m\u001b[0m\u001b[0m\n\u001b[1;32m   6114\u001b[0m \u001b[0;34m\u001b[0m\u001b[0m\n\u001b[0;32m-> 6115\u001b[0;31m         \u001b[0mself\u001b[0m\u001b[0;34m.\u001b[0m\u001b[0m_raise_if_missing\u001b[0m\u001b[0;34m(\u001b[0m\u001b[0mkeyarr\u001b[0m\u001b[0;34m,\u001b[0m \u001b[0mindexer\u001b[0m\u001b[0;34m,\u001b[0m \u001b[0maxis_name\u001b[0m\u001b[0;34m)\u001b[0m\u001b[0;34m\u001b[0m\u001b[0;34m\u001b[0m\u001b[0m\n\u001b[0m\u001b[1;32m   6116\u001b[0m \u001b[0;34m\u001b[0m\u001b[0m\n\u001b[1;32m   6117\u001b[0m         \u001b[0mkeyarr\u001b[0m \u001b[0;34m=\u001b[0m \u001b[0mself\u001b[0m\u001b[0;34m.\u001b[0m\u001b[0mtake\u001b[0m\u001b[0;34m(\u001b[0m\u001b[0mindexer\u001b[0m\u001b[0;34m)\u001b[0m\u001b[0;34m\u001b[0m\u001b[0;34m\u001b[0m\u001b[0m\n",
      "\u001b[0;32m/usr/local/lib/python3.10/dist-packages/pandas/core/indexes/base.py\u001b[0m in \u001b[0;36m_raise_if_missing\u001b[0;34m(self, key, indexer, axis_name)\u001b[0m\n\u001b[1;32m   6174\u001b[0m                 \u001b[0;32mif\u001b[0m \u001b[0muse_interval_msg\u001b[0m\u001b[0;34m:\u001b[0m\u001b[0;34m\u001b[0m\u001b[0;34m\u001b[0m\u001b[0m\n\u001b[1;32m   6175\u001b[0m                     \u001b[0mkey\u001b[0m \u001b[0;34m=\u001b[0m \u001b[0mlist\u001b[0m\u001b[0;34m(\u001b[0m\u001b[0mkey\u001b[0m\u001b[0;34m)\u001b[0m\u001b[0;34m\u001b[0m\u001b[0;34m\u001b[0m\u001b[0m\n\u001b[0;32m-> 6176\u001b[0;31m                 \u001b[0;32mraise\u001b[0m \u001b[0mKeyError\u001b[0m\u001b[0;34m(\u001b[0m\u001b[0;34mf\"None of [{key}] are in the [{axis_name}]\"\u001b[0m\u001b[0;34m)\u001b[0m\u001b[0;34m\u001b[0m\u001b[0;34m\u001b[0m\u001b[0m\n\u001b[0m\u001b[1;32m   6177\u001b[0m \u001b[0;34m\u001b[0m\u001b[0m\n\u001b[1;32m   6178\u001b[0m             \u001b[0mnot_found\u001b[0m \u001b[0;34m=\u001b[0m \u001b[0mlist\u001b[0m\u001b[0;34m(\u001b[0m\u001b[0mensure_index\u001b[0m\u001b[0;34m(\u001b[0m\u001b[0mkey\u001b[0m\u001b[0;34m)\u001b[0m\u001b[0;34m[\u001b[0m\u001b[0mmissing_mask\u001b[0m\u001b[0;34m.\u001b[0m\u001b[0mnonzero\u001b[0m\u001b[0;34m(\u001b[0m\u001b[0;34m)\u001b[0m\u001b[0;34m[\u001b[0m\u001b[0;36m0\u001b[0m\u001b[0;34m]\u001b[0m\u001b[0;34m]\u001b[0m\u001b[0;34m.\u001b[0m\u001b[0munique\u001b[0m\u001b[0;34m(\u001b[0m\u001b[0;34m)\u001b[0m\u001b[0;34m)\u001b[0m\u001b[0;34m\u001b[0m\u001b[0;34m\u001b[0m\u001b[0m\n",
      "\u001b[0;31mKeyError\u001b[0m: \"None of [Index(['INVOICENO', 'UNITPRICE', 'CUSTOMERID', 'COUNTRY'], dtype='object')] are in the [columns]\""
     ]
    }
   ],
   "source": [
    "df1 = df.copy()\n",
    "df1 = df1[[\"INVOICENO\", \"UNITPRICE\", \"CUSTOMERID\", \"COUNTRY\"]]\n",
    "df1.head()"
   ]
  },
  {
   "cell_type": "code",
   "execution_count": null,
   "id": "32ca526d",
   "metadata": {
    "papermill": {
     "duration": null,
     "end_time": null,
     "exception": null,
     "start_time": null,
     "status": "pending"
    },
    "tags": []
   },
   "outputs": [],
   "source": [
    "df1.drop(\"INVOICENO\", axis = 1, inplace=True)\n",
    "df1.head()"
   ]
  },
  {
   "cell_type": "code",
   "execution_count": null,
   "id": "1899f140",
   "metadata": {
    "papermill": {
     "duration": null,
     "end_time": null,
     "exception": null,
     "start_time": null,
     "status": "pending"
    },
    "tags": []
   },
   "outputs": [],
   "source": [
    "df1.insert(1, \"TAX\", df1.UNITPRICE * 0.10)\n",
    "df1.head()"
   ]
  },
  {
   "cell_type": "code",
   "execution_count": null,
   "id": "2aa7eafe",
   "metadata": {
    "papermill": {
     "duration": null,
     "end_time": null,
     "exception": null,
     "start_time": null,
     "status": "pending"
    },
    "tags": []
   },
   "outputs": [],
   "source": [
    "# Replacing COUNTRY Column values\n",
    "df1.COUNTRY.value_counts()"
   ]
  },
  {
   "cell_type": "code",
   "execution_count": null,
   "id": "435d9b99",
   "metadata": {
    "papermill": {
     "duration": null,
     "end_time": null,
     "exception": null,
     "start_time": null,
     "status": "pending"
    },
    "tags": []
   },
   "outputs": [],
   "source": [
    "df1['COUNTRY'].replace({\"France\":\"Fr\", \"United Kingdom\":\"UK\", \"Australia\":\"Aus\", \"Netherlands\":\"Ned\", \"Germany\":\"Ger\"}, inplace=True)\n",
    "df1.head()"
   ]
  },
  {
   "cell_type": "code",
   "execution_count": null,
   "id": "bb950326",
   "metadata": {
    "papermill": {
     "duration": null,
     "end_time": null,
     "exception": null,
     "start_time": null,
     "status": "pending"
    },
    "tags": []
   },
   "outputs": [],
   "source": [
    "df1['COUNTRY'].replace([\"Fr\",\"UK\",\"Aus\", \"Ned\",\"Ger\"], [\"France\", \"United Kingdom\", \"Australia\", \"Netherlands\", \"Germany\"], inplace=True)\n",
    "df1.head()"
   ]
  },
  {
   "cell_type": "code",
   "execution_count": null,
   "id": "8aaba2dc",
   "metadata": {
    "papermill": {
     "duration": null,
     "end_time": null,
     "exception": null,
     "start_time": null,
     "status": "pending"
    },
    "tags": []
   },
   "outputs": [],
   "source": [
    "# factorizing COUNTRY column values\n",
    "df1.insert(4, \"COUNTRY_CODE\", pd.factorize(df1[\"COUNTRY\"])[0])\n",
    "df1"
   ]
  },
  {
   "cell_type": "markdown",
   "id": "c363bf17",
   "metadata": {
    "papermill": {
     "duration": null,
     "end_time": null,
     "exception": null,
     "start_time": null,
     "status": "pending"
    },
    "tags": []
   },
   "source": [
    "## **Reading External Data File in Google Colab**"
   ]
  },
  {
   "cell_type": "code",
   "execution_count": null,
   "id": "1e83387c",
   "metadata": {
    "papermill": {
     "duration": null,
     "end_time": null,
     "exception": null,
     "start_time": null,
     "status": "pending"
    },
    "tags": []
   },
   "outputs": [],
   "source": [
    "# Strategy-1\n",
    "from google.colab import files\n",
    "uploaded = files.upload()"
   ]
  },
  {
   "cell_type": "code",
   "execution_count": null,
   "id": "27220bd4",
   "metadata": {
    "papermill": {
     "duration": null,
     "end_time": null,
     "exception": null,
     "start_time": null,
     "status": "pending"
    },
    "tags": []
   },
   "outputs": [],
   "source": [
    "import io\n",
    "import pandas as pd\n",
    "df1 = pd.read_csv(io.BytesIO(uploaded['salary_table.csv']))\n",
    "df1.head()"
   ]
  },
  {
   "cell_type": "code",
   "execution_count": null,
   "id": "2bc5c296",
   "metadata": {
    "papermill": {
     "duration": null,
     "end_time": null,
     "exception": null,
     "start_time": null,
     "status": "pending"
    },
    "tags": []
   },
   "outputs": [],
   "source": [
    "# Strategy-2\n",
    "from google.colab import drive\n",
    "drive.mount(\"/content/gdrive\")"
   ]
  },
  {
   "cell_type": "code",
   "execution_count": null,
   "id": "bc46f864",
   "metadata": {
    "papermill": {
     "duration": null,
     "end_time": null,
     "exception": null,
     "start_time": null,
     "status": "pending"
    },
    "tags": []
   },
   "outputs": [],
   "source": [
    "import pandas as pd\n",
    "df = pd.read_csv(\"/content/gdrive/My Drive/iris.csv\")\n",
    "print (df.shape)\n",
    "df.head()"
   ]
  },
  {
   "cell_type": "code",
   "execution_count": null,
   "id": "c40c5d43",
   "metadata": {
    "papermill": {
     "duration": null,
     "end_time": null,
     "exception": null,
     "start_time": null,
     "status": "pending"
    },
    "tags": []
   },
   "outputs": [],
   "source": [
    "# Strategy-3\n",
    "import pandas as pd\n",
    "df = pd.read_csv(\"/content/MyDataFile/iris.csv\")\n",
    "print(df.shape)\n",
    "df.head()"
   ]
  },
  {
   "cell_type": "markdown",
   "id": "d01f3cf4",
   "metadata": {
    "papermill": {
     "duration": null,
     "end_time": null,
     "exception": null,
     "start_time": null,
     "status": "pending"
    },
    "tags": []
   },
   "source": [
    "## **Data Visualization with Data Frame**"
   ]
  },
  {
   "cell_type": "code",
   "execution_count": null,
   "id": "1231be52",
   "metadata": {
    "papermill": {
     "duration": null,
     "end_time": null,
     "exception": null,
     "start_time": null,
     "status": "pending"
    },
    "tags": []
   },
   "outputs": [],
   "source": [
    "df = pd.read_csv(\"salary_table.csv\")\n",
    "print (df.shape)\n",
    "df.head()"
   ]
  },
  {
   "cell_type": "code",
   "execution_count": null,
   "id": "4578b413",
   "metadata": {
    "papermill": {
     "duration": null,
     "end_time": null,
     "exception": null,
     "start_time": null,
     "status": "pending"
    },
    "tags": []
   },
   "outputs": [],
   "source": [
    "df.describe().T"
   ]
  },
  {
   "cell_type": "code",
   "execution_count": null,
   "id": "640a47c4",
   "metadata": {
    "papermill": {
     "duration": null,
     "end_time": null,
     "exception": null,
     "start_time": null,
     "status": "pending"
    },
    "tags": []
   },
   "outputs": [],
   "source": [
    "df.plot()"
   ]
  },
  {
   "cell_type": "code",
   "execution_count": null,
   "id": "ea169c53",
   "metadata": {
    "papermill": {
     "duration": null,
     "end_time": null,
     "exception": null,
     "start_time": null,
     "status": "pending"
    },
    "tags": []
   },
   "outputs": [],
   "source": [
    "df['experience'].plot()"
   ]
  },
  {
   "cell_type": "code",
   "execution_count": null,
   "id": "e4bf028b",
   "metadata": {
    "papermill": {
     "duration": null,
     "end_time": null,
     "exception": null,
     "start_time": null,
     "status": "pending"
    },
    "tags": []
   },
   "outputs": [],
   "source": [
    "df.salary.plot()"
   ]
  },
  {
   "cell_type": "code",
   "execution_count": null,
   "id": "5f735377",
   "metadata": {
    "papermill": {
     "duration": null,
     "end_time": null,
     "exception": null,
     "start_time": null,
     "status": "pending"
    },
    "tags": []
   },
   "outputs": [],
   "source": [
    "df.plot.bar()"
   ]
  },
  {
   "cell_type": "code",
   "execution_count": null,
   "id": "af60d75e",
   "metadata": {
    "papermill": {
     "duration": null,
     "end_time": null,
     "exception": null,
     "start_time": null,
     "status": "pending"
    },
    "tags": []
   },
   "outputs": [],
   "source": [
    "df.experience.plot.bar()"
   ]
  },
  {
   "cell_type": "code",
   "execution_count": null,
   "id": "6370fa4d",
   "metadata": {
    "papermill": {
     "duration": null,
     "end_time": null,
     "exception": null,
     "start_time": null,
     "status": "pending"
    },
    "tags": []
   },
   "outputs": [],
   "source": [
    "df.plot.hist()"
   ]
  },
  {
   "cell_type": "code",
   "execution_count": null,
   "id": "33330f7f",
   "metadata": {
    "papermill": {
     "duration": null,
     "end_time": null,
     "exception": null,
     "start_time": null,
     "status": "pending"
    },
    "tags": []
   },
   "outputs": [],
   "source": [
    "df.experience.plot.hist()"
   ]
  },
  {
   "cell_type": "code",
   "execution_count": null,
   "id": "169e9dd0",
   "metadata": {
    "papermill": {
     "duration": null,
     "end_time": null,
     "exception": null,
     "start_time": null,
     "status": "pending"
    },
    "tags": []
   },
   "outputs": [],
   "source": [
    "df.plot.line()"
   ]
  },
  {
   "cell_type": "code",
   "execution_count": null,
   "id": "c06d32ad",
   "metadata": {
    "papermill": {
     "duration": null,
     "end_time": null,
     "exception": null,
     "start_time": null,
     "status": "pending"
    },
    "tags": []
   },
   "outputs": [],
   "source": [
    "df.experience.plot.line()"
   ]
  },
  {
   "cell_type": "code",
   "execution_count": null,
   "id": "d33dda04",
   "metadata": {
    "papermill": {
     "duration": null,
     "end_time": null,
     "exception": null,
     "start_time": null,
     "status": "pending"
    },
    "tags": []
   },
   "outputs": [],
   "source": [
    "df.salary.head(10).plot.pie()"
   ]
  },
  {
   "cell_type": "code",
   "execution_count": null,
   "id": "9c3a71e3",
   "metadata": {
    "papermill": {
     "duration": null,
     "end_time": null,
     "exception": null,
     "start_time": null,
     "status": "pending"
    },
    "tags": []
   },
   "outputs": [],
   "source": [
    "df.salary.head(10).plot.pie(autopct = \"%.2f\")"
   ]
  },
  {
   "cell_type": "code",
   "execution_count": null,
   "id": "68ab67d0",
   "metadata": {
    "papermill": {
     "duration": null,
     "end_time": null,
     "exception": null,
     "start_time": null,
     "status": "pending"
    },
    "tags": []
   },
   "outputs": [],
   "source": [
    "df.plot(kind = \"scatter\", x = \"experience\", y = \"salary\", s = 40,\n",
    "       title = \"Experience (in years) vs. Salary (in INR)...\")"
   ]
  },
  {
   "cell_type": "code",
   "execution_count": null,
   "id": "f52b375f",
   "metadata": {
    "papermill": {
     "duration": null,
     "end_time": null,
     "exception": null,
     "start_time": null,
     "status": "pending"
    },
    "tags": []
   },
   "outputs": [],
   "source": []
  }
 ],
 "metadata": {
  "kaggle": {
   "accelerator": "none",
   "dataSources": [],
   "isGpuEnabled": false,
   "isInternetEnabled": true,
   "language": "python",
   "sourceType": "notebook"
  },
  "kernelspec": {
   "display_name": "Python 3 (ipykernel)",
   "language": "python",
   "name": "python3"
  },
  "language_info": {
   "codemirror_mode": {
    "name": "ipython",
    "version": 3
   },
   "file_extension": ".py",
   "mimetype": "text/x-python",
   "name": "python",
   "nbconvert_exporter": "python",
   "pygments_lexer": "ipython3",
   "version": "3.10.12"
  },
  "papermill": {
   "default_parameters": {},
   "duration": 12.714476,
   "end_time": "2025-01-09T02:34:06.211485",
   "environment_variables": {},
   "exception": true,
   "input_path": "__notebook__.ipynb",
   "output_path": "__notebook__.ipynb",
   "parameters": {},
   "start_time": "2025-01-09T02:33:53.497009",
   "version": "2.6.0"
  }
 },
 "nbformat": 4,
 "nbformat_minor": 5
}
